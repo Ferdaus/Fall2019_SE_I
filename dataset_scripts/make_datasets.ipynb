{
 "cells": [
  {
   "cell_type": "markdown",
   "metadata": {},
   "source": [
    "# Make datasets of different configurations\n"
   ]
  },
  {
   "cell_type": "code",
   "execution_count": 42,
   "metadata": {},
   "outputs": [
    {
     "name": "stdin",
     "output_type": "stream",
     "text": [
      "Once deleted, variables cannot be recovered. Proceed (y/[n])?  y\n"
     ]
    }
   ],
   "source": [
    "%reset"
   ]
  },
  {
   "cell_type": "code",
   "execution_count": 1,
   "metadata": {},
   "outputs": [],
   "source": [
    "import os\n",
    "import glob\n",
    "import shutil\n",
    "from random import shuffle\n",
    "\n",
    "# from IPython.core.interactiveshell import InteractiveShell\n",
    "# InteractiveShell.ast_node_interactivity = 'all'"
   ]
  },
  {
   "cell_type": "code",
   "execution_count": 2,
   "metadata": {},
   "outputs": [],
   "source": [
    "def joinpath(first, second):\n",
    "    return os.path.join(first, second)"
   ]
  },
  {
   "cell_type": "code",
   "execution_count": 3,
   "metadata": {},
   "outputs": [],
   "source": [
    "selfie_datasets_path = '/disks/data/datasets/selfie_project/selfie_dataset/'\n",
    "\n",
    "selfie_path_mubarak = joinpath(selfie_datasets_path, 'selfie/selfie_mshah')\n",
    "selfie_path_flickr = joinpath(selfie_datasets_path, 'selfie/selfie-shots_group_flickr')\n",
    "\n",
    "non_selfie_path = joinpath(selfie_datasets_path, 'non_selfie')\n",
    "\n",
    "new_dataset_path_base = joinpath(selfie_datasets_path, 'selfie_dataset_versions/')"
   ]
  },
  {
   "cell_type": "code",
   "execution_count": 4,
   "metadata": {},
   "outputs": [],
   "source": [
    "os.makedirs(new_dataset_path_base, exist_ok = True)"
   ]
  },
  {
   "cell_type": "code",
   "execution_count": 5,
   "metadata": {},
   "outputs": [],
   "source": [
    "selfie_files_mshah = glob.glob(os.path.join(selfie_path_mubarak,'**/*.jpg'), recursive=True)\n",
    "selfie_files_flickr = glob.glob(os.path.join(selfie_path_flickr,'**/*.jpg'), recursive=True)\n",
    "selfie_files = selfie_files_mshah[:] + selfie_files_flickr\n",
    "\n",
    "non_selfie_files = glob.glob(os.path.join(non_selfie_path,'**/*.jpg'), recursive=True)"
   ]
  },
  {
   "cell_type": "code",
   "execution_count": 8,
   "metadata": {},
   "outputs": [
    {
     "data": {
      "text/plain": [
       "46836"
      ]
     },
     "execution_count": 8,
     "metadata": {},
     "output_type": "execute_result"
    }
   ],
   "source": [
    "len(selfie_files_mshah)"
   ]
  },
  {
   "cell_type": "code",
   "execution_count": 9,
   "metadata": {},
   "outputs": [
    {
     "data": {
      "text/plain": [
       "9219"
      ]
     },
     "execution_count": 9,
     "metadata": {},
     "output_type": "execute_result"
    }
   ],
   "source": [
    "len(selfie_files_flickr)"
   ]
  },
  {
   "cell_type": "code",
   "execution_count": 10,
   "metadata": {},
   "outputs": [
    {
     "data": {
      "text/plain": [
       "56055"
      ]
     },
     "execution_count": 10,
     "metadata": {},
     "output_type": "execute_result"
    }
   ],
   "source": [
    "len(selfie_files)"
   ]
  },
  {
   "cell_type": "code",
   "execution_count": 11,
   "metadata": {},
   "outputs": [
    {
     "data": {
      "text/plain": [
       "52818"
      ]
     },
     "execution_count": 11,
     "metadata": {},
     "output_type": "execute_result"
    }
   ],
   "source": [
    "len(non_selfie_files)"
   ]
  },
  {
   "cell_type": "code",
   "execution_count": null,
   "metadata": {},
   "outputs": [],
   "source": []
  },
  {
   "cell_type": "markdown",
   "metadata": {},
   "source": [
    "## --------------------------------------------------------------------------------------------\n",
    "## FastAI requires images from the classes are within the corresponding directories without any sub-directories\n",
    "## --------------------------------------------------------------------------------------------"
   ]
  },
  {
   "cell_type": "markdown",
   "metadata": {},
   "source": [
    "## Make configurations consisting of randomly selected images of different numbers"
   ]
  },
  {
   "cell_type": "code",
   "execution_count": 10,
   "metadata": {},
   "outputs": [
    {
     "name": "stdout",
     "output_type": "stream",
     "text": [
      "Done creating 20k\n",
      "Done creating 40k\n",
      "Done creating 60k\n",
      "Done creating 80k\n",
      "Done creating 100k\n"
     ]
    }
   ],
   "source": [
    "# InteractiveShell.ast_node_interactivity = 'last'\n",
    "configs = { '20k':20000, '40k':40000, '60k':60000, '80k':80000, '100k':100000}\n",
    "\n",
    "shuffle(selfie_files)\n",
    "shuffle(non_selfie_files)\n",
    "\n",
    "for config in configs:\n",
    "    selfie_img_new_path = joinpath(new_dataset_path_base + config,'selfie')\n",
    "    os.makedirs(selfie_img_new_path, exist_ok= True)\n",
    "    \n",
    "    for filepath in selfie_files[:int(configs[config]//2)]:\n",
    "        _, filename = os.path.split(filepath)\n",
    "        shutil.copyfile(filepath,joinpath(selfie_img_new_path,filename))\n",
    "        \n",
    "    non_selfie_img_new_path = joinpath(new_dataset_path_base + config,'non_selfie')\n",
    "    os.makedirs(non_selfie_img_new_path, exist_ok= True)\n",
    "        \n",
    "    for filepath in non_selfie_files[:int(configs[config]//2)]:\n",
    "        _, filename = os.path.split(filepath)\n",
    "        shutil.copyfile(filepath, joinpath(non_selfie_img_new_path,filename))\n",
    "        \n",
    "    print(f'Done creating {config}')    "
   ]
  },
  {
   "cell_type": "markdown",
   "metadata": {},
   "source": [
    "### Make configurations consisting of:\n",
    "### 1. Flickr selfie and Flickr non-selfie (18k)\n",
    "### 2. Instagram selfie and Flickr non-selfie (90k) ... compares to the previous paper"
   ]
  },
  {
   "cell_type": "code",
   "execution_count": 12,
   "metadata": {},
   "outputs": [],
   "source": [
    "# InteractiveShell.ast_node_interactivity = 'last'\n",
    "configs = { 'Instagram': 90000, 'Flickr':18000}\n",
    "\n",
    "for config in configs:\n",
    "        \n",
    "    non_selfie_img_new_path = joinpath(new_dataset_path_base + config,'non_selfie')\n",
    "    os.makedirs(non_selfie_img_new_path, exist_ok= True)\n",
    "        \n",
    "    for filepath in non_selfie_files[:int(configs[config]//2)]:\n",
    "        _, filename = os.path.split(filepath)\n",
    "        shutil.copyfile(filepath, joinpath(non_selfie_img_new_path,filename))\n",
    "            "
   ]
  },
  {
   "cell_type": "code",
   "execution_count": 13,
   "metadata": {},
   "outputs": [],
   "source": [
    "config = 'Instagram'    \n",
    "\n",
    "selfie_img_new_path = joinpath(new_dataset_path_base + config,'selfie')\n",
    "os.makedirs(selfie_img_new_path, exist_ok= True)\n",
    "\n",
    "\n",
    "for filepath in selfie_files_mshah[:int(configs[config]//2)]:\n",
    "    _, filename = os.path.split(filepath)\n",
    "    shutil.copyfile(filepath,joinpath(selfie_img_new_path,filename))\n",
    "    \n",
    "    \n",
    "config = 'Flickr'    \n",
    "\n",
    "selfie_img_new_path = joinpath(new_dataset_path_base + config,'selfie')\n",
    "os.makedirs(selfie_img_new_path, exist_ok= True)\n",
    "\n",
    "\n",
    "for filepath in selfie_files_flickr[:int(configs[config]//2)]:\n",
    "    _, filename = os.path.split(filepath)\n",
    "    shutil.copyfile(filepath,joinpath(selfie_img_new_path,filename))\n"
   ]
  },
  {
   "cell_type": "code",
   "execution_count": null,
   "metadata": {},
   "outputs": [],
   "source": []
  },
  {
   "cell_type": "code",
   "execution_count": null,
   "metadata": {},
   "outputs": [],
   "source": []
  },
  {
   "cell_type": "code",
   "execution_count": null,
   "metadata": {},
   "outputs": [],
   "source": []
  }
 ],
 "metadata": {
  "kernelspec": {
   "display_name": "Python 3",
   "language": "python",
   "name": "python3"
  },
  "language_info": {
   "codemirror_mode": {
    "name": "ipython",
    "version": 3
   },
   "file_extension": ".py",
   "mimetype": "text/x-python",
   "name": "python",
   "nbconvert_exporter": "python",
   "pygments_lexer": "ipython3",
   "version": "3.7.1"
  }
 },
 "nbformat": 4,
 "nbformat_minor": 2
}
