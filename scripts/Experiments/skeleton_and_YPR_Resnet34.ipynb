{
 "cells": [
  {
   "cell_type": "code",
   "execution_count": 1,
   "metadata": {},
   "outputs": [],
   "source": [
    "from fastai.vision import *\n",
    "from sklearn.model_selection import StratifiedKFold\n",
    "from fastai.callbacks import *\n",
    "from fastai.tabular import *"
   ]
  },
  {
   "cell_type": "code",
   "execution_count": 21,
   "metadata": {},
   "outputs": [],
   "source": [
    "csv_path = '/disks/data/paper_projects/selfie_detection/data/DS_224_all_features_no_duplicates/color_skeleton+ypr/'\n",
    "image_path = '/disks/data/paper_projects/selfie_detection/data/DS_224_all_features_no_duplicates/color_skeleton/skeleton/'\n",
    "\n",
    "class_names = ['selfie', 'non_selfie', 'mirror_selfie', 'non_mirror_selfie']\n",
    "\n",
    "class_dataframes = {}\n",
    "\n",
    "for class_name in class_names:\n",
    "    csv = pd.read_csv(csv_path+class_name+'.csv')\n",
    "    csv.insert(0, column = 'class_label',value = len(csv.index)*[f\"{class_name}\"])\n",
    "    csv['path'] = csv.class_label + '/' + csv.filename\n",
    "    csv = csv.drop(['filename'], axis = 1)\n",
    "    class_dataframes[class_name] = csv"
   ]
  },
  {
   "cell_type": "code",
   "execution_count": 22,
   "metadata": {},
   "outputs": [
    {
     "data": {
      "text/plain": [
       "[(1789, 10), (1260, 10), (1266, 10), (1439, 10)]"
      ]
     },
     "execution_count": 22,
     "metadata": {},
     "output_type": "execute_result"
    }
   ],
   "source": [
    "[class_dataframe.shape for _, class_dataframe in class_dataframes.items()] "
   ]
  },
  {
   "cell_type": "code",
   "execution_count": 23,
   "metadata": {},
   "outputs": [
    {
     "data": {
      "text/plain": [
       "dict_keys(['selfie', 'non_selfie', 'mirror_selfie', 'non_mirror_selfie'])"
      ]
     },
     "execution_count": 23,
     "metadata": {},
     "output_type": "execute_result"
    }
   ],
   "source": [
    "class_dataframes.keys()"
   ]
  },
  {
   "cell_type": "code",
   "execution_count": 24,
   "metadata": {},
   "outputs": [
    {
     "data": {
      "text/plain": [
       "(1439, 10)"
      ]
     },
     "execution_count": 24,
     "metadata": {},
     "output_type": "execute_result"
    }
   ],
   "source": [
    "class_dataframes[class_names[3]].shape"
   ]
  },
  {
   "cell_type": "code",
   "execution_count": 25,
   "metadata": {},
   "outputs": [
    {
     "name": "stdout",
     "output_type": "stream",
     "text": [
      "(1260, 10)\n"
     ]
    }
   ],
   "source": [
    "selfie_df = class_dataframes['selfie'].sample(n=len(class_dataframes['non_selfie'].index), replace=False, random_state=4, axis=0)\n",
    "\n",
    "print(selfie_df.shape)\n",
    "#newdf = class_dataframes['selfie'].copy().append(class_dataframes['non_selfie'])\n",
    "newdf = selfie_df.append(class_dataframes['non_selfie'])"
   ]
  },
  {
   "cell_type": "code",
   "execution_count": 26,
   "metadata": {},
   "outputs": [
    {
     "name": "stdout",
     "output_type": "stream",
     "text": [
      "(2520, 10)\n"
     ]
    },
    {
     "data": {
      "text/html": [
       "<div>\n",
       "<style scoped>\n",
       "    .dataframe tbody tr th:only-of-type {\n",
       "        vertical-align: middle;\n",
       "    }\n",
       "\n",
       "    .dataframe tbody tr th {\n",
       "        vertical-align: top;\n",
       "    }\n",
       "\n",
       "    .dataframe thead th {\n",
       "        text-align: right;\n",
       "    }\n",
       "</style>\n",
       "<table border=\"1\" class=\"dataframe\">\n",
       "  <thead>\n",
       "    <tr style=\"text-align: right;\">\n",
       "      <th></th>\n",
       "      <th>class_label</th>\n",
       "      <th>x_min</th>\n",
       "      <th>y_min</th>\n",
       "      <th>x_max</th>\n",
       "      <th>y_max</th>\n",
       "      <th>confidence_score</th>\n",
       "      <th>yaw</th>\n",
       "      <th>pitch</th>\n",
       "      <th>roll</th>\n",
       "      <th>path</th>\n",
       "    </tr>\n",
       "  </thead>\n",
       "  <tbody>\n",
       "    <tr>\n",
       "      <th>1255</th>\n",
       "      <td>selfie</td>\n",
       "      <td>138.125977</td>\n",
       "      <td>0.584160</td>\n",
       "      <td>258.079865</td>\n",
       "      <td>140.086243</td>\n",
       "      <td>NaN</td>\n",
       "      <td>-0.641205</td>\n",
       "      <td>-4.237106</td>\n",
       "      <td>-0.695053</td>\n",
       "      <td>selfie/bing_selfie_pastmonth_000387.jpg_im_ske...</td>\n",
       "    </tr>\n",
       "    <tr>\n",
       "      <th>1758</th>\n",
       "      <td>selfie</td>\n",
       "      <td>80.503311</td>\n",
       "      <td>81.839630</td>\n",
       "      <td>205.567429</td>\n",
       "      <td>242.020813</td>\n",
       "      <td>NaN</td>\n",
       "      <td>-1.656120</td>\n",
       "      <td>-22.516785</td>\n",
       "      <td>-5.354843</td>\n",
       "      <td>selfie/selfie_mshah_0000260.jpg_im_skeleton.jpg</td>\n",
       "    </tr>\n",
       "    <tr>\n",
       "      <th>1226</th>\n",
       "      <td>selfie</td>\n",
       "      <td>96.760376</td>\n",
       "      <td>37.433884</td>\n",
       "      <td>217.585358</td>\n",
       "      <td>203.770584</td>\n",
       "      <td>NaN</td>\n",
       "      <td>-7.906647</td>\n",
       "      <td>3.850571</td>\n",
       "      <td>5.562355</td>\n",
       "      <td>selfie/selfie_mshah_0003528.jpg_im_skeleton.jpg</td>\n",
       "    </tr>\n",
       "    <tr>\n",
       "      <th>554</th>\n",
       "      <td>selfie</td>\n",
       "      <td>90.119972</td>\n",
       "      <td>78.243149</td>\n",
       "      <td>234.852600</td>\n",
       "      <td>271.807312</td>\n",
       "      <td>NaN</td>\n",
       "      <td>6.548569</td>\n",
       "      <td>0.761742</td>\n",
       "      <td>6.543167</td>\n",
       "      <td>selfie/selfie_mshah_0038357.jpg_im_skeleton.jpg</td>\n",
       "    </tr>\n",
       "    <tr>\n",
       "      <th>230</th>\n",
       "      <td>selfie</td>\n",
       "      <td>94.707085</td>\n",
       "      <td>74.440269</td>\n",
       "      <td>213.292572</td>\n",
       "      <td>216.627594</td>\n",
       "      <td>NaN</td>\n",
       "      <td>3.877739</td>\n",
       "      <td>6.659058</td>\n",
       "      <td>0.466476</td>\n",
       "      <td>selfie/selfie_tag_11316283405_d8fd776a2b_c.jpg...</td>\n",
       "    </tr>\n",
       "  </tbody>\n",
       "</table>\n",
       "</div>"
      ],
      "text/plain": [
       "     class_label       x_min      y_min       x_max       y_max  \\\n",
       "1255      selfie  138.125977   0.584160  258.079865  140.086243   \n",
       "1758      selfie   80.503311  81.839630  205.567429  242.020813   \n",
       "1226      selfie   96.760376  37.433884  217.585358  203.770584   \n",
       "554       selfie   90.119972  78.243149  234.852600  271.807312   \n",
       "230       selfie   94.707085  74.440269  213.292572  216.627594   \n",
       "\n",
       "      confidence_score       yaw      pitch      roll  \\\n",
       "1255               NaN -0.641205  -4.237106 -0.695053   \n",
       "1758               NaN -1.656120 -22.516785 -5.354843   \n",
       "1226               NaN -7.906647   3.850571  5.562355   \n",
       "554                NaN  6.548569   0.761742  6.543167   \n",
       "230                NaN  3.877739   6.659058  0.466476   \n",
       "\n",
       "                                                   path  \n",
       "1255  selfie/bing_selfie_pastmonth_000387.jpg_im_ske...  \n",
       "1758    selfie/selfie_mshah_0000260.jpg_im_skeleton.jpg  \n",
       "1226    selfie/selfie_mshah_0003528.jpg_im_skeleton.jpg  \n",
       "554     selfie/selfie_mshah_0038357.jpg_im_skeleton.jpg  \n",
       "230   selfie/selfie_tag_11316283405_d8fd776a2b_c.jpg...  "
      ]
     },
     "execution_count": 26,
     "metadata": {},
     "output_type": "execute_result"
    }
   ],
   "source": [
    "print(newdf.shape)\n",
    "newdf.head()"
   ]
  },
  {
   "cell_type": "code",
   "execution_count": 27,
   "metadata": {},
   "outputs": [],
   "source": [
    "newdf.path.replace('_im_skeleton','_skeleton', inplace = True, regex = True)"
   ]
  },
  {
   "cell_type": "code",
   "execution_count": 28,
   "metadata": {},
   "outputs": [
    {
     "data": {
      "text/html": [
       "<div>\n",
       "<style scoped>\n",
       "    .dataframe tbody tr th:only-of-type {\n",
       "        vertical-align: middle;\n",
       "    }\n",
       "\n",
       "    .dataframe tbody tr th {\n",
       "        vertical-align: top;\n",
       "    }\n",
       "\n",
       "    .dataframe thead th {\n",
       "        text-align: right;\n",
       "    }\n",
       "</style>\n",
       "<table border=\"1\" class=\"dataframe\">\n",
       "  <thead>\n",
       "    <tr style=\"text-align: right;\">\n",
       "      <th></th>\n",
       "      <th>class_label</th>\n",
       "      <th>x_min</th>\n",
       "      <th>y_min</th>\n",
       "      <th>x_max</th>\n",
       "      <th>y_max</th>\n",
       "      <th>confidence_score</th>\n",
       "      <th>yaw</th>\n",
       "      <th>pitch</th>\n",
       "      <th>roll</th>\n",
       "      <th>path</th>\n",
       "    </tr>\n",
       "  </thead>\n",
       "  <tbody>\n",
       "    <tr>\n",
       "      <th>1255</th>\n",
       "      <td>selfie</td>\n",
       "      <td>138.125977</td>\n",
       "      <td>0.584160</td>\n",
       "      <td>258.079865</td>\n",
       "      <td>140.086243</td>\n",
       "      <td>NaN</td>\n",
       "      <td>-0.641205</td>\n",
       "      <td>-4.237106</td>\n",
       "      <td>-0.695053</td>\n",
       "      <td>selfie/bing_selfie_pastmonth_000387.jpg_skelet...</td>\n",
       "    </tr>\n",
       "    <tr>\n",
       "      <th>1758</th>\n",
       "      <td>selfie</td>\n",
       "      <td>80.503311</td>\n",
       "      <td>81.839630</td>\n",
       "      <td>205.567429</td>\n",
       "      <td>242.020813</td>\n",
       "      <td>NaN</td>\n",
       "      <td>-1.656120</td>\n",
       "      <td>-22.516785</td>\n",
       "      <td>-5.354843</td>\n",
       "      <td>selfie/selfie_mshah_0000260.jpg_skeleton.jpg</td>\n",
       "    </tr>\n",
       "    <tr>\n",
       "      <th>1226</th>\n",
       "      <td>selfie</td>\n",
       "      <td>96.760376</td>\n",
       "      <td>37.433884</td>\n",
       "      <td>217.585358</td>\n",
       "      <td>203.770584</td>\n",
       "      <td>NaN</td>\n",
       "      <td>-7.906647</td>\n",
       "      <td>3.850571</td>\n",
       "      <td>5.562355</td>\n",
       "      <td>selfie/selfie_mshah_0003528.jpg_skeleton.jpg</td>\n",
       "    </tr>\n",
       "    <tr>\n",
       "      <th>554</th>\n",
       "      <td>selfie</td>\n",
       "      <td>90.119972</td>\n",
       "      <td>78.243149</td>\n",
       "      <td>234.852600</td>\n",
       "      <td>271.807312</td>\n",
       "      <td>NaN</td>\n",
       "      <td>6.548569</td>\n",
       "      <td>0.761742</td>\n",
       "      <td>6.543167</td>\n",
       "      <td>selfie/selfie_mshah_0038357.jpg_skeleton.jpg</td>\n",
       "    </tr>\n",
       "    <tr>\n",
       "      <th>230</th>\n",
       "      <td>selfie</td>\n",
       "      <td>94.707085</td>\n",
       "      <td>74.440269</td>\n",
       "      <td>213.292572</td>\n",
       "      <td>216.627594</td>\n",
       "      <td>NaN</td>\n",
       "      <td>3.877739</td>\n",
       "      <td>6.659058</td>\n",
       "      <td>0.466476</td>\n",
       "      <td>selfie/selfie_tag_11316283405_d8fd776a2b_c.jpg...</td>\n",
       "    </tr>\n",
       "  </tbody>\n",
       "</table>\n",
       "</div>"
      ],
      "text/plain": [
       "     class_label       x_min      y_min       x_max       y_max  \\\n",
       "1255      selfie  138.125977   0.584160  258.079865  140.086243   \n",
       "1758      selfie   80.503311  81.839630  205.567429  242.020813   \n",
       "1226      selfie   96.760376  37.433884  217.585358  203.770584   \n",
       "554       selfie   90.119972  78.243149  234.852600  271.807312   \n",
       "230       selfie   94.707085  74.440269  213.292572  216.627594   \n",
       "\n",
       "      confidence_score       yaw      pitch      roll  \\\n",
       "1255               NaN -0.641205  -4.237106 -0.695053   \n",
       "1758               NaN -1.656120 -22.516785 -5.354843   \n",
       "1226               NaN -7.906647   3.850571  5.562355   \n",
       "554                NaN  6.548569   0.761742  6.543167   \n",
       "230                NaN  3.877739   6.659058  0.466476   \n",
       "\n",
       "                                                   path  \n",
       "1255  selfie/bing_selfie_pastmonth_000387.jpg_skelet...  \n",
       "1758       selfie/selfie_mshah_0000260.jpg_skeleton.jpg  \n",
       "1226       selfie/selfie_mshah_0003528.jpg_skeleton.jpg  \n",
       "554        selfie/selfie_mshah_0038357.jpg_skeleton.jpg  \n",
       "230   selfie/selfie_tag_11316283405_d8fd776a2b_c.jpg...  "
      ]
     },
     "execution_count": 28,
     "metadata": {},
     "output_type": "execute_result"
    }
   ],
   "source": [
    "newdf.head()"
   ]
  },
  {
   "cell_type": "code",
   "execution_count": 29,
   "metadata": {},
   "outputs": [],
   "source": [
    "def _normalize_images_batch(b:Tuple[Tensor,Tensor], mean:FloatTensor, std:FloatTensor)->Tuple[Tensor,Tensor]:\n",
    "    \"`b` = `x`,`y` - normalize `x` array of imgs and `do_y` optionally `y`.\"\n",
    "    x,y = b\n",
    "    mean,std = mean.to(x[0].device),std.to(x[0].device)\n",
    "    x[0] = normalize(x[0],mean,std)\n",
    "    return x,y\n",
    "\n",
    "def normalize_custom_funcs(mean:FloatTensor, std:FloatTensor, do_x:bool=True, do_y:bool=False)->Tuple[Callable,Callable]:\n",
    "    \"Create normalize/denormalize func using `mean` and `std`, can specify `do_y` and `device`.\"\n",
    "    mean,std = tensor(mean),tensor(std)\n",
    "    return (partial(_normalize_images_batch, mean=mean, std=std),\n",
    "            partial(denormalize, mean=mean, std=std))"
   ]
  },
  {
   "cell_type": "code",
   "execution_count": 30,
   "metadata": {},
   "outputs": [],
   "source": [
    "imgList = ImageList.from_df(newdf, path=image_path, cols='path')"
   ]
  },
  {
   "cell_type": "code",
   "execution_count": 31,
   "metadata": {},
   "outputs": [],
   "source": [
    "tabList = TabularList.from_df(newdf, cat_names=[], cont_names=['yaw','pitch','roll'], procs=[Normalize])\n"
   ]
  },
  {
   "cell_type": "code",
   "execution_count": 32,
   "metadata": {},
   "outputs": [],
   "source": [
    "mixed = MixedItemList([imgList, tabList], image_path, inner_df=imgList.inner_df)\\\n",
    ".split_by_rand_pct(.2)\\\n",
    ".label_from_df(cols='class_label')\n",
    "#.transform([[get_transforms()[0], []], [get_transforms()[1], []]], size=224)\n",
    "\n",
    "data = mixed.databunch(no_check=True, bs=64, num_workers=0) # num_workers=0 here just to get errors more quickly"
   ]
  },
  {
   "cell_type": "code",
   "execution_count": null,
   "metadata": {},
   "outputs": [],
   "source": []
  },
  {
   "cell_type": "code",
   "execution_count": 33,
   "metadata": {},
   "outputs": [
    {
     "data": {
      "text/plain": [
       "['non_selfie', 'selfie']"
      ]
     },
     "execution_count": 33,
     "metadata": {},
     "output_type": "execute_result"
    }
   ],
   "source": [
    "data.classes"
   ]
  },
  {
   "cell_type": "code",
   "execution_count": 34,
   "metadata": {},
   "outputs": [],
   "source": [
    "norm, denorm = normalize_custom_funcs(*imagenet_stats)\n",
    "data.add_tfm(norm) # normalize images"
   ]
  },
  {
   "cell_type": "code",
   "execution_count": 35,
   "metadata": {},
   "outputs": [],
   "source": [
    "item, labels = next(iter(data.train_dl))"
   ]
  },
  {
   "cell_type": "code",
   "execution_count": 36,
   "metadata": {},
   "outputs": [
    {
     "data": {
      "text/plain": [
       "[]"
      ]
     },
     "execution_count": 36,
     "metadata": {},
     "output_type": "execute_result"
    }
   ],
   "source": [
    "# item[1][0], item[1][1]\n",
    "mixed.train.x.item_lists[1].get_emb_szs()"
   ]
  },
  {
   "cell_type": "code",
   "execution_count": 37,
   "metadata": {},
   "outputs": [
    {
     "name": "stdout",
     "output_type": "stream",
     "text": [
      "[0.485, 0.456, 0.406] [0.229, 0.224, 0.225]\n"
     ]
    }
   ],
   "source": [
    "print(*imagenet_stats)"
   ]
  },
  {
   "cell_type": "code",
   "execution_count": 38,
   "metadata": {},
   "outputs": [],
   "source": [
    "emb = mixed.train.x.item_lists[1].get_emb_szs()"
   ]
  },
  {
   "cell_type": "code",
   "execution_count": 39,
   "metadata": {},
   "outputs": [],
   "source": [
    "# from fastai.torch_core import *\n",
    "# from fastai.vision import *\n",
    "# from fastai.tabular.models import *\n",
    "# from fastai.tabular import *\n",
    "# from fastai.layers import *\n",
    "# import torch\n",
    "\n",
    "# class ImageTabularModel(nn.Module):\n",
    "#     \"Basic model for tabular data.\"\n",
    "#     def __init__(self, emb_szs:ListSizes, n_cont:int, layers:Collection[int], ps:Collection[float]=None):\n",
    "#         super().__init__()\n",
    "#         self.cnn = create_body(models.resnet34)\n",
    "#         self.tab = TabularModel({}, n_cont, 128, [512, 356]) #TabularModel(emb_szs, n_cont, 512, layers, ps)\n",
    "\n",
    "#         self.reduce = nn.Sequential(*([Flatten()] + bn_drop_lin((512*7*7), 512, bn=True, p=0.5, actn=nn.ReLU(inplace=True))))\n",
    "#         self.merge = nn.Sequential(*bn_drop_lin(512 + 512, 1024, bn=True, p=0.5, actn=nn.ReLU(inplace=True)))\n",
    "#         self.final = nn.Sequential(*bn_drop_lin(1024, 2, bn=True, p=0., actn=nn.ReLU(inplace=True)))\n",
    "\n",
    "#     def forward(self, img:Tensor, x_cat:Tensor, x_cont:Tensor) -> Tensor:\n",
    "#         imgLatent = self.reduce(self.cnn(img))\n",
    "#         tabLatent = self.tab(x_cat, x_cont)\n",
    "\n",
    "#         cat = torch.cat(imgLatent, tabLatent)\n",
    "\n",
    "#         return self.final(self.merge(cat))"
   ]
  },
  {
   "cell_type": "code",
   "execution_count": 40,
   "metadata": {},
   "outputs": [],
   "source": [
    "def split_layers(model:nn.Module) -> List[nn.Module]:\n",
    "    groups = [[model.cnn]]\n",
    "    groups += [[model.tab, model.reduce, model.merge, model.final]]\n",
    "    return groups\n",
    "\n",
    "class ImageTabularTextLearner(Learner):\n",
    "    def __init__(self, data:DataBunch, model:nn.Module, alpha:float=2., beta:float=1., **learn_kwargs):\n",
    "        super().__init__(data, model, **learn_kwargs)\n",
    "        self.split(split_layers)"
   ]
  },
  {
   "cell_type": "code",
   "execution_count": 41,
   "metadata": {},
   "outputs": [],
   "source": [
    "class ImageTabularTextModel(nn.Module):\n",
    "    def __init__(self, n_cont:int):\n",
    "        super().__init__()\n",
    "        self.cnn = create_body(models.resnet34)\n",
    "        nf = num_features_model(self.cnn) * 2\n",
    "        drop = .5\n",
    "\n",
    "        self.tab = TabularModel({}, n_cont, 128, [512, 256])\n",
    "\n",
    "        self.reduce = nn.Sequential(*([AdaptiveConcatPool2d(), Flatten()] + bn_drop_lin(nf, 512, bn=True, p=drop, actn=nn.ReLU(inplace=True))))\n",
    "        self.merge = nn.Sequential(*bn_drop_lin(512 + 128, 128, bn=True, p=drop, actn=nn.ReLU(inplace=True)))\n",
    "        self.final = nn.Sequential(*bn_drop_lin(128, 2, bn=False, p=0., actn=None))\n",
    "        #self.final = nn.Sequential(*bn_drop_lin(512, 2, bn=False, p=0., actn=None))\n",
    "        #print(self)\n",
    "        \n",
    "    def forward(self, img:Tensor, x:Tensor) -> Tensor:\n",
    "        #print(img.shape)        \n",
    "        imgCnn = self.cnn(img)\n",
    "        #print(imgCnn.shape)\n",
    "        imgLatent = self.reduce(imgCnn)\n",
    "        #print(imgLatent.shape)\n",
    "        tabLatent = self.tab(x[0], x[1])\n",
    "        #print(tabLatent.shape)\n",
    "        \n",
    "        cat = torch.cat([imgLatent, F.relu(tabLatent)], dim=1)\n",
    "        #print(cat.shape)\n",
    "        \n",
    "        pred = self.final(self.merge(cat))\n",
    "        #pred = torch.sigmoid(pred)  # making sure this is in the range 0-4\n",
    "        #pred = torch.sigmoid(self.final(self.reduce(imgCnn)))\n",
    "        #print(pred)\n",
    "        return pred #torch.softmax(torxh.zeros(1,2))\n",
    "        \n",
    "    def reset(self):\n",
    "        for c in self.children():\n",
    "            if hasattr(c, 'reset'): c.reset()"
   ]
  },
  {
   "cell_type": "code",
   "execution_count": 42,
   "metadata": {},
   "outputs": [],
   "source": [
    "model = ImageTabularTextModel(3)\n",
    "learn = ImageTabularTextLearner(data, model, metrics=[error_rate])"
   ]
  },
  {
   "cell_type": "code",
   "execution_count": 43,
   "metadata": {},
   "outputs": [],
   "source": [
    "# it = iter(data.valid_dl)\n",
    "# for item, label in it:\n",
    "#     print(label)"
   ]
  },
  {
   "cell_type": "code",
   "execution_count": 44,
   "metadata": {},
   "outputs": [
    {
     "data": {
      "text/html": [],
      "text/plain": [
       "<IPython.core.display.HTML object>"
      ]
     },
     "metadata": {},
     "output_type": "display_data"
    },
    {
     "name": "stdout",
     "output_type": "stream",
     "text": [
      "LR Finder is complete, type {learner_name}.recorder.plot() to see the graph.\n"
     ]
    }
   ],
   "source": [
    "learn.lr_find()"
   ]
  },
  {
   "cell_type": "code",
   "execution_count": 25,
   "metadata": {},
   "outputs": [
    {
     "data": {
      "image/png": "[encoded data removed]",
      "text/plain": [
       "<Figure size 432x288 with 1 Axes>"
      ]
     },
     "metadata": {
      "needs_background": "light"
     },
     "output_type": "display_data"
    }
   ],
   "source": [
    "learn.recorder.plot()"
   ]
  },
  {
   "cell_type": "code",
   "execution_count": 45,
   "metadata": {},
   "outputs": [
    {
     "data": {
      "text/html": [
       "<table border=\"1\" class=\"dataframe\">\n",
       "  <thead>\n",
       "    <tr style=\"text-align: left;\">\n",
       "      <th>epoch</th>\n",
       "      <th>train_loss</th>\n",
       "      <th>valid_loss</th>\n",
       "      <th>error_rate</th>\n",
       "      <th>time</th>\n",
       "    </tr>\n",
       "  </thead>\n",
       "  <tbody>\n",
       "    <tr>\n",
       "      <td>0</td>\n",
       "      <td>0.661471</td>\n",
       "      <td>0.628649</td>\n",
       "      <td>0.307540</td>\n",
       "      <td>00:08</td>\n",
       "    </tr>\n",
       "    <tr>\n",
       "      <td>1</td>\n",
       "      <td>0.605755</td>\n",
       "      <td>0.759751</td>\n",
       "      <td>0.384921</td>\n",
       "      <td>00:07</td>\n",
       "    </tr>\n",
       "    <tr>\n",
       "      <td>2</td>\n",
       "      <td>0.566750</td>\n",
       "      <td>0.560508</td>\n",
       "      <td>0.253968</td>\n",
       "      <td>00:07</td>\n",
       "    </tr>\n",
       "    <tr>\n",
       "      <td>3</td>\n",
       "      <td>0.533595</td>\n",
       "      <td>0.631273</td>\n",
       "      <td>0.307540</td>\n",
       "      <td>00:07</td>\n",
       "    </tr>\n",
       "    <tr>\n",
       "      <td>4</td>\n",
       "      <td>0.503921</td>\n",
       "      <td>0.533928</td>\n",
       "      <td>0.240079</td>\n",
       "      <td>00:07</td>\n",
       "    </tr>\n",
       "    <tr>\n",
       "      <td>5</td>\n",
       "      <td>0.455278</td>\n",
       "      <td>0.614292</td>\n",
       "      <td>0.339286</td>\n",
       "      <td>00:07</td>\n",
       "    </tr>\n",
       "    <tr>\n",
       "      <td>6</td>\n",
       "      <td>0.397469</td>\n",
       "      <td>0.632635</td>\n",
       "      <td>0.271825</td>\n",
       "      <td>00:07</td>\n",
       "    </tr>\n",
       "    <tr>\n",
       "      <td>7</td>\n",
       "      <td>0.328148</td>\n",
       "      <td>0.475391</td>\n",
       "      <td>0.198413</td>\n",
       "      <td>00:07</td>\n",
       "    </tr>\n",
       "    <tr>\n",
       "      <td>8</td>\n",
       "      <td>0.240627</td>\n",
       "      <td>0.512398</td>\n",
       "      <td>0.200397</td>\n",
       "      <td>00:07</td>\n",
       "    </tr>\n",
       "    <tr>\n",
       "      <td>9</td>\n",
       "      <td>0.171661</td>\n",
       "      <td>0.511254</td>\n",
       "      <td>0.192460</td>\n",
       "      <td>00:07</td>\n",
       "    </tr>\n",
       "  </tbody>\n",
       "</table>"
      ],
      "text/plain": [
       "<IPython.core.display.HTML object>"
      ]
     },
     "metadata": {},
     "output_type": "display_data"
    }
   ],
   "source": [
    "learn.fit_one_cycle(10, .8e-3)"
   ]
  },
  {
   "cell_type": "code",
   "execution_count": 46,
   "metadata": {},
   "outputs": [],
   "source": [
    "learn.save('resnet34_stage_1_im_sk')\n",
    "# learn.fit_one_cycle(5, .7e-3)\n",
    "learn.load('resnet34_stage_1_im_sk');"
   ]
  },
  {
   "cell_type": "code",
   "execution_count": 47,
   "metadata": {},
   "outputs": [],
   "source": [
    "learn.unfreeze()"
   ]
  },
  {
   "cell_type": "code",
   "execution_count": 48,
   "metadata": {},
   "outputs": [
    {
     "data": {
      "text/html": [],
      "text/plain": [
       "<IPython.core.display.HTML object>"
      ]
     },
     "metadata": {},
     "output_type": "display_data"
    },
    {
     "name": "stdout",
     "output_type": "stream",
     "text": [
      "LR Finder is complete, type {learner_name}.recorder.plot() to see the graph.\n"
     ]
    }
   ],
   "source": [
    "learn.lr_find()"
   ]
  },
  {
   "cell_type": "code",
   "execution_count": 49,
   "metadata": {},
   "outputs": [
    {
     "data": {
      "image/png": "[encoded data removed]",
      "text/plain": [
       "<Figure size 432x288 with 1 Axes>"
      ]
     },
     "metadata": {
      "needs_background": "light"
     },
     "output_type": "display_data"
    }
   ],
   "source": [
    "learn.recorder.plot()"
   ]
  },
  {
   "cell_type": "code",
   "execution_count": 50,
   "metadata": {},
   "outputs": [
    {
     "data": {
      "text/html": [
       "<table border=\"1\" class=\"dataframe\">\n",
       "  <thead>\n",
       "    <tr style=\"text-align: left;\">\n",
       "      <th>epoch</th>\n",
       "      <th>train_loss</th>\n",
       "      <th>valid_loss</th>\n",
       "      <th>error_rate</th>\n",
       "      <th>time</th>\n",
       "    </tr>\n",
       "  </thead>\n",
       "  <tbody>\n",
       "    <tr>\n",
       "      <td>0</td>\n",
       "      <td>0.090596</td>\n",
       "      <td>0.512865</td>\n",
       "      <td>0.190476</td>\n",
       "      <td>00:07</td>\n",
       "    </tr>\n",
       "    <tr>\n",
       "      <td>1</td>\n",
       "      <td>0.093987</td>\n",
       "      <td>0.513828</td>\n",
       "      <td>0.198413</td>\n",
       "      <td>00:07</td>\n",
       "    </tr>\n",
       "    <tr>\n",
       "      <td>2</td>\n",
       "      <td>0.094735</td>\n",
       "      <td>0.512025</td>\n",
       "      <td>0.198413</td>\n",
       "      <td>00:07</td>\n",
       "    </tr>\n",
       "    <tr>\n",
       "      <td>3</td>\n",
       "      <td>0.095233</td>\n",
       "      <td>0.516660</td>\n",
       "      <td>0.196429</td>\n",
       "      <td>00:07</td>\n",
       "    </tr>\n",
       "    <tr>\n",
       "      <td>4</td>\n",
       "      <td>0.089991</td>\n",
       "      <td>0.513333</td>\n",
       "      <td>0.198413</td>\n",
       "      <td>00:07</td>\n",
       "    </tr>\n",
       "    <tr>\n",
       "      <td>5</td>\n",
       "      <td>0.089415</td>\n",
       "      <td>0.513558</td>\n",
       "      <td>0.196429</td>\n",
       "      <td>00:07</td>\n",
       "    </tr>\n",
       "    <tr>\n",
       "      <td>6</td>\n",
       "      <td>0.093435</td>\n",
       "      <td>0.521589</td>\n",
       "      <td>0.196429</td>\n",
       "      <td>00:07</td>\n",
       "    </tr>\n",
       "    <tr>\n",
       "      <td>7</td>\n",
       "      <td>0.089866</td>\n",
       "      <td>0.519531</td>\n",
       "      <td>0.196429</td>\n",
       "      <td>00:07</td>\n",
       "    </tr>\n",
       "    <tr>\n",
       "      <td>8</td>\n",
       "      <td>0.088130</td>\n",
       "      <td>0.514534</td>\n",
       "      <td>0.196429</td>\n",
       "      <td>00:07</td>\n",
       "    </tr>\n",
       "    <tr>\n",
       "      <td>9</td>\n",
       "      <td>0.088169</td>\n",
       "      <td>0.518273</td>\n",
       "      <td>0.196429</td>\n",
       "      <td>00:07</td>\n",
       "    </tr>\n",
       "  </tbody>\n",
       "</table>"
      ],
      "text/plain": [
       "<IPython.core.display.HTML object>"
      ]
     },
     "metadata": {},
     "output_type": "display_data"
    }
   ],
   "source": [
    "learn.fit_one_cycle(10, max_lr=slice(1.2e-6,1.2e-6/3))"
   ]
  },
  {
   "cell_type": "code",
   "execution_count": 51,
   "metadata": {},
   "outputs": [],
   "source": [
    "interp = ClassificationInterpretation.from_learner(learn)"
   ]
  },
  {
   "cell_type": "code",
   "execution_count": 52,
   "metadata": {},
   "outputs": [
    {
     "data": {
      "image/png": "[encoded data removed]",
      "text/plain": [
       "<Figure size 432x288 with 1 Axes>"
      ]
     },
     "metadata": {
      "needs_background": "light"
     },
     "output_type": "display_data"
    }
   ],
   "source": [
    "interp.plot_confusion_matrix()"
   ]
  },
  {
   "cell_type": "code",
   "execution_count": 53,
   "metadata": {},
   "outputs": [
    {
     "data": {
      "text/plain": [
       "array([[0.803347, 0.196653],\n",
       "       [0.196226, 0.803774]])"
      ]
     },
     "execution_count": 53,
     "metadata": {},
     "output_type": "execute_result"
    }
   ],
   "source": [
    "confusion_mat = interp.confusion_matrix()\n",
    "confusion_mat/np.sum(confusion_mat, axis = 1).reshape(-1,1)"
   ]
  },
  {
   "cell_type": "code",
   "execution_count": 57,
   "metadata": {},
   "outputs": [
    {
     "data": {
      "text/plain": [
       "(2440, 609)"
      ]
     },
     "execution_count": 57,
     "metadata": {},
     "output_type": "execute_result"
    }
   ],
   "source": [
    "len(data.train_ds), len(data.valid_ds)"
   ]
  },
  {
   "cell_type": "code",
   "execution_count": null,
   "metadata": {},
   "outputs": [],
   "source": []
  }
 ],
 "metadata": {
  "kernelspec": {
   "display_name": "Python 3",
   "language": "python",
   "name": "python3"
  },
  "language_info": {
   "codemirror_mode": {
    "name": "ipython",
    "version": 3
   },
   "file_extension": ".py",
   "mimetype": "text/x-python",
   "name": "python",
   "nbconvert_exporter": "python",
   "pygments_lexer": "ipython3",
   "version": "3.7.3"
  }
 },
 "nbformat": 4,
 "nbformat_minor": 2
}
