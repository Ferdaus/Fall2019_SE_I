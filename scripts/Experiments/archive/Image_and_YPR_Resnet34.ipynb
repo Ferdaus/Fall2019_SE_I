{
 "cells": [
  {
   "cell_type": "code",
   "execution_count": 1,
   "metadata": {},
   "outputs": [],
   "source": [
    "from fastai.vision import *\n",
    "from sklearn.model_selection import StratifiedKFold\n",
    "from fastai.callbacks import *\n",
    "from fastai.tabular import *"
   ]
  },
  {
   "cell_type": "code",
   "execution_count": 2,
   "metadata": {},
   "outputs": [],
   "source": [
    "csv_path = '/disks/data/paper_projects/selfie_detection/data/DS_224_all_features_no_duplicates/yaw_pitch_roll/'\n",
    "image_path = '/disks/data/paper_projects/selfie_detection/data/DS_224_all_features_no_duplicates/raw_image'\n",
    "\n",
    "class_names = ['selfie', 'non_selfie', 'mirror_selfie', 'non_mirror_selfie']\n",
    "\n",
    "class_dataframes = {}\n",
    "\n",
    "for class_name in class_names:\n",
    "    csv = pd.read_csv(csv_path+class_name+'.csv')\n",
    "    csv.insert(0, column = 'class_label',value = len(csv.index)*[f\"{class_name}\"])\n",
    "    csv['path'] = csv.class_label + '/' + csv.filename\n",
    "    csv = csv.drop(['filename'], axis = 1)\n",
    "    class_dataframes[class_name] = csv"
   ]
  },
  {
   "cell_type": "code",
   "execution_count": 3,
   "metadata": {},
   "outputs": [
    {
     "data": {
      "text/plain": [
       "[(1789, 10), (1260, 10), (1268, 10), (1439, 10)]"
      ]
     },
     "execution_count": 3,
     "metadata": {},
     "output_type": "execute_result"
    }
   ],
   "source": [
    "[class_dataframe.shape for _, class_dataframe in class_dataframes.items()] "
   ]
  },
  {
   "cell_type": "code",
   "execution_count": 4,
   "metadata": {},
   "outputs": [
    {
     "data": {
      "text/plain": [
       "dict_keys(['selfie', 'non_selfie', 'mirror_selfie', 'non_mirror_selfie'])"
      ]
     },
     "execution_count": 4,
     "metadata": {},
     "output_type": "execute_result"
    }
   ],
   "source": [
    "class_dataframes.keys()"
   ]
  },
  {
   "cell_type": "code",
   "execution_count": 5,
   "metadata": {},
   "outputs": [
    {
     "data": {
      "text/plain": [
       "(1439, 10)"
      ]
     },
     "execution_count": 5,
     "metadata": {},
     "output_type": "execute_result"
    }
   ],
   "source": [
    "class_dataframes[class_names[3]].shape"
   ]
  },
  {
   "cell_type": "code",
   "execution_count": 58,
   "metadata": {},
   "outputs": [
    {
     "name": "stdout",
     "output_type": "stream",
     "text": [
      "(1260, 10)\n"
     ]
    }
   ],
   "source": [
    "selfie_df = class_dataframes['selfie'].sample(n=len(class_dataframes['non_selfie'].index), replace=False, random_state=4, axis=0)\n",
    "\n",
    "print(selfie_df.shape)\n",
    "#newdf = class_dataframes['selfie'].copy().append(class_dataframes['non_selfie'])\n",
    "newdf = selfie_df.append(class_dataframes['non_selfie'])"
   ]
  },
  {
   "cell_type": "code",
   "execution_count": 61,
   "metadata": {},
   "outputs": [
    {
     "name": "stdout",
     "output_type": "stream",
     "text": [
      "(2520, 10)\n"
     ]
    },
    {
     "data": {
      "text/html": [
       "<div>\n",
       "<style scoped>\n",
       "    .dataframe tbody tr th:only-of-type {\n",
       "        vertical-align: middle;\n",
       "    }\n",
       "\n",
       "    .dataframe tbody tr th {\n",
       "        vertical-align: top;\n",
       "    }\n",
       "\n",
       "    .dataframe thead th {\n",
       "        text-align: right;\n",
       "    }\n",
       "</style>\n",
       "<table border=\"1\" class=\"dataframe\">\n",
       "  <thead>\n",
       "    <tr style=\"text-align: right;\">\n",
       "      <th></th>\n",
       "      <th>class_label</th>\n",
       "      <th>x_min</th>\n",
       "      <th>y_min</th>\n",
       "      <th>x_max</th>\n",
       "      <th>y_max</th>\n",
       "      <th>confidence_score</th>\n",
       "      <th>yaw</th>\n",
       "      <th>pitch</th>\n",
       "      <th>roll</th>\n",
       "      <th>path</th>\n",
       "    </tr>\n",
       "  </thead>\n",
       "  <tbody>\n",
       "    <tr>\n",
       "      <th>1255</th>\n",
       "      <td>selfie</td>\n",
       "      <td>64.344795</td>\n",
       "      <td>76.542564</td>\n",
       "      <td>134.239532</td>\n",
       "      <td>207.577454</td>\n",
       "      <td>0.999363</td>\n",
       "      <td>9.688461</td>\n",
       "      <td>1.166519</td>\n",
       "      <td>-0.924271</td>\n",
       "      <td>selfie/google_selfie_face_281212_000068.jpg</td>\n",
       "    </tr>\n",
       "    <tr>\n",
       "      <th>1758</th>\n",
       "      <td>selfie</td>\n",
       "      <td>87.870705</td>\n",
       "      <td>79.975471</td>\n",
       "      <td>229.518036</td>\n",
       "      <td>279.747711</td>\n",
       "      <td>0.999775</td>\n",
       "      <td>-0.419022</td>\n",
       "      <td>-11.326096</td>\n",
       "      <td>-2.326904</td>\n",
       "      <td>selfie/selfie_mshah_0003438.jpg</td>\n",
       "    </tr>\n",
       "    <tr>\n",
       "      <th>1226</th>\n",
       "      <td>selfie</td>\n",
       "      <td>88.358871</td>\n",
       "      <td>66.575325</td>\n",
       "      <td>201.621140</td>\n",
       "      <td>229.725525</td>\n",
       "      <td>0.999627</td>\n",
       "      <td>0.088745</td>\n",
       "      <td>-13.811638</td>\n",
       "      <td>-1.847534</td>\n",
       "      <td>selfie/google_selfie_face_240614_000228.jpg</td>\n",
       "    </tr>\n",
       "    <tr>\n",
       "      <th>554</th>\n",
       "      <td>selfie</td>\n",
       "      <td>123.746918</td>\n",
       "      <td>23.647881</td>\n",
       "      <td>232.304016</td>\n",
       "      <td>161.257477</td>\n",
       "      <td>0.999685</td>\n",
       "      <td>25.377914</td>\n",
       "      <td>-8.657585</td>\n",
       "      <td>2.851196</td>\n",
       "      <td>selfie/selfie_mshah_0019186.jpg</td>\n",
       "    </tr>\n",
       "    <tr>\n",
       "      <th>230</th>\n",
       "      <td>selfie</td>\n",
       "      <td>85.431320</td>\n",
       "      <td>0.000000</td>\n",
       "      <td>191.640152</td>\n",
       "      <td>122.735977</td>\n",
       "      <td>0.999745</td>\n",
       "      <td>12.127182</td>\n",
       "      <td>-8.745270</td>\n",
       "      <td>8.671616</td>\n",
       "      <td>selfie/selfie_mshah_0002965.jpg</td>\n",
       "    </tr>\n",
       "  </tbody>\n",
       "</table>\n",
       "</div>"
      ],
      "text/plain": [
       "     class_label       x_min      y_min       x_max       y_max  \\\n",
       "1255      selfie   64.344795  76.542564  134.239532  207.577454   \n",
       "1758      selfie   87.870705  79.975471  229.518036  279.747711   \n",
       "1226      selfie   88.358871  66.575325  201.621140  229.725525   \n",
       "554       selfie  123.746918  23.647881  232.304016  161.257477   \n",
       "230       selfie   85.431320   0.000000  191.640152  122.735977   \n",
       "\n",
       "      confidence_score        yaw      pitch      roll  \\\n",
       "1255          0.999363   9.688461   1.166519 -0.924271   \n",
       "1758          0.999775  -0.419022 -11.326096 -2.326904   \n",
       "1226          0.999627   0.088745 -13.811638 -1.847534   \n",
       "554           0.999685  25.377914  -8.657585  2.851196   \n",
       "230           0.999745  12.127182  -8.745270  8.671616   \n",
       "\n",
       "                                             path  \n",
       "1255  selfie/google_selfie_face_281212_000068.jpg  \n",
       "1758              selfie/selfie_mshah_0003438.jpg  \n",
       "1226  selfie/google_selfie_face_240614_000228.jpg  \n",
       "554               selfie/selfie_mshah_0019186.jpg  \n",
       "230               selfie/selfie_mshah_0002965.jpg  "
      ]
     },
     "execution_count": 61,
     "metadata": {},
     "output_type": "execute_result"
    }
   ],
   "source": [
    "print(newdf.shape)\n",
    "newdf.head()"
   ]
  },
  {
   "cell_type": "code",
   "execution_count": 62,
   "metadata": {},
   "outputs": [],
   "source": [
    "def _normalize_images_batch(b:Tuple[Tensor,Tensor], mean:FloatTensor, std:FloatTensor)->Tuple[Tensor,Tensor]:\n",
    "    \"`b` = `x`,`y` - normalize `x` array of imgs and `do_y` optionally `y`.\"\n",
    "    x,y = b\n",
    "    mean,std = mean.to(x[0].device),std.to(x[0].device)\n",
    "    x[0] = normalize(x[0],mean,std)\n",
    "    return x,y\n",
    "\n",
    "def normalize_custom_funcs(mean:FloatTensor, std:FloatTensor, do_x:bool=True, do_y:bool=False)->Tuple[Callable,Callable]:\n",
    "    \"Create normalize/denormalize func using `mean` and `std`, can specify `do_y` and `device`.\"\n",
    "    mean,std = tensor(mean),tensor(std)\n",
    "    return (partial(_normalize_images_batch, mean=mean, std=std),\n",
    "            partial(denormalize, mean=mean, std=std))"
   ]
  },
  {
   "cell_type": "code",
   "execution_count": 63,
   "metadata": {},
   "outputs": [],
   "source": [
    "imgList = ImageList.from_df(newdf, path=image_path, cols='path')"
   ]
  },
  {
   "cell_type": "code",
   "execution_count": 64,
   "metadata": {},
   "outputs": [],
   "source": [
    "tabList = TabularList.from_df(newdf, cat_names=[], cont_names=['yaw','pitch','roll'], procs=[Normalize])\n"
   ]
  },
  {
   "cell_type": "code",
   "execution_count": 65,
   "metadata": {},
   "outputs": [],
   "source": [
    "mixed = MixedItemList([imgList, tabList], image_path, inner_df=imgList.inner_df)\\\n",
    ".split_by_rand_pct(.2)\\\n",
    ".label_from_df(cols='class_label')\n",
    "#.transform([[get_transforms()[0], []], [get_transforms()[1], []]], size=224)\n",
    "\n",
    "data = mixed.databunch(no_check=True, bs=64, num_workers=0) # num_workers=0 here just to get errors more quickly"
   ]
  },
  {
   "cell_type": "code",
   "execution_count": null,
   "metadata": {},
   "outputs": [],
   "source": []
  },
  {
   "cell_type": "code",
   "execution_count": 66,
   "metadata": {},
   "outputs": [
    {
     "data": {
      "text/plain": [
       "['non_selfie', 'selfie']"
      ]
     },
     "execution_count": 66,
     "metadata": {},
     "output_type": "execute_result"
    }
   ],
   "source": [
    "data.classes"
   ]
  },
  {
   "cell_type": "code",
   "execution_count": 67,
   "metadata": {},
   "outputs": [],
   "source": [
    "norm, denorm = normalize_custom_funcs(*imagenet_stats)\n",
    "data.add_tfm(norm) # normalize images"
   ]
  },
  {
   "cell_type": "code",
   "execution_count": 68,
   "metadata": {},
   "outputs": [],
   "source": [
    "item, labels = next(iter(data.train_dl))"
   ]
  },
  {
   "cell_type": "code",
   "execution_count": 69,
   "metadata": {},
   "outputs": [
    {
     "data": {
      "text/plain": [
       "[]"
      ]
     },
     "execution_count": 69,
     "metadata": {},
     "output_type": "execute_result"
    }
   ],
   "source": [
    "# item[1][0], item[1][1]\n",
    "mixed.train.x.item_lists[1].get_emb_szs()"
   ]
  },
  {
   "cell_type": "code",
   "execution_count": 70,
   "metadata": {},
   "outputs": [
    {
     "name": "stdout",
     "output_type": "stream",
     "text": [
      "[0.485, 0.456, 0.406] [0.229, 0.224, 0.225]\n"
     ]
    }
   ],
   "source": [
    "print(*imagenet_stats)"
   ]
  },
  {
   "cell_type": "code",
   "execution_count": 71,
   "metadata": {},
   "outputs": [],
   "source": [
    "emb = mixed.train.x.item_lists[1].get_emb_szs()"
   ]
  },
  {
   "cell_type": "code",
   "execution_count": 72,
   "metadata": {},
   "outputs": [],
   "source": [
    "# from fastai.torch_core import *\n",
    "# from fastai.vision import *\n",
    "# from fastai.tabular.models import *\n",
    "# from fastai.tabular import *\n",
    "# from fastai.layers import *\n",
    "# import torch\n",
    "\n",
    "# class ImageTabularModel(nn.Module):\n",
    "#     \"Basic model for tabular data.\"\n",
    "#     def __init__(self, emb_szs:ListSizes, n_cont:int, layers:Collection[int], ps:Collection[float]=None):\n",
    "#         super().__init__()\n",
    "#         self.cnn = create_body(models.resnet34)\n",
    "#         self.tab = TabularModel({}, n_cont, 128, [512, 356]) #TabularModel(emb_szs, n_cont, 512, layers, ps)\n",
    "\n",
    "#         self.reduce = nn.Sequential(*([Flatten()] + bn_drop_lin((512*7*7), 512, bn=True, p=0.5, actn=nn.ReLU(inplace=True))))\n",
    "#         self.merge = nn.Sequential(*bn_drop_lin(512 + 512, 1024, bn=True, p=0.5, actn=nn.ReLU(inplace=True)))\n",
    "#         self.final = nn.Sequential(*bn_drop_lin(1024, 2, bn=True, p=0., actn=nn.ReLU(inplace=True)))\n",
    "\n",
    "#     def forward(self, img:Tensor, x_cat:Tensor, x_cont:Tensor) -> Tensor:\n",
    "#         imgLatent = self.reduce(self.cnn(img))\n",
    "#         tabLatent = self.tab(x_cat, x_cont)\n",
    "\n",
    "#         cat = torch.cat(imgLatent, tabLatent)\n",
    "\n",
    "#         return self.final(self.merge(cat))"
   ]
  },
  {
   "cell_type": "code",
   "execution_count": 73,
   "metadata": {},
   "outputs": [],
   "source": [
    "def split_layers(model:nn.Module) -> List[nn.Module]:\n",
    "    groups = [[model.cnn]]\n",
    "    groups += [[model.tab, model.reduce, model.merge, model.final]]\n",
    "    return groups\n",
    "\n",
    "class ImageTabularTextLearner(Learner):\n",
    "    def __init__(self, data:DataBunch, model:nn.Module, alpha:float=2., beta:float=1., **learn_kwargs):\n",
    "        super().__init__(data, model, **learn_kwargs)\n",
    "        self.split(split_layers)"
   ]
  },
  {
   "cell_type": "code",
   "execution_count": 74,
   "metadata": {},
   "outputs": [],
   "source": [
    "class ImageTabularTextModel(nn.Module):\n",
    "    def __init__(self, n_cont:int):\n",
    "        super().__init__()\n",
    "        self.cnn = create_body(models.resnet34)\n",
    "        nf = num_features_model(self.cnn) * 2\n",
    "        drop = .5\n",
    "\n",
    "        self.tab = TabularModel({}, n_cont, 128, [512, 256])\n",
    "\n",
    "        self.reduce = nn.Sequential(*([AdaptiveConcatPool2d(), Flatten()] + bn_drop_lin(nf, 512, bn=True, p=drop, actn=nn.ReLU(inplace=True))))\n",
    "        self.merge = nn.Sequential(*bn_drop_lin(512 + 128, 128, bn=True, p=drop, actn=nn.ReLU(inplace=True)))\n",
    "        self.final = nn.Sequential(*bn_drop_lin(128, 2, bn=False, p=0., actn=None))\n",
    "        #self.final = nn.Sequential(*bn_drop_lin(512, 2, bn=False, p=0., actn=None))\n",
    "        #print(self)\n",
    "        \n",
    "    def forward(self, img:Tensor, x:Tensor) -> Tensor:\n",
    "        #print(img.shape)        \n",
    "        imgCnn = self.cnn(img)\n",
    "        #print(imgCnn.shape)\n",
    "        imgLatent = self.reduce(imgCnn)\n",
    "        #print(imgLatent.shape)\n",
    "        tabLatent = self.tab(x[0], x[1])\n",
    "        #print(tabLatent.shape)\n",
    "        \n",
    "        cat = torch.cat([imgLatent, F.relu(tabLatent)], dim=1)\n",
    "        #print(cat.shape)\n",
    "        \n",
    "        pred = self.final(self.merge(cat))\n",
    "        #pred = torch.sigmoid(pred)  # making sure this is in the range 0-4\n",
    "        #pred = torch.sigmoid(self.final(self.reduce(imgCnn)))\n",
    "        #print(pred)\n",
    "        return pred #torch.softmax(torxh.zeros(1,2))\n",
    "        \n",
    "    def reset(self):\n",
    "        for c in self.children():\n",
    "            if hasattr(c, 'reset'): c.reset()"
   ]
  },
  {
   "cell_type": "code",
   "execution_count": 75,
   "metadata": {},
   "outputs": [],
   "source": [
    "model = ImageTabularTextModel(3)\n",
    "learn = ImageTabularTextLearner(data, model, metrics=[error_rate])"
   ]
  },
  {
   "cell_type": "code",
   "execution_count": 76,
   "metadata": {},
   "outputs": [],
   "source": [
    "# it = iter(data.valid_dl)\n",
    "# for item, label in it:\n",
    "#     print(label)"
   ]
  },
  {
   "cell_type": "code",
   "execution_count": 77,
   "metadata": {},
   "outputs": [
    {
     "data": {
      "text/html": [],
      "text/plain": [
       "<IPython.core.display.HTML object>"
      ]
     },
     "metadata": {},
     "output_type": "display_data"
    },
    {
     "name": "stdout",
     "output_type": "stream",
     "text": [
      "LR Finder is complete, type {learner_name}.recorder.plot() to see the graph.\n"
     ]
    }
   ],
   "source": [
    "learn.lr_find()"
   ]
  },
  {
   "cell_type": "code",
   "execution_count": 78,
   "metadata": {},
   "outputs": [
    {
     "data": {
      "image/png": "[encoded data removed]",
      "text/plain": [
       "<Figure size 432x288 with 1 Axes>"
      ]
     },
     "metadata": {
      "needs_background": "light"
     },
     "output_type": "display_data"
    }
   ],
   "source": [
    "learn.recorder.plot()"
   ]
  },
  {
   "cell_type": "code",
   "execution_count": 79,
   "metadata": {},
   "outputs": [
    {
     "data": {
      "text/html": [
       "<table border=\"1\" class=\"dataframe\">\n",
       "  <thead>\n",
       "    <tr style=\"text-align: left;\">\n",
       "      <th>epoch</th>\n",
       "      <th>train_loss</th>\n",
       "      <th>valid_loss</th>\n",
       "      <th>error_rate</th>\n",
       "      <th>time</th>\n",
       "    </tr>\n",
       "  </thead>\n",
       "  <tbody>\n",
       "    <tr>\n",
       "      <td>0</td>\n",
       "      <td>0.627434</td>\n",
       "      <td>0.439722</td>\n",
       "      <td>0.158730</td>\n",
       "      <td>00:08</td>\n",
       "    </tr>\n",
       "    <tr>\n",
       "      <td>1</td>\n",
       "      <td>0.398797</td>\n",
       "      <td>0.441636</td>\n",
       "      <td>0.196429</td>\n",
       "      <td>00:08</td>\n",
       "    </tr>\n",
       "    <tr>\n",
       "      <td>2</td>\n",
       "      <td>0.318966</td>\n",
       "      <td>0.561769</td>\n",
       "      <td>0.162698</td>\n",
       "      <td>00:08</td>\n",
       "    </tr>\n",
       "    <tr>\n",
       "      <td>3</td>\n",
       "      <td>0.251785</td>\n",
       "      <td>0.491281</td>\n",
       "      <td>0.188492</td>\n",
       "      <td>00:08</td>\n",
       "    </tr>\n",
       "    <tr>\n",
       "      <td>4</td>\n",
       "      <td>0.181586</td>\n",
       "      <td>0.331998</td>\n",
       "      <td>0.113095</td>\n",
       "      <td>00:08</td>\n",
       "    </tr>\n",
       "    <tr>\n",
       "      <td>5</td>\n",
       "      <td>0.134341</td>\n",
       "      <td>0.290858</td>\n",
       "      <td>0.085317</td>\n",
       "      <td>00:08</td>\n",
       "    </tr>\n",
       "    <tr>\n",
       "      <td>6</td>\n",
       "      <td>0.094500</td>\n",
       "      <td>0.311076</td>\n",
       "      <td>0.099206</td>\n",
       "      <td>00:08</td>\n",
       "    </tr>\n",
       "    <tr>\n",
       "      <td>7</td>\n",
       "      <td>0.056953</td>\n",
       "      <td>0.266228</td>\n",
       "      <td>0.089286</td>\n",
       "      <td>00:08</td>\n",
       "    </tr>\n",
       "    <tr>\n",
       "      <td>8</td>\n",
       "      <td>0.033195</td>\n",
       "      <td>0.285996</td>\n",
       "      <td>0.083333</td>\n",
       "      <td>00:08</td>\n",
       "    </tr>\n",
       "    <tr>\n",
       "      <td>9</td>\n",
       "      <td>0.022664</td>\n",
       "      <td>0.270823</td>\n",
       "      <td>0.081349</td>\n",
       "      <td>00:08</td>\n",
       "    </tr>\n",
       "  </tbody>\n",
       "</table>"
      ],
      "text/plain": [
       "<IPython.core.display.HTML object>"
      ]
     },
     "metadata": {},
     "output_type": "display_data"
    }
   ],
   "source": [
    "learn.fit_one_cycle(10, .7e-3)"
   ]
  },
  {
   "cell_type": "code",
   "execution_count": 82,
   "metadata": {},
   "outputs": [],
   "source": [
    "# learn.save('resnet34_stage_1')\n",
    "# learn.fit_one_cycle(5, .7e-3)\n",
    "learn.load('resnet34_stage_1');"
   ]
  },
  {
   "cell_type": "code",
   "execution_count": 83,
   "metadata": {},
   "outputs": [],
   "source": [
    "learn.unfreeze()"
   ]
  },
  {
   "cell_type": "code",
   "execution_count": 84,
   "metadata": {},
   "outputs": [
    {
     "data": {
      "text/html": [],
      "text/plain": [
       "<IPython.core.display.HTML object>"
      ]
     },
     "metadata": {},
     "output_type": "display_data"
    },
    {
     "name": "stdout",
     "output_type": "stream",
     "text": [
      "LR Finder is complete, type {learner_name}.recorder.plot() to see the graph.\n"
     ]
    }
   ],
   "source": [
    "learn.lr_find()"
   ]
  },
  {
   "cell_type": "code",
   "execution_count": 85,
   "metadata": {},
   "outputs": [
    {
     "data": {
      "image/png": "[encoded data removed]",
      "text/plain": [
       "<Figure size 432x288 with 1 Axes>"
      ]
     },
     "metadata": {
      "needs_background": "light"
     },
     "output_type": "display_data"
    }
   ],
   "source": [
    "learn.recorder.plot()"
   ]
  },
  {
   "cell_type": "code",
   "execution_count": 86,
   "metadata": {},
   "outputs": [
    {
     "data": {
      "text/html": [
       "<table border=\"1\" class=\"dataframe\">\n",
       "  <thead>\n",
       "    <tr style=\"text-align: left;\">\n",
       "      <th>epoch</th>\n",
       "      <th>train_loss</th>\n",
       "      <th>valid_loss</th>\n",
       "      <th>error_rate</th>\n",
       "      <th>time</th>\n",
       "    </tr>\n",
       "  </thead>\n",
       "  <tbody>\n",
       "    <tr>\n",
       "      <td>0</td>\n",
       "      <td>0.003898</td>\n",
       "      <td>0.273094</td>\n",
       "      <td>0.081349</td>\n",
       "      <td>00:08</td>\n",
       "    </tr>\n",
       "    <tr>\n",
       "      <td>1</td>\n",
       "      <td>0.003949</td>\n",
       "      <td>0.271423</td>\n",
       "      <td>0.085317</td>\n",
       "      <td>00:08</td>\n",
       "    </tr>\n",
       "    <tr>\n",
       "      <td>2</td>\n",
       "      <td>0.004220</td>\n",
       "      <td>0.275510</td>\n",
       "      <td>0.079365</td>\n",
       "      <td>00:08</td>\n",
       "    </tr>\n",
       "    <tr>\n",
       "      <td>3</td>\n",
       "      <td>0.005038</td>\n",
       "      <td>0.273208</td>\n",
       "      <td>0.081349</td>\n",
       "      <td>00:08</td>\n",
       "    </tr>\n",
       "    <tr>\n",
       "      <td>4</td>\n",
       "      <td>0.006361</td>\n",
       "      <td>0.274103</td>\n",
       "      <td>0.081349</td>\n",
       "      <td>00:08</td>\n",
       "    </tr>\n",
       "    <tr>\n",
       "      <td>5</td>\n",
       "      <td>0.004532</td>\n",
       "      <td>0.270336</td>\n",
       "      <td>0.083333</td>\n",
       "      <td>00:08</td>\n",
       "    </tr>\n",
       "    <tr>\n",
       "      <td>6</td>\n",
       "      <td>0.003734</td>\n",
       "      <td>0.272103</td>\n",
       "      <td>0.083333</td>\n",
       "      <td>00:08</td>\n",
       "    </tr>\n",
       "    <tr>\n",
       "      <td>7</td>\n",
       "      <td>0.005672</td>\n",
       "      <td>0.272261</td>\n",
       "      <td>0.081349</td>\n",
       "      <td>00:08</td>\n",
       "    </tr>\n",
       "    <tr>\n",
       "      <td>8</td>\n",
       "      <td>0.004684</td>\n",
       "      <td>0.273650</td>\n",
       "      <td>0.081349</td>\n",
       "      <td>00:08</td>\n",
       "    </tr>\n",
       "    <tr>\n",
       "      <td>9</td>\n",
       "      <td>0.004508</td>\n",
       "      <td>0.270479</td>\n",
       "      <td>0.079365</td>\n",
       "      <td>00:08</td>\n",
       "    </tr>\n",
       "  </tbody>\n",
       "</table>"
      ],
      "text/plain": [
       "<IPython.core.display.HTML object>"
      ]
     },
     "metadata": {},
     "output_type": "display_data"
    }
   ],
   "source": [
    "learn.fit_one_cycle(10, max_lr=slice(.3e-5,.3e-5/3))"
   ]
  },
  {
   "cell_type": "code",
   "execution_count": 87,
   "metadata": {},
   "outputs": [],
   "source": [
    "interp = ClassificationInterpretation.from_learner(learn)"
   ]
  },
  {
   "cell_type": "code",
   "execution_count": 88,
   "metadata": {},
   "outputs": [
    {
     "data": {
      "image/png": "[encoded data removed]",
      "text/plain": [
       "<Figure size 432x288 with 1 Axes>"
      ]
     },
     "metadata": {
      "needs_background": "light"
     },
     "output_type": "display_data"
    }
   ],
   "source": [
    "interp.plot_confusion_matrix()"
   ]
  },
  {
   "cell_type": "code",
   "execution_count": 89,
   "metadata": {},
   "outputs": [
    {
     "data": {
      "text/plain": [
       "array([[0.912548, 0.087452],\n",
       "       [0.070539, 0.929461]])"
      ]
     },
     "execution_count": 89,
     "metadata": {},
     "output_type": "execute_result"
    }
   ],
   "source": [
    "confusion_mat = interp.confusion_matrix()\n",
    "confusion_mat/np.sum(confusion_mat, axis = 1).reshape(-1,1)"
   ]
  },
  {
   "cell_type": "code",
   "execution_count": 57,
   "metadata": {},
   "outputs": [
    {
     "data": {
      "text/plain": [
       "(2440, 609)"
      ]
     },
     "execution_count": 57,
     "metadata": {},
     "output_type": "execute_result"
    }
   ],
   "source": [
    "len(data.train_ds), len(data.valid_ds)"
   ]
  },
  {
   "cell_type": "code",
   "execution_count": null,
   "metadata": {},
   "outputs": [],
   "source": []
  }
 ],
 "metadata": {
  "kernelspec": {
   "display_name": "Python 3",
   "language": "python",
   "name": "python3"
  },
  "language_info": {
   "codemirror_mode": {
    "name": "ipython",
    "version": 3
   },
   "file_extension": ".py",
   "mimetype": "text/x-python",
   "name": "python",
   "nbconvert_exporter": "python",
   "pygments_lexer": "ipython3",
   "version": "3.7.3"
  }
 },
 "nbformat": 4,
 "nbformat_minor": 2
}
