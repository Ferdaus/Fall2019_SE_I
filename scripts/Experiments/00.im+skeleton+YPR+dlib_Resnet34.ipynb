{
 "cells": [
  {
   "cell_type": "code",
   "execution_count": 3,
   "metadata": {},
   "outputs": [],
   "source": [
    "from fastai.vision import *\n",
    "from sklearn.model_selection import StratifiedKFold\n",
    "from fastai.callbacks import *\n",
    "from fastai.tabular import *"
   ]
  },
  {
   "cell_type": "code",
   "execution_count": 6,
   "metadata": {},
   "outputs": [],
   "source": [
    "csv_path = '/disks/data/paper_projects/selfie_detection/data/DS_224_all_features_no_duplicates/dlib_faces/'\n",
    "\n",
    "image_path = '/disks/data/paper_projects/selfie_detection/data/DS_224_all_features_no_duplicates/color_skeleton/im+skeleton/'\n",
    "\n",
    "class_names = ['selfie', 'non_selfie', 'mirror_selfie', 'non_mirror_selfie']\n",
    "\n",
    "class_dataframes = {}\n",
    "\n",
    "for class_name in class_names:\n",
    "    csv = pd.read_csv(csv_path+class_name+'.csv')\n",
    "    csv.insert(0, column = 'class_label',value = len(csv.index)*[f\"{class_name}\"])\n",
    "    csv['path'] = csv.class_label + '/' + csv.im_skeleton\n",
    "    csv = csv.drop(['im_skeleton'], axis = 1)\n",
    "    class_dataframes[class_name] = csv"
   ]
  },
  {
   "cell_type": "code",
   "execution_count": 7,
   "metadata": {},
   "outputs": [
    {
     "data": {
      "text/plain": [
       "[(1788, 153), (1249, 153), (1171, 153), (1335, 153)]"
      ]
     },
     "execution_count": 7,
     "metadata": {},
     "output_type": "execute_result"
    }
   ],
   "source": [
    "[class_dataframe.shape for _, class_dataframe in class_dataframes.items()] "
   ]
  },
  {
   "cell_type": "code",
   "execution_count": 8,
   "metadata": {},
   "outputs": [
    {
     "data": {
      "text/plain": [
       "dict_keys(['selfie', 'non_selfie', 'mirror_selfie', 'non_mirror_selfie'])"
      ]
     },
     "execution_count": 8,
     "metadata": {},
     "output_type": "execute_result"
    }
   ],
   "source": [
    "class_dataframes.keys()"
   ]
  },
  {
   "cell_type": "code",
   "execution_count": 9,
   "metadata": {},
   "outputs": [
    {
     "data": {
      "text/plain": [
       "(1335, 153)"
      ]
     },
     "execution_count": 9,
     "metadata": {},
     "output_type": "execute_result"
    }
   ],
   "source": [
    "class_dataframes[class_names[3]].shape"
   ]
  },
  {
   "cell_type": "code",
   "execution_count": 11,
   "metadata": {},
   "outputs": [
    {
     "name": "stdout",
     "output_type": "stream",
     "text": [
      "(1249, 153)\n"
     ]
    }
   ],
   "source": [
    "selfie_df = class_dataframes['selfie'].sample(n=len(class_dataframes['non_selfie'].index), replace=False, random_state=4, axis=0)\n",
    "\n",
    "print(selfie_df.shape)\n",
    "#newdf = class_dataframes['selfie'].copy().append(class_dataframes['non_selfie'])\n",
    "newdf = selfie_df.append(class_dataframes['non_selfie'])"
   ]
  },
  {
   "cell_type": "code",
   "execution_count": 12,
   "metadata": {},
   "outputs": [
    {
     "name": "stdout",
     "output_type": "stream",
     "text": [
      "(2498, 153)\n"
     ]
    },
    {
     "data": {
      "text/html": [
       "<div>\n",
       "<style scoped>\n",
       "    .dataframe tbody tr th:only-of-type {\n",
       "        vertical-align: middle;\n",
       "    }\n",
       "\n",
       "    .dataframe tbody tr th {\n",
       "        vertical-align: top;\n",
       "    }\n",
       "\n",
       "    .dataframe thead th {\n",
       "        text-align: right;\n",
       "    }\n",
       "</style>\n",
       "<table border=\"1\" class=\"dataframe\">\n",
       "  <thead>\n",
       "    <tr style=\"text-align: right;\">\n",
       "      <th></th>\n",
       "      <th>class_label</th>\n",
       "      <th>im_name</th>\n",
       "      <th>x_min</th>\n",
       "      <th>y_min</th>\n",
       "      <th>x_max</th>\n",
       "      <th>y_max</th>\n",
       "      <th>confidence_score</th>\n",
       "      <th>yaw</th>\n",
       "      <th>pitch</th>\n",
       "      <th>roll</th>\n",
       "      <th>...</th>\n",
       "      <th>y_65</th>\n",
       "      <th>x_66</th>\n",
       "      <th>y_66</th>\n",
       "      <th>x_67</th>\n",
       "      <th>y_67</th>\n",
       "      <th>x_68</th>\n",
       "      <th>y_68</th>\n",
       "      <th>skeleton</th>\n",
       "      <th>im_masked</th>\n",
       "      <th>path</th>\n",
       "    </tr>\n",
       "  </thead>\n",
       "  <tbody>\n",
       "    <tr>\n",
       "      <th>1255</th>\n",
       "      <td>selfie</td>\n",
       "      <td>selfie_mshah_0002888.jpg</td>\n",
       "      <td>51.794823</td>\n",
       "      <td>7.731789</td>\n",
       "      <td>167.835022</td>\n",
       "      <td>149.212799</td>\n",
       "      <td>NaN</td>\n",
       "      <td>12.702850</td>\n",
       "      <td>-17.375320</td>\n",
       "      <td>-20.544289</td>\n",
       "      <td>...</td>\n",
       "      <td>75</td>\n",
       "      <td>91</td>\n",
       "      <td>86</td>\n",
       "      <td>86</td>\n",
       "      <td>88</td>\n",
       "      <td>81</td>\n",
       "      <td>87</td>\n",
       "      <td>selfie_mshah_0002888.jpg_skeleton.jpg</td>\n",
       "      <td>selfie_mshah_0002888.jpg_masked.jpg</td>\n",
       "      <td>selfie/selfie_mshah_0002888.jpg_im_skeleton.jpg</td>\n",
       "    </tr>\n",
       "    <tr>\n",
       "      <th>1757</th>\n",
       "      <td>selfie</td>\n",
       "      <td>selfie_mshah_0000260.jpg</td>\n",
       "      <td>80.503311</td>\n",
       "      <td>81.839630</td>\n",
       "      <td>205.567429</td>\n",
       "      <td>242.020813</td>\n",
       "      <td>NaN</td>\n",
       "      <td>-1.656120</td>\n",
       "      <td>-22.516785</td>\n",
       "      <td>-5.354843</td>\n",
       "      <td>...</td>\n",
       "      <td>152</td>\n",
       "      <td>113</td>\n",
       "      <td>157</td>\n",
       "      <td>107</td>\n",
       "      <td>158</td>\n",
       "      <td>102</td>\n",
       "      <td>158</td>\n",
       "      <td>selfie_mshah_0000260.jpg_skeleton.jpg</td>\n",
       "      <td>selfie_mshah_0000260.jpg_masked.jpg</td>\n",
       "      <td>selfie/selfie_mshah_0000260.jpg_im_skeleton.jpg</td>\n",
       "    </tr>\n",
       "    <tr>\n",
       "      <th>1226</th>\n",
       "      <td>selfie</td>\n",
       "      <td>selfie_mshah_0038322.jpg</td>\n",
       "      <td>99.380798</td>\n",
       "      <td>42.433990</td>\n",
       "      <td>219.251373</td>\n",
       "      <td>208.734207</td>\n",
       "      <td>NaN</td>\n",
       "      <td>1.438683</td>\n",
       "      <td>-10.838379</td>\n",
       "      <td>-1.524521</td>\n",
       "      <td>...</td>\n",
       "      <td>126</td>\n",
       "      <td>124</td>\n",
       "      <td>128</td>\n",
       "      <td>118</td>\n",
       "      <td>129</td>\n",
       "      <td>112</td>\n",
       "      <td>128</td>\n",
       "      <td>selfie_mshah_0038322.jpg_skeleton.jpg</td>\n",
       "      <td>selfie_mshah_0038322.jpg_masked.jpg</td>\n",
       "      <td>selfie/selfie_mshah_0038322.jpg_im_skeleton.jpg</td>\n",
       "    </tr>\n",
       "    <tr>\n",
       "      <th>554</th>\n",
       "      <td>selfie</td>\n",
       "      <td>selfie_mshah_0038357.jpg</td>\n",
       "      <td>90.119972</td>\n",
       "      <td>78.243149</td>\n",
       "      <td>234.852600</td>\n",
       "      <td>271.807312</td>\n",
       "      <td>NaN</td>\n",
       "      <td>6.548569</td>\n",
       "      <td>0.761742</td>\n",
       "      <td>6.543167</td>\n",
       "      <td>...</td>\n",
       "      <td>169</td>\n",
       "      <td>120</td>\n",
       "      <td>168</td>\n",
       "      <td>115</td>\n",
       "      <td>167</td>\n",
       "      <td>111</td>\n",
       "      <td>167</td>\n",
       "      <td>selfie_mshah_0038357.jpg_skeleton.jpg</td>\n",
       "      <td>selfie_mshah_0038357.jpg_masked.jpg</td>\n",
       "      <td>selfie/selfie_mshah_0038357.jpg_im_skeleton.jpg</td>\n",
       "    </tr>\n",
       "    <tr>\n",
       "      <th>230</th>\n",
       "      <td>selfie</td>\n",
       "      <td>selfie_tag_11316283405_d8fd776a2b_c.jpg</td>\n",
       "      <td>94.707085</td>\n",
       "      <td>74.440269</td>\n",
       "      <td>213.292572</td>\n",
       "      <td>216.627594</td>\n",
       "      <td>NaN</td>\n",
       "      <td>3.877739</td>\n",
       "      <td>6.659058</td>\n",
       "      <td>0.466476</td>\n",
       "      <td>...</td>\n",
       "      <td>137</td>\n",
       "      <td>116</td>\n",
       "      <td>136</td>\n",
       "      <td>111</td>\n",
       "      <td>137</td>\n",
       "      <td>106</td>\n",
       "      <td>137</td>\n",
       "      <td>selfie_tag_11316283405_d8fd776a2b_c.jpg_skelet...</td>\n",
       "      <td>selfie_tag_11316283405_d8fd776a2b_c.jpg_masked...</td>\n",
       "      <td>selfie/selfie_tag_11316283405_d8fd776a2b_c.jpg...</td>\n",
       "    </tr>\n",
       "  </tbody>\n",
       "</table>\n",
       "<p>5 rows × 153 columns</p>\n",
       "</div>"
      ],
      "text/plain": [
       "     class_label                                  im_name      x_min  \\\n",
       "1255      selfie                 selfie_mshah_0002888.jpg  51.794823   \n",
       "1757      selfie                 selfie_mshah_0000260.jpg  80.503311   \n",
       "1226      selfie                 selfie_mshah_0038322.jpg  99.380798   \n",
       "554       selfie                 selfie_mshah_0038357.jpg  90.119972   \n",
       "230       selfie  selfie_tag_11316283405_d8fd776a2b_c.jpg  94.707085   \n",
       "\n",
       "          y_min       x_max       y_max  confidence_score        yaw  \\\n",
       "1255   7.731789  167.835022  149.212799               NaN  12.702850   \n",
       "1757  81.839630  205.567429  242.020813               NaN  -1.656120   \n",
       "1226  42.433990  219.251373  208.734207               NaN   1.438683   \n",
       "554   78.243149  234.852600  271.807312               NaN   6.548569   \n",
       "230   74.440269  213.292572  216.627594               NaN   3.877739   \n",
       "\n",
       "          pitch       roll  ...  y_65  x_66  y_66  x_67  y_67  x_68  y_68  \\\n",
       "1255 -17.375320 -20.544289  ...    75    91    86    86    88    81    87   \n",
       "1757 -22.516785  -5.354843  ...   152   113   157   107   158   102   158   \n",
       "1226 -10.838379  -1.524521  ...   126   124   128   118   129   112   128   \n",
       "554    0.761742   6.543167  ...   169   120   168   115   167   111   167   \n",
       "230    6.659058   0.466476  ...   137   116   136   111   137   106   137   \n",
       "\n",
       "                                               skeleton  \\\n",
       "1255              selfie_mshah_0002888.jpg_skeleton.jpg   \n",
       "1757              selfie_mshah_0000260.jpg_skeleton.jpg   \n",
       "1226              selfie_mshah_0038322.jpg_skeleton.jpg   \n",
       "554               selfie_mshah_0038357.jpg_skeleton.jpg   \n",
       "230   selfie_tag_11316283405_d8fd776a2b_c.jpg_skelet...   \n",
       "\n",
       "                                              im_masked  \\\n",
       "1255                selfie_mshah_0002888.jpg_masked.jpg   \n",
       "1757                selfie_mshah_0000260.jpg_masked.jpg   \n",
       "1226                selfie_mshah_0038322.jpg_masked.jpg   \n",
       "554                 selfie_mshah_0038357.jpg_masked.jpg   \n",
       "230   selfie_tag_11316283405_d8fd776a2b_c.jpg_masked...   \n",
       "\n",
       "                                                   path  \n",
       "1255    selfie/selfie_mshah_0002888.jpg_im_skeleton.jpg  \n",
       "1757    selfie/selfie_mshah_0000260.jpg_im_skeleton.jpg  \n",
       "1226    selfie/selfie_mshah_0038322.jpg_im_skeleton.jpg  \n",
       "554     selfie/selfie_mshah_0038357.jpg_im_skeleton.jpg  \n",
       "230   selfie/selfie_tag_11316283405_d8fd776a2b_c.jpg...  \n",
       "\n",
       "[5 rows x 153 columns]"
      ]
     },
     "execution_count": 12,
     "metadata": {},
     "output_type": "execute_result"
    }
   ],
   "source": [
    "print(newdf.shape)\n",
    "newdf.head()"
   ]
  },
  {
   "cell_type": "code",
   "execution_count": 13,
   "metadata": {},
   "outputs": [],
   "source": [
    "def _normalize_images_batch(b:Tuple[Tensor,Tensor], mean:FloatTensor, std:FloatTensor)->Tuple[Tensor,Tensor]:\n",
    "    \"`b` = `x`,`y` - normalize `x` array of imgs and `do_y` optionally `y`.\"\n",
    "    x,y = b\n",
    "    mean,std = mean.to(x[0].device),std.to(x[0].device)\n",
    "    x[0] = normalize(x[0],mean,std)\n",
    "    return x,y\n",
    "\n",
    "def normalize_custom_funcs(mean:FloatTensor, std:FloatTensor, do_x:bool=True, do_y:bool=False)->Tuple[Callable,Callable]:\n",
    "    \"Create normalize/denormalize func using `mean` and `std`, can specify `do_y` and `device`.\"\n",
    "    mean,std = tensor(mean),tensor(std)\n",
    "    return (partial(_normalize_images_batch, mean=mean, std=std),\n",
    "            partial(denormalize, mean=mean, std=std))"
   ]
  },
  {
   "cell_type": "code",
   "execution_count": 14,
   "metadata": {},
   "outputs": [],
   "source": [
    "imgList = ImageList.from_df(newdf, path=image_path, cols='path')"
   ]
  },
  {
   "cell_type": "code",
   "execution_count": 21,
   "metadata": {},
   "outputs": [],
   "source": [
    "cont_vars = selfie_df.columns[7:-3]"
   ]
  },
  {
   "cell_type": "code",
   "execution_count": 22,
   "metadata": {},
   "outputs": [],
   "source": [
    "tabList = TabularList.from_df(newdf, cat_names=[], cont_names=cont_vars, procs=[Normalize])"
   ]
  },
  {
   "cell_type": "code",
   "execution_count": 23,
   "metadata": {},
   "outputs": [],
   "source": [
    "mixed = MixedItemList([imgList, tabList], image_path, inner_df=imgList.inner_df)\\\n",
    ".split_by_rand_pct(.2)\\\n",
    ".label_from_df(cols='class_label')\n",
    "#.transform([[get_transforms()[0], []], [get_transforms()[1], []]], size=224)\n",
    "\n",
    "data = mixed.databunch(no_check=True, bs=64, num_workers=0) # num_workers=0 here just to get errors more quickly"
   ]
  },
  {
   "cell_type": "code",
   "execution_count": null,
   "metadata": {},
   "outputs": [],
   "source": []
  },
  {
   "cell_type": "code",
   "execution_count": 24,
   "metadata": {},
   "outputs": [
    {
     "data": {
      "text/plain": [
       "['non_selfie', 'selfie']"
      ]
     },
     "execution_count": 24,
     "metadata": {},
     "output_type": "execute_result"
    }
   ],
   "source": [
    "data.classes"
   ]
  },
  {
   "cell_type": "code",
   "execution_count": 25,
   "metadata": {},
   "outputs": [],
   "source": [
    "norm, denorm = normalize_custom_funcs(*imagenet_stats)\n",
    "data.add_tfm(norm) # normalize images"
   ]
  },
  {
   "cell_type": "code",
   "execution_count": 26,
   "metadata": {},
   "outputs": [],
   "source": [
    "item, labels = next(iter(data.train_dl))"
   ]
  },
  {
   "cell_type": "code",
   "execution_count": 27,
   "metadata": {},
   "outputs": [
    {
     "data": {
      "text/plain": [
       "[]"
      ]
     },
     "execution_count": 27,
     "metadata": {},
     "output_type": "execute_result"
    }
   ],
   "source": [
    "# item[1][0], item[1][1]\n",
    "mixed.train.x.item_lists[1].get_emb_szs()"
   ]
  },
  {
   "cell_type": "code",
   "execution_count": 28,
   "metadata": {},
   "outputs": [
    {
     "name": "stdout",
     "output_type": "stream",
     "text": [
      "[0.485, 0.456, 0.406] [0.229, 0.224, 0.225]\n"
     ]
    }
   ],
   "source": [
    "print(*imagenet_stats)"
   ]
  },
  {
   "cell_type": "code",
   "execution_count": 29,
   "metadata": {},
   "outputs": [],
   "source": [
    "emb = mixed.train.x.item_lists[1].get_emb_szs()"
   ]
  },
  {
   "cell_type": "code",
   "execution_count": 30,
   "metadata": {},
   "outputs": [],
   "source": [
    "# from fastai.torch_core import *\n",
    "# from fastai.vision import *\n",
    "# from fastai.tabular.models import *\n",
    "# from fastai.tabular import *\n",
    "# from fastai.layers import *\n",
    "# import torch\n",
    "\n",
    "# class ImageTabularModel(nn.Module):\n",
    "#     \"Basic model for tabular data.\"\n",
    "#     def __init__(self, emb_szs:ListSizes, n_cont:int, layers:Collection[int], ps:Collection[float]=None):\n",
    "#         super().__init__()\n",
    "#         self.cnn = create_body(models.resnet34)\n",
    "#         self.tab = TabularModel({}, n_cont, 128, [512, 356]) #TabularModel(emb_szs, n_cont, 512, layers, ps)\n",
    "\n",
    "#         self.reduce = nn.Sequential(*([Flatten()] + bn_drop_lin((512*7*7), 512, bn=True, p=0.5, actn=nn.ReLU(inplace=True))))\n",
    "#         self.merge = nn.Sequential(*bn_drop_lin(512 + 512, 1024, bn=True, p=0.5, actn=nn.ReLU(inplace=True)))\n",
    "#         self.final = nn.Sequential(*bn_drop_lin(1024, 2, bn=True, p=0., actn=nn.ReLU(inplace=True)))\n",
    "\n",
    "#     def forward(self, img:Tensor, x_cat:Tensor, x_cont:Tensor) -> Tensor:\n",
    "#         imgLatent = self.reduce(self.cnn(img))\n",
    "#         tabLatent = self.tab(x_cat, x_cont)\n",
    "\n",
    "#         cat = torch.cat(imgLatent, tabLatent)\n",
    "\n",
    "#         return self.final(self.merge(cat))"
   ]
  },
  {
   "cell_type": "code",
   "execution_count": 31,
   "metadata": {},
   "outputs": [],
   "source": [
    "def split_layers(model:nn.Module) -> List[nn.Module]:\n",
    "    groups = [[model.cnn]]\n",
    "    groups += [[model.tab, model.reduce, model.merge, model.final]]\n",
    "    return groups\n",
    "\n",
    "class ImageTabularTextLearner(Learner):\n",
    "    def __init__(self, data:DataBunch, model:nn.Module, alpha:float=2., beta:float=1., **learn_kwargs):\n",
    "        super().__init__(data, model, **learn_kwargs)\n",
    "        self.split(split_layers)"
   ]
  },
  {
   "cell_type": "code",
   "execution_count": 48,
   "metadata": {},
   "outputs": [],
   "source": [
    "class ImageTabularTextModel(nn.Module):\n",
    "    def __init__(self, n_cont:int):\n",
    "        super().__init__()\n",
    "        self.cnn = create_body(models.resnet34)\n",
    "        nf = num_features_model(self.cnn) * 2\n",
    "        drop = .5\n",
    "\n",
    "        self.tab = TabularModel({}, n_cont, 128, [512, 512, 256])\n",
    "\n",
    "        self.reduce = nn.Sequential(*([AdaptiveConcatPool2d(), Flatten()] + bn_drop_lin(nf, 512, bn=True, p=drop, actn=nn.ReLU(inplace=True))))\n",
    "        self.merge = nn.Sequential(*bn_drop_lin(512 + 128, 128, bn=True, p=drop, actn=nn.ReLU(inplace=True)))\n",
    "        self.final = nn.Sequential(*bn_drop_lin(128, 2, bn=False, p=0., actn=None))\n",
    "        #self.final = nn.Sequential(*bn_drop_lin(512, 2, bn=False, p=0., actn=None))\n",
    "        #print(self)\n",
    "        \n",
    "    def forward(self, img:Tensor, x:Tensor) -> Tensor:\n",
    "        #print(img.shape)        \n",
    "        imgCnn = self.cnn(img)\n",
    "        #print(imgCnn.shape)\n",
    "        imgLatent = self.reduce(imgCnn)\n",
    "        #print(imgLatent.shape)\n",
    "        tabLatent = self.tab(x[0], x[1])\n",
    "        #print(tabLatent.shape)\n",
    "        \n",
    "        cat = torch.cat([imgLatent, F.relu(tabLatent)], dim=1)\n",
    "        #print(cat.shape)\n",
    "        \n",
    "        pred = self.final(self.merge(cat))\n",
    "        #pred = torch.sigmoid(pred)  # making sure this is in the range 0-4\n",
    "        #pred = torch.sigmoid(self.final(self.reduce(imgCnn)))\n",
    "        #print(pred)\n",
    "        return pred #torch.softmax(torxh.zeros(1,2))\n",
    "        \n",
    "    def reset(self):\n",
    "        for c in self.children():\n",
    "            if hasattr(c, 'reset'): c.reset()"
   ]
  },
  {
   "cell_type": "code",
   "execution_count": 49,
   "metadata": {},
   "outputs": [],
   "source": [
    "model = ImageTabularTextModel(len(cont_vars))\n",
    "learn = ImageTabularTextLearner(data, model, metrics=[error_rate])"
   ]
  },
  {
   "cell_type": "code",
   "execution_count": 50,
   "metadata": {},
   "outputs": [],
   "source": [
    "# it = iter(data.valid_dl)\n",
    "# for item, label in it:\n",
    "#     print(label)"
   ]
  },
  {
   "cell_type": "code",
   "execution_count": 51,
   "metadata": {},
   "outputs": [
    {
     "data": {
      "text/html": [],
      "text/plain": [
       "<IPython.core.display.HTML object>"
      ]
     },
     "metadata": {},
     "output_type": "display_data"
    },
    {
     "name": "stdout",
     "output_type": "stream",
     "text": [
      "LR Finder is complete, type {learner_name}.recorder.plot() to see the graph.\n"
     ]
    }
   ],
   "source": [
    "learn.lr_find()"
   ]
  },
  {
   "cell_type": "code",
   "execution_count": 52,
   "metadata": {},
   "outputs": [
    {
     "data": {
      "image/png": "[encoded data removed]",
      "text/plain": [
       "<Figure size 432x288 with 1 Axes>"
      ]
     },
     "metadata": {
      "needs_background": "light"
     },
     "output_type": "display_data"
    }
   ],
   "source": [
    "learn.recorder.plot()"
   ]
  },
  {
   "cell_type": "code",
   "execution_count": 53,
   "metadata": {},
   "outputs": [
    {
     "data": {
      "text/html": [
       "<table border=\"1\" class=\"dataframe\">\n",
       "  <thead>\n",
       "    <tr style=\"text-align: left;\">\n",
       "      <th>epoch</th>\n",
       "      <th>train_loss</th>\n",
       "      <th>valid_loss</th>\n",
       "      <th>error_rate</th>\n",
       "      <th>time</th>\n",
       "    </tr>\n",
       "  </thead>\n",
       "  <tbody>\n",
       "    <tr>\n",
       "      <td>0</td>\n",
       "      <td>0.644326</td>\n",
       "      <td>0.588550</td>\n",
       "      <td>0.188377</td>\n",
       "      <td>00:08</td>\n",
       "    </tr>\n",
       "    <tr>\n",
       "      <td>1</td>\n",
       "      <td>0.437755</td>\n",
       "      <td>0.248324</td>\n",
       "      <td>0.096192</td>\n",
       "      <td>00:08</td>\n",
       "    </tr>\n",
       "    <tr>\n",
       "      <td>2</td>\n",
       "      <td>0.277291</td>\n",
       "      <td>0.531088</td>\n",
       "      <td>0.182365</td>\n",
       "      <td>00:08</td>\n",
       "    </tr>\n",
       "    <tr>\n",
       "      <td>3</td>\n",
       "      <td>0.196097</td>\n",
       "      <td>0.518633</td>\n",
       "      <td>0.176353</td>\n",
       "      <td>00:08</td>\n",
       "    </tr>\n",
       "    <tr>\n",
       "      <td>4</td>\n",
       "      <td>0.140534</td>\n",
       "      <td>0.362858</td>\n",
       "      <td>0.114228</td>\n",
       "      <td>00:08</td>\n",
       "    </tr>\n",
       "    <tr>\n",
       "      <td>5</td>\n",
       "      <td>0.098261</td>\n",
       "      <td>0.317008</td>\n",
       "      <td>0.098196</td>\n",
       "      <td>00:08</td>\n",
       "    </tr>\n",
       "    <tr>\n",
       "      <td>6</td>\n",
       "      <td>0.072811</td>\n",
       "      <td>0.325145</td>\n",
       "      <td>0.102204</td>\n",
       "      <td>00:08</td>\n",
       "    </tr>\n",
       "    <tr>\n",
       "      <td>7</td>\n",
       "      <td>0.045126</td>\n",
       "      <td>0.305593</td>\n",
       "      <td>0.082164</td>\n",
       "      <td>00:08</td>\n",
       "    </tr>\n",
       "    <tr>\n",
       "      <td>8</td>\n",
       "      <td>0.025878</td>\n",
       "      <td>0.293106</td>\n",
       "      <td>0.074148</td>\n",
       "      <td>00:08</td>\n",
       "    </tr>\n",
       "    <tr>\n",
       "      <td>9</td>\n",
       "      <td>0.015895</td>\n",
       "      <td>0.296829</td>\n",
       "      <td>0.076152</td>\n",
       "      <td>00:08</td>\n",
       "    </tr>\n",
       "  </tbody>\n",
       "</table>"
      ],
      "text/plain": [
       "<IPython.core.display.HTML object>"
      ]
     },
     "metadata": {},
     "output_type": "display_data"
    }
   ],
   "source": [
    "learn.fit_one_cycle(10, .4e-3)"
   ]
  },
  {
   "cell_type": "code",
   "execution_count": 54,
   "metadata": {},
   "outputs": [],
   "source": [
    "learn.save('resnet34_stage_1_im_sk_ypr_dlib')\n",
    "# learn.fit_one_cycle(5, .7e-3)\n",
    "learn.load('resnet34_stage_1_im_sk_ypr_dlib');"
   ]
  },
  {
   "cell_type": "code",
   "execution_count": 55,
   "metadata": {},
   "outputs": [],
   "source": [
    "learn.unfreeze()"
   ]
  },
  {
   "cell_type": "code",
   "execution_count": 56,
   "metadata": {},
   "outputs": [
    {
     "data": {
      "text/html": [],
      "text/plain": [
       "<IPython.core.display.HTML object>"
      ]
     },
     "metadata": {},
     "output_type": "display_data"
    },
    {
     "name": "stdout",
     "output_type": "stream",
     "text": [
      "LR Finder is complete, type {learner_name}.recorder.plot() to see the graph.\n"
     ]
    }
   ],
   "source": [
    "learn.lr_find()"
   ]
  },
  {
   "cell_type": "code",
   "execution_count": 57,
   "metadata": {},
   "outputs": [
    {
     "data": {
      "image/png": "[encoded data removed]",
      "text/plain": [
       "<Figure size 432x288 with 1 Axes>"
      ]
     },
     "metadata": {
      "needs_background": "light"
     },
     "output_type": "display_data"
    }
   ],
   "source": [
    "learn.recorder.plot()"
   ]
  },
  {
   "cell_type": "code",
   "execution_count": 58,
   "metadata": {},
   "outputs": [
    {
     "data": {
      "text/html": [
       "<table border=\"1\" class=\"dataframe\">\n",
       "  <thead>\n",
       "    <tr style=\"text-align: left;\">\n",
       "      <th>epoch</th>\n",
       "      <th>train_loss</th>\n",
       "      <th>valid_loss</th>\n",
       "      <th>error_rate</th>\n",
       "      <th>time</th>\n",
       "    </tr>\n",
       "  </thead>\n",
       "  <tbody>\n",
       "    <tr>\n",
       "      <td>0</td>\n",
       "      <td>0.004695</td>\n",
       "      <td>0.298407</td>\n",
       "      <td>0.078156</td>\n",
       "      <td>00:08</td>\n",
       "    </tr>\n",
       "    <tr>\n",
       "      <td>1</td>\n",
       "      <td>0.004869</td>\n",
       "      <td>0.294852</td>\n",
       "      <td>0.076152</td>\n",
       "      <td>00:08</td>\n",
       "    </tr>\n",
       "    <tr>\n",
       "      <td>2</td>\n",
       "      <td>0.004263</td>\n",
       "      <td>0.294065</td>\n",
       "      <td>0.074148</td>\n",
       "      <td>00:08</td>\n",
       "    </tr>\n",
       "    <tr>\n",
       "      <td>3</td>\n",
       "      <td>0.003870</td>\n",
       "      <td>0.297396</td>\n",
       "      <td>0.078156</td>\n",
       "      <td>00:08</td>\n",
       "    </tr>\n",
       "    <tr>\n",
       "      <td>4</td>\n",
       "      <td>0.005847</td>\n",
       "      <td>0.296084</td>\n",
       "      <td>0.072144</td>\n",
       "      <td>00:08</td>\n",
       "    </tr>\n",
       "    <tr>\n",
       "      <td>5</td>\n",
       "      <td>0.004345</td>\n",
       "      <td>0.298737</td>\n",
       "      <td>0.072144</td>\n",
       "      <td>00:08</td>\n",
       "    </tr>\n",
       "    <tr>\n",
       "      <td>6</td>\n",
       "      <td>0.003790</td>\n",
       "      <td>0.298913</td>\n",
       "      <td>0.072144</td>\n",
       "      <td>00:08</td>\n",
       "    </tr>\n",
       "    <tr>\n",
       "      <td>7</td>\n",
       "      <td>0.004970</td>\n",
       "      <td>0.297645</td>\n",
       "      <td>0.074148</td>\n",
       "      <td>00:08</td>\n",
       "    </tr>\n",
       "    <tr>\n",
       "      <td>8</td>\n",
       "      <td>0.005695</td>\n",
       "      <td>0.299446</td>\n",
       "      <td>0.078156</td>\n",
       "      <td>00:08</td>\n",
       "    </tr>\n",
       "    <tr>\n",
       "      <td>9</td>\n",
       "      <td>0.004873</td>\n",
       "      <td>0.296726</td>\n",
       "      <td>0.072144</td>\n",
       "      <td>00:08</td>\n",
       "    </tr>\n",
       "  </tbody>\n",
       "</table>"
      ],
      "text/plain": [
       "<IPython.core.display.HTML object>"
      ]
     },
     "metadata": {},
     "output_type": "display_data"
    }
   ],
   "source": [
    "learn.fit_one_cycle(10, max_lr=slice(1e-6,1e-6/3))"
   ]
  },
  {
   "cell_type": "code",
   "execution_count": 60,
   "metadata": {},
   "outputs": [],
   "source": [
    "learn.save('resnet34_stage_2_im_sk_ypr_dlib')"
   ]
  },
  {
   "cell_type": "code",
   "execution_count": 59,
   "metadata": {},
   "outputs": [
    {
     "data": {
      "text/html": [],
      "text/plain": [
       "<IPython.core.display.HTML object>"
      ]
     },
     "metadata": {},
     "output_type": "display_data"
    },
    {
     "name": "stdout",
     "output_type": "stream",
     "text": [
      "LR Finder is complete, type {learner_name}.recorder.plot() to see the graph.\n"
     ]
    },
    {
     "data": {
      "image/png": "[encoded data removed]",
      "text/plain": [
       "<Figure size 432x288 with 1 Axes>"
      ]
     },
     "metadata": {
      "needs_background": "light"
     },
     "output_type": "display_data"
    }
   ],
   "source": [
    "learn.lr_find()\n",
    "learn.recorder.plot()"
   ]
  },
  {
   "cell_type": "code",
   "execution_count": 61,
   "metadata": {},
   "outputs": [
    {
     "data": {
      "text/html": [
       "<table border=\"1\" class=\"dataframe\">\n",
       "  <thead>\n",
       "    <tr style=\"text-align: left;\">\n",
       "      <th>epoch</th>\n",
       "      <th>train_loss</th>\n",
       "      <th>valid_loss</th>\n",
       "      <th>error_rate</th>\n",
       "      <th>time</th>\n",
       "    </tr>\n",
       "  </thead>\n",
       "  <tbody>\n",
       "    <tr>\n",
       "      <td>0</td>\n",
       "      <td>0.003243</td>\n",
       "      <td>0.299183</td>\n",
       "      <td>0.074148</td>\n",
       "      <td>00:08</td>\n",
       "    </tr>\n",
       "    <tr>\n",
       "      <td>1</td>\n",
       "      <td>0.002898</td>\n",
       "      <td>0.297075</td>\n",
       "      <td>0.072144</td>\n",
       "      <td>00:08</td>\n",
       "    </tr>\n",
       "    <tr>\n",
       "      <td>2</td>\n",
       "      <td>0.003435</td>\n",
       "      <td>0.300199</td>\n",
       "      <td>0.078156</td>\n",
       "      <td>00:08</td>\n",
       "    </tr>\n",
       "    <tr>\n",
       "      <td>3</td>\n",
       "      <td>0.003472</td>\n",
       "      <td>0.300865</td>\n",
       "      <td>0.076152</td>\n",
       "      <td>00:08</td>\n",
       "    </tr>\n",
       "    <tr>\n",
       "      <td>4</td>\n",
       "      <td>0.004625</td>\n",
       "      <td>0.300685</td>\n",
       "      <td>0.074148</td>\n",
       "      <td>00:08</td>\n",
       "    </tr>\n",
       "    <tr>\n",
       "      <td>5</td>\n",
       "      <td>0.004842</td>\n",
       "      <td>0.299041</td>\n",
       "      <td>0.074148</td>\n",
       "      <td>00:08</td>\n",
       "    </tr>\n",
       "    <tr>\n",
       "      <td>6</td>\n",
       "      <td>0.003964</td>\n",
       "      <td>0.299066</td>\n",
       "      <td>0.070140</td>\n",
       "      <td>00:08</td>\n",
       "    </tr>\n",
       "    <tr>\n",
       "      <td>7</td>\n",
       "      <td>0.003784</td>\n",
       "      <td>0.298916</td>\n",
       "      <td>0.078156</td>\n",
       "      <td>00:08</td>\n",
       "    </tr>\n",
       "    <tr>\n",
       "      <td>8</td>\n",
       "      <td>0.003373</td>\n",
       "      <td>0.296978</td>\n",
       "      <td>0.074148</td>\n",
       "      <td>00:08</td>\n",
       "    </tr>\n",
       "    <tr>\n",
       "      <td>9</td>\n",
       "      <td>0.003082</td>\n",
       "      <td>0.301354</td>\n",
       "      <td>0.076152</td>\n",
       "      <td>00:08</td>\n",
       "    </tr>\n",
       "  </tbody>\n",
       "</table>"
      ],
      "text/plain": [
       "<IPython.core.display.HTML object>"
      ]
     },
     "metadata": {},
     "output_type": "display_data"
    }
   ],
   "source": [
    "learn.fit_one_cycle(10, max_lr=slice(.8e-6,.8e-6/3))"
   ]
  },
  {
   "cell_type": "code",
   "execution_count": 62,
   "metadata": {},
   "outputs": [],
   "source": [
    "interp = ClassificationInterpretation.from_learner(learn)"
   ]
  },
  {
   "cell_type": "code",
   "execution_count": 63,
   "metadata": {},
   "outputs": [
    {
     "data": {
      "image/png": "[encoded data removed]",
      "text/plain": [
       "<Figure size 432x288 with 1 Axes>"
      ]
     },
     "metadata": {
      "needs_background": "light"
     },
     "output_type": "display_data"
    }
   ],
   "source": [
    "interp.plot_confusion_matrix()"
   ]
  },
  {
   "cell_type": "code",
   "execution_count": 64,
   "metadata": {},
   "outputs": [
    {
     "data": {
      "text/plain": [
       "array([[0.938849, 0.061151],\n",
       "       [0.095023, 0.904977]])"
      ]
     },
     "execution_count": 64,
     "metadata": {},
     "output_type": "execute_result"
    }
   ],
   "source": [
    "confusion_mat = interp.confusion_matrix()\n",
    "confusion_mat/np.sum(confusion_mat, axis = 1).reshape(-1,1)"
   ]
  },
  {
   "cell_type": "code",
   "execution_count": 57,
   "metadata": {},
   "outputs": [
    {
     "data": {
      "text/plain": [
       "(2440, 609)"
      ]
     },
     "execution_count": 57,
     "metadata": {},
     "output_type": "execute_result"
    }
   ],
   "source": [
    "len(data.train_ds), len(data.valid_ds)"
   ]
  },
  {
   "cell_type": "code",
   "execution_count": null,
   "metadata": {},
   "outputs": [],
   "source": []
  }
 ],
 "metadata": {
  "kernelspec": {
   "display_name": "Python 3",
   "language": "python",
   "name": "python3"
  },
  "language_info": {
   "codemirror_mode": {
    "name": "ipython",
    "version": 3
   },
   "file_extension": ".py",
   "mimetype": "text/x-python",
   "name": "python",
   "nbconvert_exporter": "python",
   "pygments_lexer": "ipython3",
   "version": "3.7.3"
  }
 },
 "nbformat": 4,
 "nbformat_minor": 2
}
