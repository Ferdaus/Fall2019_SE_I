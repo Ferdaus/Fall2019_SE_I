{
 "cells": [
  {
   "cell_type": "markdown",
   "metadata": {},
   "source": [
    "# Script for adding informative prefix to search-engine-downloaded images   \n",
    "## image downloaders download images and name them with numbers, but we want to associate each downloaded image with which search engine it was downloaded with, search keyword, search type, search date-range, and so on. This script (should be run only once after image downloaders download images from the internet) renames downloaded images to add an informative prefix.  "
   ]
  },
  {
   "cell_type": "code",
   "execution_count": 1,
   "metadata": {},
   "outputs": [],
   "source": [
    "import glob\n",
    "import shutil\n",
    "import os\n",
    "from datetime import date, datetime as datetime"
   ]
  },
  {
   "cell_type": "markdown",
   "metadata": {},
   "source": [
    "# For Baidu images"
   ]
  },
  {
   "cell_type": "code",
   "execution_count": 3,
   "metadata": {},
   "outputs": [],
   "source": [
    "# # rename baidu images to add prefix containing search engine, search keyword, and type \n",
    "\n",
    "# img_dir = '/disks/data/datasets/selfie_project_datasets/downloaded_images/baidu/'\n",
    "\n",
    "# dirs = glob.glob(img_dir+'/**/*')\n",
    "    \n",
    "# for d in dirs:\n",
    "#     dirpath, dirname = os.path.split(d) \n",
    "#     print(d)\n",
    "#     img_prefix = 'baidu_'+dirname.replace('images_','')+'_' \n",
    "#     img_files = glob.glob(d + '/*')\n",
    "#     print(len(img_files))\n",
    "#     for img in img_files:\n",
    "#         dir_name, fname = os.path.split(img)\n",
    "#         fname = img_prefix + fname\n",
    "#         shutil.move(img, os.path.join(dir_name, fname))\n",
    "   \n",
    "#     print()"
   ]
  },
  {
   "cell_type": "markdown",
   "metadata": {},
   "source": [
    "# For Bing images"
   ]
  },
  {
   "cell_type": "code",
   "execution_count": null,
   "metadata": {},
   "outputs": [],
   "source": [
    "# # rename bing images to add prefix containing search engine, search keyword, and type \n",
    "\n",
    "# img_dir = '/disks/data/datasets/selfie_project_datasets/downloaded_images/bing/'\n",
    "\n",
    "\n",
    "# dirs = glob.glob(img_dir+'/**/*')\n",
    "    \n",
    "# for d in dirs:\n",
    "#     dirpath, dirname = os.path.split(d) \n",
    "#     print(d)\n",
    "#     img_prefix = 'bing_'+dirname.replace('images_','')+'_' \n",
    "#     print(img_prefix)\n",
    "#     img_files = glob.glob(d + '/*')\n",
    "#     print(len(img_files))\n",
    "#     for img in img_files:\n",
    "#         dir_name, fname = os.path.split(img)\n",
    "#         fname = img_prefix + fname\n",
    "#         shutil.move(img, os.path.join(dir_name, fname))\n",
    "#         #print(fname)\n",
    "#     print()"
   ]
  },
  {
   "cell_type": "markdown",
   "metadata": {},
   "source": [
    "# For Google images"
   ]
  },
  {
   "cell_type": "code",
   "execution_count": null,
   "metadata": {},
   "outputs": [],
   "source": [
    "# # rename google images to add prefix containing search engine, search keyword, and type \n",
    "\n",
    "# img_dir = '/disks/data/datasets/selfie_project_datasets/downloaded_images/google/'\n",
    "\n",
    "\n",
    "# dirs = glob.glob(img_dir+'/**/*')\n",
    "    \n",
    "# for d in dirs:\n",
    "#     dirpath, dirname = os.path.split(d) \n",
    "#     print(d)\n",
    "#     search_result_dirs = glob.glob(d+'/*')\n",
    "#     for search_result_dir in search_result_dirs:\n",
    "#         sr_dirpath, sr_dirname = os.path.split(search_result_dir)\n",
    "#         print('\\t',dirname)   \n",
    "#         print('\\t',sr_dirname)\n",
    "#         sr_dirname = sr_dirname.replace('images_','')\n",
    "#         comps = dirname.split('_')       \n",
    "#         for comp in comps:\n",
    "#             #if comp.strip() !='':\n",
    "#             sr_dirname = sr_dirname.replace(comp+'_',\"\")\n",
    "#                 #sr_dirname = sr_dirname.replace('_'+comp,\"\")\n",
    "#         sr_dirname = sr_dirname.replace('_',\"\")        \n",
    "#         search_date = datetime.strptime(sr_dirname, \"%d%b%Y\").date()\n",
    "#         search_date_str = search_date.strftime('%d%m%y')\n",
    "        \n",
    "#         img_prefix = 'google_'+dirname+'_' + search_date_str + '_' \n",
    "#         print('\\t','img_prefix:',img_prefix)\n",
    "#         img_files = glob.glob(search_result_dir + '/*')\n",
    "#         print('\\t',len(img_files))\n",
    "#         for img in img_files:\n",
    "#             dir_name, fname = os.path.split(img)\n",
    "#             fname = img_prefix + fname\n",
    "#             shutil.move(img, os.path.join(dir_name, fname))\n",
    "#             #print(fname)\n",
    "#         print()"
   ]
  },
  {
   "cell_type": "markdown",
   "metadata": {},
   "source": [
    "# For ImageNet images"
   ]
  },
  {
   "cell_type": "code",
   "execution_count": 6,
   "metadata": {},
   "outputs": [],
   "source": [
    "# # rename ImageNet images to add prefix containing image class\n",
    "\n",
    "# img_base_dir = '/disks/data/datasets/selfie_project_datasets/downloaded_images'\n",
    "# img_dirs = [f'{img_base_dir}/imagenet_homosapiens', f'{img_base_dir}/imagenet_humanrace']\n",
    "\n",
    "# for img_dir in img_dirs:\n",
    "\n",
    "#     images = glob.glob(img_dir+'/*')\n",
    "#     _, img_dirname = os.path.split(img_dir) \n",
    "#     img_prefix = img_dirname.lower() + '_'\n",
    "#     print(img_dirname)\n",
    "#     print(len(images))\n",
    "\n",
    "#     for img in images:\n",
    "#         imgpath, imgname = os.path.split(img) \n",
    "#         new_fname = os.path.join(imgpath, img_prefix + imgname)\n",
    "#         shutil.move(img, os.path.join(imgpath, new_fname))\n",
    "\n",
    "#     print()"
   ]
  },
  {
   "cell_type": "markdown",
   "metadata": {},
   "source": [
    "# For MubarakShah selfie images"
   ]
  },
  {
   "cell_type": "code",
   "execution_count": 7,
   "metadata": {},
   "outputs": [],
   "source": [
    "# # rename Mubarak Shah selfie dataset images to add prefix containing this label\n",
    "\n",
    "# img_base_dir = '/disks/data/datasets/selfie_project_datasets/downloaded_images'\n",
    "# img_dir = f'{img_base_dir}/selfie_mshah'\n",
    "\n",
    "\n",
    "# images = glob.glob(img_dir+'/**/*')\n",
    "# _, img_dirname = os.path.split(img_dir) \n",
    "# img_prefix = img_dirname.lower() + '_'\n",
    "# print(img_dirname)\n",
    "# print(len(images))\n",
    "\n",
    "# with open('/disks/data/datasets/selfie_project_datasets/downloaded_images/imgID_2_MShah_ID_mapping.txt','w') as f:\n",
    "#     count = 0\n",
    "#     for img in images:\n",
    "#         imID = f'{count:07d}'        \n",
    "#         imgpath, imgname = os.path.split(img) \n",
    "#         imgnamestr, ext = os.path.splitext(imgname)\n",
    "        \n",
    "#         new_fname = img_prefix+imID+ext\n",
    "        \n",
    "#         f.write(new_fname+' '+imgname+'\\n')\n",
    "#         shutil.move(img, os.path.join(imgpath, new_fname))\n",
    "#         count += 1\n",
    "        \n",
    "#     print()"
   ]
  },
  {
   "cell_type": "markdown",
   "metadata": {},
   "source": [
    "# For Flickr images"
   ]
  },
  {
   "cell_type": "markdown",
   "metadata": {},
   "source": [
    "### Move images from multiple subdirectories to under same directory to eliminate duplicate image downloads"
   ]
  },
  {
   "cell_type": "code",
   "execution_count": 46,
   "metadata": {},
   "outputs": [],
   "source": [
    "# First, merge the contents of all the subdirectories (selfie-shots_group and selfie-shots_group_flickr) of the selfie directory. Do the same for non-selfie directory\n",
    "\n",
    "# img_base_dir = '/disks/data/datasets/selfie_project_datasets/downloaded_images/flickr'\n",
    "# selfie_img_dir = f'{img_base_dir}/selfie'\n",
    "\n",
    "# selfie_dirs = glob.glob(selfie_img_dir+'/*')\n",
    "\n",
    "# dest_selfie = selfie_img_dir+'/selfie_shots'\n",
    "# os.makedirs(dest_selfie, exist_ok=True)\n",
    "\n",
    "\n",
    "# for s_dir in selfie_dirs:\n",
    "#     print(s_dir)\n",
    "#     imgs = glob.glob(s_dir+'/**/*')\n",
    "#     len(imgs)\n",
    "#     for img in imgs:\n",
    "#         try:\n",
    "#             shutil.move(img, dest_selfie)\n",
    "#         except:\n",
    "#             pass\n",
    "\n",
    "\n",
    "# move images from the selfie_tag directory/worker_id to selfie_tag\n",
    "\n",
    "# img_base_dir = '/disks/data/datasets/selfie_project_datasets/downloaded_images/flickr/selfie/selfie_tag_worker'\n",
    "\n",
    "# dest_dir = img_base_dir.replace('_worker','')\n",
    "# os.makedirs(dest_dir, exist_ok=True)\n",
    "\n",
    "# imgs = glob.glob(img_base_dir+'/**/*')\n",
    "# len(imgs)\n",
    "# for img in imgs:\n",
    "#     shutil.move(img, dest_dir)\n",
    "    \n",
    "    \n",
    "    \n",
    "# # ------------------------------- non_selfies\n",
    "\n",
    "# # move the images from all non-selfie directory to under one directory to remove duplicate downloads\n",
    "\n",
    "# img_base_dir = '/disks/data/datasets/selfie_project_datasets/downloaded_images/flickr'\n",
    "# non_selfie_img_dir = f'{img_base_dir}/non_selfie'\n",
    "\n",
    "# non_selfie_dirs = glob.glob(non_selfie_img_dir+'/*')\n",
    "\n",
    "# dest_non_selfie = non_selfie_img_dir+'/non_selfie__merged'\n",
    "# os.makedirs(dest_non_selfie, exist_ok=True)\n",
    "\n",
    "\n",
    "# for ns_dir in non_selfie_dirs:\n",
    "#     print(ns_dir)\n",
    "#     #imgs = glob.glob(ns_dir+'/**/*')\n",
    "#     imgs = glob.glob(ns_dir+'/*')\n",
    "#     for img in imgs:\n",
    "#         try:\n",
    "#             shutil.move(img, dest_non_selfie)\n",
    "#         except:\n",
    "#             pass\n",
    "        "
   ]
  },
  {
   "cell_type": "markdown",
   "metadata": {},
   "source": [
    "### Now rename the images with prefix    "
   ]
  },
  {
   "cell_type": "code",
   "execution_count": 45,
   "metadata": {},
   "outputs": [],
   "source": [
    "# rename images selfie dataset images to add prefix containing their download query type and keyword\n",
    "\n",
    "# img_base_dir = '/disks/data/datasets/selfie_project_datasets/downloaded_images/flickr'\n",
    "# img_dir = f'{img_base_dir}/selfie'\n",
    "\n",
    "\n",
    "# img_dirs = glob.glob(img_dir+'/*')\n",
    "# for img_dir in img_dirs:\n",
    "#     _, img_dirname = os.path.split(img_dir) \n",
    "#     img_prefix = img_dirname.lower() + '_'\n",
    "#     print(img_dirname)\n",
    "#     print(img_prefix)\n",
    "#     images = glob.glob(img_dir+'/*')\n",
    "#     print(len(images))\n",
    "    \n",
    "#     for img in images:\n",
    "#         imgpath, imgname = os.path.split(img) \n",
    "#         new_fname = img_prefix+imgname\n",
    "#         #print(img)\n",
    "#         new_full_path = os.path.join(imgpath, new_fname)\n",
    "#         #print(new_full_path)\n",
    "#         ##dirpath, dirname = os.path.split(imgpath)\n",
    "#         ##print(dirpath)\n",
    "#         ##shutil.move(img, os.path.join(dirpath, new_fname))\n",
    "#         shutil.move(img, os.path.join(imgpath, new_fname))\n",
    "#     print()\n",
    "#     ##shutil.rmtree(img_dir)    \n",
    "    \n",
    "    \n",
    "    \n",
    "# img_base_dir = '/disks/data/datasets/selfie_project_datasets/downloaded_images/flickr'\n",
    "# img_dir = f'{img_base_dir}/non_selfie'\n",
    "\n",
    "\n",
    "# img_dirs = glob.glob(img_dir+'/*')\n",
    "# for img_dir in img_dirs:\n",
    "#     _, img_dirname = os.path.split(img_dir) \n",
    "#     img_prefix = img_dirname.lower() + '_'\n",
    "#     print(img_dirname)\n",
    "#     print(img_prefix)\n",
    "#     images = glob.glob(img_dir+'/*')\n",
    "#     print(len(images))\n",
    "    \n",
    "#     for img in images:\n",
    "#         imgpath, imgname = os.path.split(img) \n",
    "#         new_fname = img_prefix+imgname\n",
    "#         #print(img)\n",
    "#         new_full_path = os.path.join(imgpath, new_fname)\n",
    "#         #print(new_full_path)\n",
    "#         ##dirpath, dirname = os.path.split(imgpath)\n",
    "#         ##print(dirpath)\n",
    "#         ##shutil.move(img, os.path.join(dirpath, new_fname))\n",
    "#         shutil.move(img, os.path.join(imgpath, new_fname))\n",
    "#     #shutil.rmtree(img_dir) "
   ]
  },
  {
   "cell_type": "code",
   "execution_count": null,
   "metadata": {},
   "outputs": [],
   "source": []
  },
  {
   "cell_type": "code",
   "execution_count": null,
   "metadata": {},
   "outputs": [],
   "source": []
  },
  {
   "cell_type": "code",
   "execution_count": null,
   "metadata": {},
   "outputs": [],
   "source": []
  }
 ],
 "metadata": {
  "kernelspec": {
   "display_name": "Python 3",
   "language": "python",
   "name": "python3"
  },
  "language_info": {
   "codemirror_mode": {
    "name": "ipython",
    "version": 3
   },
   "file_extension": ".py",
   "mimetype": "text/x-python",
   "name": "python",
   "nbconvert_exporter": "python",
   "pygments_lexer": "ipython3",
   "version": "3.6.6"
  }
 },
 "nbformat": 4,
 "nbformat_minor": 2
}
