{
 "cells": [
  {
   "cell_type": "code",
   "execution_count": 1,
   "metadata": {},
   "outputs": [],
   "source": [
    "import pandas as pd\n",
    "import pathlib\n",
    "import numpy as np"
   ]
  },
  {
   "cell_type": "code",
   "execution_count": 2,
   "metadata": {},
   "outputs": [],
   "source": [
    "# basepath = pathlib.Path('/disks/data/paper_projects/selfie_detection/data/DS_224_all_features_no_duplicates/images_dockerfaces_yaw-pitch-roll')\n",
    "\n",
    "\n",
    "# class_name = 'mirror_selfie'\n",
    "# dfR = pd.read_csv(basepath/f'{class_name}__confirmed_faces.txt', header=None,delimiter=' ')\n",
    "# dfL = pd.read_csv(basepath/f'{class_name}__confirmed_vidframenames.txt', header=None,delimiter=' ')\n",
    "# df_ypr = pd.read_csv(basepath/f'{class_name}__confirmed_ypr.txt', header=None,delimiter=' ')\n",
    "\n",
    "\n",
    "# csv_savepath = '/disks/data/paper_projects/selfie_detection/data/DS_224_all_features_no_duplicates/yaw_pitch_roll/'\n",
    "\n",
    "\n",
    "basepath = \\\n",
    "    pathlib.Path('/disks/data/paper_projects/selfie_detection/data/DS_224_all_features_no_duplicates/images_dockerfaces_yaw-pitch-roll_224x224_July22nd')\n",
    "\n",
    "\n",
    "class_name = 'mirror_selfie'\n",
    "dfR = pd.read_csv(basepath/f'{class_name}__confirmed_faces_July22nd.txt', header=None,delimiter=' ')\n",
    "dfL = pd.read_csv(basepath/f'{class_name}__confirmed_224x224_July22nd_vidframenames.txt', header=None,delimiter=' ')\n",
    "df_ypr = pd.read_csv(basepath/f'{class_name}__confirmed_ypr_July22nd.txt', header=None,delimiter=' ')\n",
    "\n",
    "\n",
    "csv_savepath = '/disks/data/paper_projects/selfie_detection/data/DS_224_all_features_no_duplicates/yaw_pitch_roll_July22nd/'"
   ]
  },
  {
   "cell_type": "code",
   "execution_count": 3,
   "metadata": {},
   "outputs": [
    {
     "name": "stdout",
     "output_type": "stream",
     "text": [
      "Int64Index([0], dtype='int64')\n",
      "305\n",
      "Int64Index([0, 1, 2, 3, 4, 5], dtype='int64')\n",
      "321\n",
      "Int64Index([0, 1, 2, 3], dtype='int64')\n",
      "304\n"
     ]
    }
   ],
   "source": [
    "print(dfL.columns)\n",
    "print(len(dfL.index))\n",
    "\n",
    "print(dfR.columns)\n",
    "print(len(dfR.index))\n",
    "\n",
    "print(df_ypr.columns)\n",
    "print(len(df_ypr.index))"
   ]
  },
  {
   "cell_type": "markdown",
   "metadata": {},
   "source": [
    "# Left frame (image files)"
   ]
  },
  {
   "cell_type": "code",
   "execution_count": 4,
   "metadata": {},
   "outputs": [
    {
     "data": {
      "text/html": [
       "<div>\n",
       "<style scoped>\n",
       "    .dataframe tbody tr th:only-of-type {\n",
       "        vertical-align: middle;\n",
       "    }\n",
       "\n",
       "    .dataframe tbody tr th {\n",
       "        vertical-align: top;\n",
       "    }\n",
       "\n",
       "    .dataframe thead th {\n",
       "        text-align: right;\n",
       "    }\n",
       "</style>\n",
       "<table border=\"1\" class=\"dataframe\">\n",
       "  <thead>\n",
       "    <tr style=\"text-align: right;\">\n",
       "      <th></th>\n",
       "      <th>0</th>\n",
       "    </tr>\n",
       "  </thead>\n",
       "  <tbody>\n",
       "    <tr>\n",
       "      <th>0</th>\n",
       "      <td>/home/tarik/data/mirror_selfie__confirmed_224x...</td>\n",
       "    </tr>\n",
       "    <tr>\n",
       "      <th>1</th>\n",
       "      <td>/home/tarik/data/mirror_selfie__confirmed_224x...</td>\n",
       "    </tr>\n",
       "    <tr>\n",
       "      <th>2</th>\n",
       "      <td>/home/tarik/data/mirror_selfie__confirmed_224x...</td>\n",
       "    </tr>\n",
       "    <tr>\n",
       "      <th>3</th>\n",
       "      <td>/home/tarik/data/mirror_selfie__confirmed_224x...</td>\n",
       "    </tr>\n",
       "    <tr>\n",
       "      <th>4</th>\n",
       "      <td>/home/tarik/data/mirror_selfie__confirmed_224x...</td>\n",
       "    </tr>\n",
       "  </tbody>\n",
       "</table>\n",
       "</div>"
      ],
      "text/plain": [
       "                                                   0\n",
       "0  /home/tarik/data/mirror_selfie__confirmed_224x...\n",
       "1  /home/tarik/data/mirror_selfie__confirmed_224x...\n",
       "2  /home/tarik/data/mirror_selfie__confirmed_224x...\n",
       "3  /home/tarik/data/mirror_selfie__confirmed_224x...\n",
       "4  /home/tarik/data/mirror_selfie__confirmed_224x..."
      ]
     },
     "execution_count": 4,
     "metadata": {},
     "output_type": "execute_result"
    }
   ],
   "source": [
    "dfL.head()"
   ]
  },
  {
   "cell_type": "code",
   "execution_count": 5,
   "metadata": {},
   "outputs": [
    {
     "data": {
      "text/html": [
       "<div>\n",
       "<style scoped>\n",
       "    .dataframe tbody tr th:only-of-type {\n",
       "        vertical-align: middle;\n",
       "    }\n",
       "\n",
       "    .dataframe tbody tr th {\n",
       "        vertical-align: top;\n",
       "    }\n",
       "\n",
       "    .dataframe thead th {\n",
       "        text-align: right;\n",
       "    }\n",
       "</style>\n",
       "<table border=\"1\" class=\"dataframe\">\n",
       "  <thead>\n",
       "    <tr style=\"text-align: right;\">\n",
       "      <th></th>\n",
       "      <th>filenames</th>\n",
       "      <th>seq</th>\n",
       "    </tr>\n",
       "  </thead>\n",
       "  <tbody>\n",
       "    <tr>\n",
       "      <th>0</th>\n",
       "      <td>/home/tarik/data/mirror_selfie__confirmed_224x...</td>\n",
       "      <td>1</td>\n",
       "    </tr>\n",
       "    <tr>\n",
       "      <th>1</th>\n",
       "      <td>/home/tarik/data/mirror_selfie__confirmed_224x...</td>\n",
       "      <td>2</td>\n",
       "    </tr>\n",
       "    <tr>\n",
       "      <th>2</th>\n",
       "      <td>/home/tarik/data/mirror_selfie__confirmed_224x...</td>\n",
       "      <td>3</td>\n",
       "    </tr>\n",
       "    <tr>\n",
       "      <th>3</th>\n",
       "      <td>/home/tarik/data/mirror_selfie__confirmed_224x...</td>\n",
       "      <td>4</td>\n",
       "    </tr>\n",
       "    <tr>\n",
       "      <th>4</th>\n",
       "      <td>/home/tarik/data/mirror_selfie__confirmed_224x...</td>\n",
       "      <td>5</td>\n",
       "    </tr>\n",
       "  </tbody>\n",
       "</table>\n",
       "</div>"
      ],
      "text/plain": [
       "                                           filenames  seq\n",
       "0  /home/tarik/data/mirror_selfie__confirmed_224x...    1\n",
       "1  /home/tarik/data/mirror_selfie__confirmed_224x...    2\n",
       "2  /home/tarik/data/mirror_selfie__confirmed_224x...    3\n",
       "3  /home/tarik/data/mirror_selfie__confirmed_224x...    4\n",
       "4  /home/tarik/data/mirror_selfie__confirmed_224x...    5"
      ]
     },
     "execution_count": 5,
     "metadata": {},
     "output_type": "execute_result"
    }
   ],
   "source": [
    "# add a column containing the seq number = index + 1\n",
    "dfL['seq'] = dfL.index+1\n",
    "# rename column for joining (and others, for clarity)\n",
    "#dfL.columns = ['filenames','seq']\n",
    "dfL = dfL.rename(columns={0:'filenames'})\n",
    "dfL.head()"
   ]
  },
  {
   "cell_type": "code",
   "execution_count": 6,
   "metadata": {},
   "outputs": [
    {
     "name": "stdout",
     "output_type": "stream",
     "text": [
      "305\n"
     ]
    },
    {
     "data": {
      "text/html": [
       "<div>\n",
       "<style scoped>\n",
       "    .dataframe tbody tr th:only-of-type {\n",
       "        vertical-align: middle;\n",
       "    }\n",
       "\n",
       "    .dataframe tbody tr th {\n",
       "        vertical-align: top;\n",
       "    }\n",
       "\n",
       "    .dataframe thead th {\n",
       "        text-align: right;\n",
       "    }\n",
       "</style>\n",
       "<table border=\"1\" class=\"dataframe\">\n",
       "  <thead>\n",
       "    <tr style=\"text-align: right;\">\n",
       "      <th></th>\n",
       "      <th>filenames</th>\n",
       "      <th>seq</th>\n",
       "    </tr>\n",
       "  </thead>\n",
       "  <tbody>\n",
       "    <tr>\n",
       "      <th>300</th>\n",
       "      <td>/home/tarik/data/mirror_selfie__confirmed_224x...</td>\n",
       "      <td>301</td>\n",
       "    </tr>\n",
       "    <tr>\n",
       "      <th>301</th>\n",
       "      <td>/home/tarik/data/mirror_selfie__confirmed_224x...</td>\n",
       "      <td>302</td>\n",
       "    </tr>\n",
       "    <tr>\n",
       "      <th>302</th>\n",
       "      <td>/home/tarik/data/mirror_selfie__confirmed_224x...</td>\n",
       "      <td>303</td>\n",
       "    </tr>\n",
       "    <tr>\n",
       "      <th>303</th>\n",
       "      <td>/home/tarik/data/mirror_selfie__confirmed_224x...</td>\n",
       "      <td>304</td>\n",
       "    </tr>\n",
       "    <tr>\n",
       "      <th>304</th>\n",
       "      <td>/home/tarik/data/mirror_selfie__confirmed_224x...</td>\n",
       "      <td>305</td>\n",
       "    </tr>\n",
       "  </tbody>\n",
       "</table>\n",
       "</div>"
      ],
      "text/plain": [
       "                                             filenames  seq\n",
       "300  /home/tarik/data/mirror_selfie__confirmed_224x...  301\n",
       "301  /home/tarik/data/mirror_selfie__confirmed_224x...  302\n",
       "302  /home/tarik/data/mirror_selfie__confirmed_224x...  303\n",
       "303  /home/tarik/data/mirror_selfie__confirmed_224x...  304\n",
       "304  /home/tarik/data/mirror_selfie__confirmed_224x...  305"
      ]
     },
     "execution_count": 6,
     "metadata": {},
     "output_type": "execute_result"
    }
   ],
   "source": [
    "print(len(dfL.index))\n",
    "dfL.tail()"
   ]
  },
  {
   "cell_type": "markdown",
   "metadata": {},
   "source": [
    "# RIght frame (face detections)"
   ]
  },
  {
   "cell_type": "code",
   "execution_count": 7,
   "metadata": {},
   "outputs": [
    {
     "data": {
      "text/html": [
       "<div>\n",
       "<style scoped>\n",
       "    .dataframe tbody tr th:only-of-type {\n",
       "        vertical-align: middle;\n",
       "    }\n",
       "\n",
       "    .dataframe tbody tr th {\n",
       "        vertical-align: top;\n",
       "    }\n",
       "\n",
       "    .dataframe thead th {\n",
       "        text-align: right;\n",
       "    }\n",
       "</style>\n",
       "<table border=\"1\" class=\"dataframe\">\n",
       "  <thead>\n",
       "    <tr style=\"text-align: right;\">\n",
       "      <th></th>\n",
       "      <th>0</th>\n",
       "      <th>1</th>\n",
       "      <th>2</th>\n",
       "      <th>3</th>\n",
       "      <th>4</th>\n",
       "      <th>5</th>\n",
       "    </tr>\n",
       "  </thead>\n",
       "  <tbody>\n",
       "    <tr>\n",
       "      <th>0</th>\n",
       "      <td>1</td>\n",
       "      <td>84.147331</td>\n",
       "      <td>121.989624</td>\n",
       "      <td>125.069405</td>\n",
       "      <td>172.935699</td>\n",
       "      <td>0.998930</td>\n",
       "    </tr>\n",
       "    <tr>\n",
       "      <th>1</th>\n",
       "      <td>2</td>\n",
       "      <td>124.609093</td>\n",
       "      <td>52.094398</td>\n",
       "      <td>149.390427</td>\n",
       "      <td>82.652107</td>\n",
       "      <td>0.986948</td>\n",
       "    </tr>\n",
       "    <tr>\n",
       "      <th>2</th>\n",
       "      <td>3</td>\n",
       "      <td>100.801842</td>\n",
       "      <td>43.494392</td>\n",
       "      <td>159.089020</td>\n",
       "      <td>97.447746</td>\n",
       "      <td>0.999367</td>\n",
       "    </tr>\n",
       "    <tr>\n",
       "      <th>3</th>\n",
       "      <td>4</td>\n",
       "      <td>126.559448</td>\n",
       "      <td>58.795425</td>\n",
       "      <td>169.163177</td>\n",
       "      <td>108.098145</td>\n",
       "      <td>0.999339</td>\n",
       "    </tr>\n",
       "    <tr>\n",
       "      <th>4</th>\n",
       "      <td>5</td>\n",
       "      <td>155.481247</td>\n",
       "      <td>72.016388</td>\n",
       "      <td>193.172806</td>\n",
       "      <td>132.426147</td>\n",
       "      <td>0.999402</td>\n",
       "    </tr>\n",
       "  </tbody>\n",
       "</table>\n",
       "</div>"
      ],
      "text/plain": [
       "   0           1           2           3           4         5\n",
       "0  1   84.147331  121.989624  125.069405  172.935699  0.998930\n",
       "1  2  124.609093   52.094398  149.390427   82.652107  0.986948\n",
       "2  3  100.801842   43.494392  159.089020   97.447746  0.999367\n",
       "3  4  126.559448   58.795425  169.163177  108.098145  0.999339\n",
       "4  5  155.481247   72.016388  193.172806  132.426147  0.999402"
      ]
     },
     "execution_count": 7,
     "metadata": {},
     "output_type": "execute_result"
    }
   ],
   "source": [
    "dfR.head()"
   ]
  },
  {
   "cell_type": "code",
   "execution_count": 8,
   "metadata": {},
   "outputs": [],
   "source": [
    "dfR = dfR.rename(columns={0:'seq'})\n",
    "dfR = dfR.rename(columns={5:'confidence'})"
   ]
  },
  {
   "cell_type": "code",
   "execution_count": 9,
   "metadata": {},
   "outputs": [
    {
     "data": {
      "text/html": [
       "<div>\n",
       "<style scoped>\n",
       "    .dataframe tbody tr th:only-of-type {\n",
       "        vertical-align: middle;\n",
       "    }\n",
       "\n",
       "    .dataframe tbody tr th {\n",
       "        vertical-align: top;\n",
       "    }\n",
       "\n",
       "    .dataframe thead th {\n",
       "        text-align: right;\n",
       "    }\n",
       "</style>\n",
       "<table border=\"1\" class=\"dataframe\">\n",
       "  <thead>\n",
       "    <tr style=\"text-align: right;\">\n",
       "      <th></th>\n",
       "      <th>seq</th>\n",
       "      <th>1</th>\n",
       "      <th>2</th>\n",
       "      <th>3</th>\n",
       "      <th>4</th>\n",
       "      <th>confidence</th>\n",
       "    </tr>\n",
       "  </thead>\n",
       "  <tbody>\n",
       "    <tr>\n",
       "      <th>0</th>\n",
       "      <td>1</td>\n",
       "      <td>84.147331</td>\n",
       "      <td>121.989624</td>\n",
       "      <td>125.069405</td>\n",
       "      <td>172.935699</td>\n",
       "      <td>0.998930</td>\n",
       "    </tr>\n",
       "    <tr>\n",
       "      <th>1</th>\n",
       "      <td>2</td>\n",
       "      <td>124.609093</td>\n",
       "      <td>52.094398</td>\n",
       "      <td>149.390427</td>\n",
       "      <td>82.652107</td>\n",
       "      <td>0.986948</td>\n",
       "    </tr>\n",
       "    <tr>\n",
       "      <th>2</th>\n",
       "      <td>3</td>\n",
       "      <td>100.801842</td>\n",
       "      <td>43.494392</td>\n",
       "      <td>159.089020</td>\n",
       "      <td>97.447746</td>\n",
       "      <td>0.999367</td>\n",
       "    </tr>\n",
       "    <tr>\n",
       "      <th>3</th>\n",
       "      <td>4</td>\n",
       "      <td>126.559448</td>\n",
       "      <td>58.795425</td>\n",
       "      <td>169.163177</td>\n",
       "      <td>108.098145</td>\n",
       "      <td>0.999339</td>\n",
       "    </tr>\n",
       "    <tr>\n",
       "      <th>4</th>\n",
       "      <td>5</td>\n",
       "      <td>155.481247</td>\n",
       "      <td>72.016388</td>\n",
       "      <td>193.172806</td>\n",
       "      <td>132.426147</td>\n",
       "      <td>0.999402</td>\n",
       "    </tr>\n",
       "  </tbody>\n",
       "</table>\n",
       "</div>"
      ],
      "text/plain": [
       "   seq           1           2           3           4  confidence\n",
       "0    1   84.147331  121.989624  125.069405  172.935699    0.998930\n",
       "1    2  124.609093   52.094398  149.390427   82.652107    0.986948\n",
       "2    3  100.801842   43.494392  159.089020   97.447746    0.999367\n",
       "3    4  126.559448   58.795425  169.163177  108.098145    0.999339\n",
       "4    5  155.481247   72.016388  193.172806  132.426147    0.999402"
      ]
     },
     "execution_count": 9,
     "metadata": {},
     "output_type": "execute_result"
    }
   ],
   "source": [
    "dfR.head()"
   ]
  },
  {
   "cell_type": "code",
   "execution_count": 10,
   "metadata": {},
   "outputs": [
    {
     "data": {
      "text/plain": [
       "321"
      ]
     },
     "execution_count": 10,
     "metadata": {},
     "output_type": "execute_result"
    }
   ],
   "source": [
    "len(dfR.index)"
   ]
  },
  {
   "cell_type": "code",
   "execution_count": 11,
   "metadata": {},
   "outputs": [],
   "source": [
    "# dfR[dfR.confidence<0.98].shape"
   ]
  },
  {
   "cell_type": "code",
   "execution_count": 12,
   "metadata": {},
   "outputs": [],
   "source": [
    "# compute face detection box area\n",
    "# columns: frame_number x_min y_min x_max y_max confidence_score\n",
    "dfR['Area']=(dfR.iloc[:,3] - dfR.iloc[:,1])*(dfR.iloc[:,4] - dfR.iloc[:,2])"
   ]
  },
  {
   "cell_type": "code",
   "execution_count": 13,
   "metadata": {},
   "outputs": [
    {
     "data": {
      "text/html": [
       "<div>\n",
       "<style scoped>\n",
       "    .dataframe tbody tr th:only-of-type {\n",
       "        vertical-align: middle;\n",
       "    }\n",
       "\n",
       "    .dataframe tbody tr th {\n",
       "        vertical-align: top;\n",
       "    }\n",
       "\n",
       "    .dataframe thead th {\n",
       "        text-align: right;\n",
       "    }\n",
       "</style>\n",
       "<table border=\"1\" class=\"dataframe\">\n",
       "  <thead>\n",
       "    <tr style=\"text-align: right;\">\n",
       "      <th></th>\n",
       "      <th>seq</th>\n",
       "      <th>1</th>\n",
       "      <th>2</th>\n",
       "      <th>3</th>\n",
       "      <th>4</th>\n",
       "      <th>confidence</th>\n",
       "      <th>Area</th>\n",
       "    </tr>\n",
       "  </thead>\n",
       "  <tbody>\n",
       "    <tr>\n",
       "      <th>0</th>\n",
       "      <td>1</td>\n",
       "      <td>84.147331</td>\n",
       "      <td>121.989624</td>\n",
       "      <td>125.069405</td>\n",
       "      <td>172.935699</td>\n",
       "      <td>0.998930</td>\n",
       "      <td>2084.819051</td>\n",
       "    </tr>\n",
       "    <tr>\n",
       "      <th>1</th>\n",
       "      <td>2</td>\n",
       "      <td>124.609093</td>\n",
       "      <td>52.094398</td>\n",
       "      <td>149.390427</td>\n",
       "      <td>82.652107</td>\n",
       "      <td>0.986948</td>\n",
       "      <td>757.260793</td>\n",
       "    </tr>\n",
       "    <tr>\n",
       "      <th>2</th>\n",
       "      <td>3</td>\n",
       "      <td>100.801842</td>\n",
       "      <td>43.494392</td>\n",
       "      <td>159.089020</td>\n",
       "      <td>97.447746</td>\n",
       "      <td>0.999367</td>\n",
       "      <td>3144.788748</td>\n",
       "    </tr>\n",
       "    <tr>\n",
       "      <th>3</th>\n",
       "      <td>4</td>\n",
       "      <td>126.559448</td>\n",
       "      <td>58.795425</td>\n",
       "      <td>169.163177</td>\n",
       "      <td>108.098145</td>\n",
       "      <td>0.999339</td>\n",
       "      <td>2100.479722</td>\n",
       "    </tr>\n",
       "    <tr>\n",
       "      <th>4</th>\n",
       "      <td>5</td>\n",
       "      <td>155.481247</td>\n",
       "      <td>72.016388</td>\n",
       "      <td>193.172806</td>\n",
       "      <td>132.426147</td>\n",
       "      <td>0.999402</td>\n",
       "      <td>2276.937996</td>\n",
       "    </tr>\n",
       "  </tbody>\n",
       "</table>\n",
       "</div>"
      ],
      "text/plain": [
       "   seq           1           2           3           4  confidence  \\\n",
       "0    1   84.147331  121.989624  125.069405  172.935699    0.998930   \n",
       "1    2  124.609093   52.094398  149.390427   82.652107    0.986948   \n",
       "2    3  100.801842   43.494392  159.089020   97.447746    0.999367   \n",
       "3    4  126.559448   58.795425  169.163177  108.098145    0.999339   \n",
       "4    5  155.481247   72.016388  193.172806  132.426147    0.999402   \n",
       "\n",
       "          Area  \n",
       "0  2084.819051  \n",
       "1   757.260793  \n",
       "2  3144.788748  \n",
       "3  2100.479722  \n",
       "4  2276.937996  "
      ]
     },
     "execution_count": 13,
     "metadata": {},
     "output_type": "execute_result"
    }
   ],
   "source": [
    "dfR.head()"
   ]
  },
  {
   "cell_type": "code",
   "execution_count": 14,
   "metadata": {},
   "outputs": [
    {
     "data": {
      "text/html": [
       "<div>\n",
       "<style scoped>\n",
       "    .dataframe tbody tr th:only-of-type {\n",
       "        vertical-align: middle;\n",
       "    }\n",
       "\n",
       "    .dataframe tbody tr th {\n",
       "        vertical-align: top;\n",
       "    }\n",
       "\n",
       "    .dataframe thead th {\n",
       "        text-align: right;\n",
       "    }\n",
       "</style>\n",
       "<table border=\"1\" class=\"dataframe\">\n",
       "  <thead>\n",
       "    <tr style=\"text-align: right;\">\n",
       "      <th></th>\n",
       "      <th>0</th>\n",
       "      <th>1</th>\n",
       "      <th>2</th>\n",
       "      <th>3</th>\n",
       "    </tr>\n",
       "  </thead>\n",
       "  <tbody>\n",
       "    <tr>\n",
       "      <th>0</th>\n",
       "      <td>1</td>\n",
       "      <td>-7.152298</td>\n",
       "      <td>9.043900</td>\n",
       "      <td>-3.272041</td>\n",
       "    </tr>\n",
       "    <tr>\n",
       "      <th>1</th>\n",
       "      <td>2</td>\n",
       "      <td>28.412048</td>\n",
       "      <td>-4.789505</td>\n",
       "      <td>20.200836</td>\n",
       "    </tr>\n",
       "    <tr>\n",
       "      <th>2</th>\n",
       "      <td>3</td>\n",
       "      <td>-2.119171</td>\n",
       "      <td>-3.119179</td>\n",
       "      <td>-1.864700</td>\n",
       "    </tr>\n",
       "    <tr>\n",
       "      <th>3</th>\n",
       "      <td>4</td>\n",
       "      <td>10.906158</td>\n",
       "      <td>2.815491</td>\n",
       "      <td>-1.299934</td>\n",
       "    </tr>\n",
       "    <tr>\n",
       "      <th>4</th>\n",
       "      <td>5</td>\n",
       "      <td>-1.779739</td>\n",
       "      <td>20.233772</td>\n",
       "      <td>-13.259689</td>\n",
       "    </tr>\n",
       "  </tbody>\n",
       "</table>\n",
       "</div>"
      ],
      "text/plain": [
       "   0          1          2          3\n",
       "0  1  -7.152298   9.043900  -3.272041\n",
       "1  2  28.412048  -4.789505  20.200836\n",
       "2  3  -2.119171  -3.119179  -1.864700\n",
       "3  4  10.906158   2.815491  -1.299934\n",
       "4  5  -1.779739  20.233772 -13.259689"
      ]
     },
     "execution_count": 14,
     "metadata": {},
     "output_type": "execute_result"
    }
   ],
   "source": [
    "df_ypr.head()"
   ]
  },
  {
   "cell_type": "code",
   "execution_count": 15,
   "metadata": {},
   "outputs": [
    {
     "data": {
      "text/html": [
       "<div>\n",
       "<style scoped>\n",
       "    .dataframe tbody tr th:only-of-type {\n",
       "        vertical-align: middle;\n",
       "    }\n",
       "\n",
       "    .dataframe tbody tr th {\n",
       "        vertical-align: top;\n",
       "    }\n",
       "\n",
       "    .dataframe thead th {\n",
       "        text-align: right;\n",
       "    }\n",
       "</style>\n",
       "<table border=\"1\" class=\"dataframe\">\n",
       "  <thead>\n",
       "    <tr style=\"text-align: right;\">\n",
       "      <th></th>\n",
       "      <th>seq</th>\n",
       "      <th>yaw</th>\n",
       "      <th>pitch</th>\n",
       "      <th>roll</th>\n",
       "    </tr>\n",
       "  </thead>\n",
       "  <tbody>\n",
       "    <tr>\n",
       "      <th>0</th>\n",
       "      <td>1</td>\n",
       "      <td>-7.152298</td>\n",
       "      <td>9.043900</td>\n",
       "      <td>-3.272041</td>\n",
       "    </tr>\n",
       "    <tr>\n",
       "      <th>1</th>\n",
       "      <td>2</td>\n",
       "      <td>28.412048</td>\n",
       "      <td>-4.789505</td>\n",
       "      <td>20.200836</td>\n",
       "    </tr>\n",
       "    <tr>\n",
       "      <th>2</th>\n",
       "      <td>3</td>\n",
       "      <td>-2.119171</td>\n",
       "      <td>-3.119179</td>\n",
       "      <td>-1.864700</td>\n",
       "    </tr>\n",
       "    <tr>\n",
       "      <th>3</th>\n",
       "      <td>4</td>\n",
       "      <td>10.906158</td>\n",
       "      <td>2.815491</td>\n",
       "      <td>-1.299934</td>\n",
       "    </tr>\n",
       "    <tr>\n",
       "      <th>4</th>\n",
       "      <td>5</td>\n",
       "      <td>-1.779739</td>\n",
       "      <td>20.233772</td>\n",
       "      <td>-13.259689</td>\n",
       "    </tr>\n",
       "  </tbody>\n",
       "</table>\n",
       "</div>"
      ],
      "text/plain": [
       "   seq        yaw      pitch       roll\n",
       "0    1  -7.152298   9.043900  -3.272041\n",
       "1    2  28.412048  -4.789505  20.200836\n",
       "2    3  -2.119171  -3.119179  -1.864700\n",
       "3    4  10.906158   2.815491  -1.299934\n",
       "4    5  -1.779739  20.233772 -13.259689"
      ]
     },
     "execution_count": 15,
     "metadata": {},
     "output_type": "execute_result"
    }
   ],
   "source": [
    "df_ypr = df_ypr.rename(columns={0:'seq',1:'yaw',2:'pitch',3:'roll'})\n",
    "df_ypr.head()"
   ]
  },
  {
   "cell_type": "code",
   "execution_count": 16,
   "metadata": {},
   "outputs": [
    {
     "name": "stdout",
     "output_type": "stream",
     "text": [
      "304\n"
     ]
    },
    {
     "data": {
      "text/html": [
       "<div>\n",
       "<style scoped>\n",
       "    .dataframe tbody tr th:only-of-type {\n",
       "        vertical-align: middle;\n",
       "    }\n",
       "\n",
       "    .dataframe tbody tr th {\n",
       "        vertical-align: top;\n",
       "    }\n",
       "\n",
       "    .dataframe thead th {\n",
       "        text-align: right;\n",
       "    }\n",
       "</style>\n",
       "<table border=\"1\" class=\"dataframe\">\n",
       "  <thead>\n",
       "    <tr style=\"text-align: right;\">\n",
       "      <th></th>\n",
       "      <th>seq</th>\n",
       "      <th>yaw</th>\n",
       "      <th>pitch</th>\n",
       "      <th>roll</th>\n",
       "    </tr>\n",
       "  </thead>\n",
       "  <tbody>\n",
       "    <tr>\n",
       "      <th>299</th>\n",
       "      <td>301</td>\n",
       "      <td>42.128876</td>\n",
       "      <td>-9.215614</td>\n",
       "      <td>2.952805</td>\n",
       "    </tr>\n",
       "    <tr>\n",
       "      <th>300</th>\n",
       "      <td>302</td>\n",
       "      <td>10.674423</td>\n",
       "      <td>-5.197868</td>\n",
       "      <td>-7.307480</td>\n",
       "    </tr>\n",
       "    <tr>\n",
       "      <th>301</th>\n",
       "      <td>303</td>\n",
       "      <td>12.274689</td>\n",
       "      <td>-5.444756</td>\n",
       "      <td>-1.670639</td>\n",
       "    </tr>\n",
       "    <tr>\n",
       "      <th>302</th>\n",
       "      <td>304</td>\n",
       "      <td>-21.203049</td>\n",
       "      <td>-6.477966</td>\n",
       "      <td>3.659668</td>\n",
       "    </tr>\n",
       "    <tr>\n",
       "      <th>303</th>\n",
       "      <td>305</td>\n",
       "      <td>-3.338905</td>\n",
       "      <td>-5.889839</td>\n",
       "      <td>0.818634</td>\n",
       "    </tr>\n",
       "  </tbody>\n",
       "</table>\n",
       "</div>"
      ],
      "text/plain": [
       "     seq        yaw     pitch      roll\n",
       "299  301  42.128876 -9.215614  2.952805\n",
       "300  302  10.674423 -5.197868 -7.307480\n",
       "301  303  12.274689 -5.444756 -1.670639\n",
       "302  304 -21.203049 -6.477966  3.659668\n",
       "303  305  -3.338905 -5.889839  0.818634"
      ]
     },
     "execution_count": 16,
     "metadata": {},
     "output_type": "execute_result"
    }
   ],
   "source": [
    "print(len(df_ypr.index))\n",
    "df_ypr.tail()"
   ]
  },
  {
   "cell_type": "markdown",
   "metadata": {},
   "source": [
    "# Merge filenames with face detections"
   ]
  },
  {
   "cell_type": "code",
   "execution_count": 17,
   "metadata": {},
   "outputs": [],
   "source": [
    "df = pd.merge(dfL, dfR, on='seq', how='left')\n",
    "df = df.reset_index(drop = True);"
   ]
  },
  {
   "cell_type": "code",
   "execution_count": 18,
   "metadata": {},
   "outputs": [
    {
     "data": {
      "text/html": [
       "<div>\n",
       "<style scoped>\n",
       "    .dataframe tbody tr th:only-of-type {\n",
       "        vertical-align: middle;\n",
       "    }\n",
       "\n",
       "    .dataframe tbody tr th {\n",
       "        vertical-align: top;\n",
       "    }\n",
       "\n",
       "    .dataframe thead th {\n",
       "        text-align: right;\n",
       "    }\n",
       "</style>\n",
       "<table border=\"1\" class=\"dataframe\">\n",
       "  <thead>\n",
       "    <tr style=\"text-align: right;\">\n",
       "      <th></th>\n",
       "      <th>filenames</th>\n",
       "      <th>seq</th>\n",
       "      <th>1</th>\n",
       "      <th>2</th>\n",
       "      <th>3</th>\n",
       "      <th>4</th>\n",
       "      <th>confidence</th>\n",
       "      <th>Area</th>\n",
       "    </tr>\n",
       "  </thead>\n",
       "  <tbody>\n",
       "    <tr>\n",
       "      <th>0</th>\n",
       "      <td>/home/tarik/data/mirror_selfie__confirmed_224x...</td>\n",
       "      <td>1</td>\n",
       "      <td>84.147331</td>\n",
       "      <td>121.989624</td>\n",
       "      <td>125.069405</td>\n",
       "      <td>172.935699</td>\n",
       "      <td>0.998930</td>\n",
       "      <td>2084.819051</td>\n",
       "    </tr>\n",
       "    <tr>\n",
       "      <th>1</th>\n",
       "      <td>/home/tarik/data/mirror_selfie__confirmed_224x...</td>\n",
       "      <td>2</td>\n",
       "      <td>124.609093</td>\n",
       "      <td>52.094398</td>\n",
       "      <td>149.390427</td>\n",
       "      <td>82.652107</td>\n",
       "      <td>0.986948</td>\n",
       "      <td>757.260793</td>\n",
       "    </tr>\n",
       "    <tr>\n",
       "      <th>2</th>\n",
       "      <td>/home/tarik/data/mirror_selfie__confirmed_224x...</td>\n",
       "      <td>3</td>\n",
       "      <td>100.801842</td>\n",
       "      <td>43.494392</td>\n",
       "      <td>159.089020</td>\n",
       "      <td>97.447746</td>\n",
       "      <td>0.999367</td>\n",
       "      <td>3144.788748</td>\n",
       "    </tr>\n",
       "    <tr>\n",
       "      <th>3</th>\n",
       "      <td>/home/tarik/data/mirror_selfie__confirmed_224x...</td>\n",
       "      <td>4</td>\n",
       "      <td>126.559448</td>\n",
       "      <td>58.795425</td>\n",
       "      <td>169.163177</td>\n",
       "      <td>108.098145</td>\n",
       "      <td>0.999339</td>\n",
       "      <td>2100.479722</td>\n",
       "    </tr>\n",
       "    <tr>\n",
       "      <th>4</th>\n",
       "      <td>/home/tarik/data/mirror_selfie__confirmed_224x...</td>\n",
       "      <td>5</td>\n",
       "      <td>155.481247</td>\n",
       "      <td>72.016388</td>\n",
       "      <td>193.172806</td>\n",
       "      <td>132.426147</td>\n",
       "      <td>0.999402</td>\n",
       "      <td>2276.937996</td>\n",
       "    </tr>\n",
       "  </tbody>\n",
       "</table>\n",
       "</div>"
      ],
      "text/plain": [
       "                                           filenames  seq           1  \\\n",
       "0  /home/tarik/data/mirror_selfie__confirmed_224x...    1   84.147331   \n",
       "1  /home/tarik/data/mirror_selfie__confirmed_224x...    2  124.609093   \n",
       "2  /home/tarik/data/mirror_selfie__confirmed_224x...    3  100.801842   \n",
       "3  /home/tarik/data/mirror_selfie__confirmed_224x...    4  126.559448   \n",
       "4  /home/tarik/data/mirror_selfie__confirmed_224x...    5  155.481247   \n",
       "\n",
       "            2           3           4  confidence         Area  \n",
       "0  121.989624  125.069405  172.935699    0.998930  2084.819051  \n",
       "1   52.094398  149.390427   82.652107    0.986948   757.260793  \n",
       "2   43.494392  159.089020   97.447746    0.999367  3144.788748  \n",
       "3   58.795425  169.163177  108.098145    0.999339  2100.479722  \n",
       "4   72.016388  193.172806  132.426147    0.999402  2276.937996  "
      ]
     },
     "execution_count": 18,
     "metadata": {},
     "output_type": "execute_result"
    }
   ],
   "source": [
    "# first n rows \n",
    "df.iloc[:5]"
   ]
  },
  {
   "cell_type": "code",
   "execution_count": 19,
   "metadata": {},
   "outputs": [
    {
     "data": {
      "text/plain": [
       "0    1\n",
       "1    2\n",
       "2    3\n",
       "3    4\n",
       "4    5\n",
       "Name: seq, dtype: int64"
      ]
     },
     "execution_count": 19,
     "metadata": {},
     "output_type": "execute_result"
    }
   ],
   "source": [
    "# m th column \n",
    "df.iloc[:,1].head()\n"
   ]
  },
  {
   "cell_type": "code",
   "execution_count": 20,
   "metadata": {},
   "outputs": [
    {
     "data": {
      "text/plain": [
       "(326, 325)"
      ]
     },
     "execution_count": 20,
     "metadata": {},
     "output_type": "execute_result"
    }
   ],
   "source": [
    "len(df.index), max(df.index)"
   ]
  },
  {
   "cell_type": "markdown",
   "metadata": {},
   "source": [
    "# Images with at least one detected faces"
   ]
  },
  {
   "cell_type": "code",
   "execution_count": 21,
   "metadata": {},
   "outputs": [
    {
     "data": {
      "text/plain": [
       "(321, 8)"
      ]
     },
     "execution_count": 21,
     "metadata": {},
     "output_type": "execute_result"
    }
   ],
   "source": [
    "# rows containing no NaNs\n",
    "frames_with_faces = df[~df.isnull().any(axis=1)]\n",
    "frames_with_faces.shape"
   ]
  },
  {
   "cell_type": "code",
   "execution_count": 22,
   "metadata": {},
   "outputs": [
    {
     "data": {
      "text/plain": [
       "(5, 8)"
      ]
     },
     "execution_count": 22,
     "metadata": {},
     "output_type": "execute_result"
    }
   ],
   "source": [
    "# rows containing at least one NaN\n",
    "frames_with_no_faces = df[df.isnull().any(axis=1)]\n",
    "frames_with_no_faces.shape"
   ]
  },
  {
   "cell_type": "code",
   "execution_count": 23,
   "metadata": {},
   "outputs": [
    {
     "data": {
      "text/plain": [
       "(321, 320)"
      ]
     },
     "execution_count": 23,
     "metadata": {},
     "output_type": "execute_result"
    }
   ],
   "source": [
    "frames_with_faces = frames_with_faces.reset_index(drop = True);\n",
    "len(frames_with_faces.index), max(frames_with_faces.index)"
   ]
  },
  {
   "cell_type": "code",
   "execution_count": 24,
   "metadata": {},
   "outputs": [
    {
     "data": {
      "text/html": [
       "<div>\n",
       "<style scoped>\n",
       "    .dataframe tbody tr th:only-of-type {\n",
       "        vertical-align: middle;\n",
       "    }\n",
       "\n",
       "    .dataframe tbody tr th {\n",
       "        vertical-align: top;\n",
       "    }\n",
       "\n",
       "    .dataframe thead th {\n",
       "        text-align: right;\n",
       "    }\n",
       "</style>\n",
       "<table border=\"1\" class=\"dataframe\">\n",
       "  <thead>\n",
       "    <tr style=\"text-align: right;\">\n",
       "      <th></th>\n",
       "      <th>filenames</th>\n",
       "      <th>seq</th>\n",
       "      <th>1</th>\n",
       "      <th>2</th>\n",
       "      <th>3</th>\n",
       "      <th>4</th>\n",
       "      <th>confidence</th>\n",
       "      <th>Area</th>\n",
       "    </tr>\n",
       "  </thead>\n",
       "  <tbody>\n",
       "    <tr>\n",
       "      <th>0</th>\n",
       "      <td>/home/tarik/data/mirror_selfie__confirmed_224x...</td>\n",
       "      <td>1</td>\n",
       "      <td>84.147331</td>\n",
       "      <td>121.989624</td>\n",
       "      <td>125.069405</td>\n",
       "      <td>172.935699</td>\n",
       "      <td>0.998930</td>\n",
       "      <td>2084.819051</td>\n",
       "    </tr>\n",
       "    <tr>\n",
       "      <th>1</th>\n",
       "      <td>/home/tarik/data/mirror_selfie__confirmed_224x...</td>\n",
       "      <td>2</td>\n",
       "      <td>124.609093</td>\n",
       "      <td>52.094398</td>\n",
       "      <td>149.390427</td>\n",
       "      <td>82.652107</td>\n",
       "      <td>0.986948</td>\n",
       "      <td>757.260793</td>\n",
       "    </tr>\n",
       "    <tr>\n",
       "      <th>2</th>\n",
       "      <td>/home/tarik/data/mirror_selfie__confirmed_224x...</td>\n",
       "      <td>3</td>\n",
       "      <td>100.801842</td>\n",
       "      <td>43.494392</td>\n",
       "      <td>159.089020</td>\n",
       "      <td>97.447746</td>\n",
       "      <td>0.999367</td>\n",
       "      <td>3144.788748</td>\n",
       "    </tr>\n",
       "    <tr>\n",
       "      <th>3</th>\n",
       "      <td>/home/tarik/data/mirror_selfie__confirmed_224x...</td>\n",
       "      <td>4</td>\n",
       "      <td>126.559448</td>\n",
       "      <td>58.795425</td>\n",
       "      <td>169.163177</td>\n",
       "      <td>108.098145</td>\n",
       "      <td>0.999339</td>\n",
       "      <td>2100.479722</td>\n",
       "    </tr>\n",
       "    <tr>\n",
       "      <th>4</th>\n",
       "      <td>/home/tarik/data/mirror_selfie__confirmed_224x...</td>\n",
       "      <td>5</td>\n",
       "      <td>155.481247</td>\n",
       "      <td>72.016388</td>\n",
       "      <td>193.172806</td>\n",
       "      <td>132.426147</td>\n",
       "      <td>0.999402</td>\n",
       "      <td>2276.937996</td>\n",
       "    </tr>\n",
       "  </tbody>\n",
       "</table>\n",
       "</div>"
      ],
      "text/plain": [
       "                                           filenames  seq           1  \\\n",
       "0  /home/tarik/data/mirror_selfie__confirmed_224x...    1   84.147331   \n",
       "1  /home/tarik/data/mirror_selfie__confirmed_224x...    2  124.609093   \n",
       "2  /home/tarik/data/mirror_selfie__confirmed_224x...    3  100.801842   \n",
       "3  /home/tarik/data/mirror_selfie__confirmed_224x...    4  126.559448   \n",
       "4  /home/tarik/data/mirror_selfie__confirmed_224x...    5  155.481247   \n",
       "\n",
       "            2           3           4  confidence         Area  \n",
       "0  121.989624  125.069405  172.935699    0.998930  2084.819051  \n",
       "1   52.094398  149.390427   82.652107    0.986948   757.260793  \n",
       "2   43.494392  159.089020   97.447746    0.999367  3144.788748  \n",
       "3   58.795425  169.163177  108.098145    0.999339  2100.479722  \n",
       "4   72.016388  193.172806  132.426147    0.999402  2276.937996  "
      ]
     },
     "execution_count": 24,
     "metadata": {},
     "output_type": "execute_result"
    }
   ],
   "source": [
    "frames_with_faces.head()"
   ]
  },
  {
   "cell_type": "markdown",
   "metadata": {},
   "source": [
    "# Images with faces and confidence > 0.98"
   ]
  },
  {
   "cell_type": "code",
   "execution_count": 25,
   "metadata": {},
   "outputs": [
    {
     "data": {
      "text/plain": [
       "304"
      ]
     },
     "execution_count": 25,
     "metadata": {},
     "output_type": "execute_result"
    }
   ],
   "source": [
    "frames_with_confident_faces = frames_with_faces[frames_with_faces.confidence > 0.98]\n",
    "frames_with_confident_faces.shape,df_ypr.shape\n",
    "frames_with_confident_faces = frames_with_confident_faces.reset_index(drop=True)\n",
    "df_ypr = df_ypr.rename(columns = {'seq':'seq_ypr'})\n",
    "df_ypr = df_ypr.reset_index(drop=True)\n",
    "len(df_ypr.index)"
   ]
  },
  {
   "cell_type": "code",
   "execution_count": 26,
   "metadata": {},
   "outputs": [
    {
     "data": {
      "text/plain": [
       "((304, 12),\n",
       "                                              filenames  seq           1  \\\n",
       " 299  /home/tarik/data/mirror_selfie__confirmed_224x...  301  110.345581   \n",
       " 300  /home/tarik/data/mirror_selfie__confirmed_224x...  302  138.794479   \n",
       " 301  /home/tarik/data/mirror_selfie__confirmed_224x...  303  141.312363   \n",
       " 302  /home/tarik/data/mirror_selfie__confirmed_224x...  304  185.934418   \n",
       " 303  /home/tarik/data/mirror_selfie__confirmed_224x...  305  103.278618   \n",
       " \n",
       "              2           3           4  confidence         Area  seq_ypr  \\\n",
       " 299  59.417450  131.476913   84.718445    0.998001   534.643725      301   \n",
       " 300  86.151192  165.125046  122.039192    0.994618   944.951388      302   \n",
       " 301   2.441833  214.325974   98.872238    0.998673  7040.732079      303   \n",
       " 302  17.127565  230.266296   78.079758    0.999320  2702.125184      304   \n",
       " 303   9.320766  169.153931   90.968094    0.997801  5378.543288      305   \n",
       " \n",
       "            yaw     pitch      roll  \n",
       " 299  42.128876 -9.215614  2.952805  \n",
       " 300  10.674423 -5.197868 -7.307480  \n",
       " 301  12.274689 -5.444756 -1.670639  \n",
       " 302 -21.203049 -6.477966  3.659668  \n",
       " 303  -3.338905 -5.889839  0.818634  )"
      ]
     },
     "execution_count": 26,
     "metadata": {},
     "output_type": "execute_result"
    }
   ],
   "source": [
    "frames_with_confident_faces = pd.concat([frames_with_confident_faces, df_ypr ], axis = 1)\n",
    "\n",
    "#frames_with_confident_faces = frames_with_confident_faces.reset_index(drop=True).merge(df_ypr.reset_index(drop=True), left_index=True, right_index=True)\n",
    "frames_with_confident_faces.shape, frames_with_confident_faces.tail()\n"
   ]
  },
  {
   "cell_type": "code",
   "execution_count": 27,
   "metadata": {},
   "outputs": [],
   "source": [
    "# np.all(frames_with_confident_faces.seq == frames_with_confident_faces.seq_ypr)"
   ]
  },
  {
   "cell_type": "code",
   "execution_count": 28,
   "metadata": {},
   "outputs": [
    {
     "data": {
      "text/html": [
       "<div>\n",
       "<style scoped>\n",
       "    .dataframe tbody tr th:only-of-type {\n",
       "        vertical-align: middle;\n",
       "    }\n",
       "\n",
       "    .dataframe tbody tr th {\n",
       "        vertical-align: top;\n",
       "    }\n",
       "\n",
       "    .dataframe thead th {\n",
       "        text-align: right;\n",
       "    }\n",
       "</style>\n",
       "<table border=\"1\" class=\"dataframe\">\n",
       "  <thead>\n",
       "    <tr style=\"text-align: right;\">\n",
       "      <th></th>\n",
       "      <th>filenames</th>\n",
       "      <th>seq</th>\n",
       "      <th>1</th>\n",
       "      <th>2</th>\n",
       "      <th>3</th>\n",
       "      <th>4</th>\n",
       "      <th>confidence</th>\n",
       "      <th>Area</th>\n",
       "      <th>seq_ypr</th>\n",
       "      <th>yaw</th>\n",
       "      <th>pitch</th>\n",
       "      <th>roll</th>\n",
       "    </tr>\n",
       "  </thead>\n",
       "  <tbody>\n",
       "    <tr>\n",
       "      <th>0</th>\n",
       "      <td>/home/tarik/data/mirror_selfie__confirmed_224x...</td>\n",
       "      <td>1</td>\n",
       "      <td>84.147331</td>\n",
       "      <td>121.989624</td>\n",
       "      <td>125.069405</td>\n",
       "      <td>172.935699</td>\n",
       "      <td>0.998930</td>\n",
       "      <td>2084.819051</td>\n",
       "      <td>1</td>\n",
       "      <td>-7.152298</td>\n",
       "      <td>9.043900</td>\n",
       "      <td>-3.272041</td>\n",
       "    </tr>\n",
       "    <tr>\n",
       "      <th>1</th>\n",
       "      <td>/home/tarik/data/mirror_selfie__confirmed_224x...</td>\n",
       "      <td>2</td>\n",
       "      <td>124.609093</td>\n",
       "      <td>52.094398</td>\n",
       "      <td>149.390427</td>\n",
       "      <td>82.652107</td>\n",
       "      <td>0.986948</td>\n",
       "      <td>757.260793</td>\n",
       "      <td>2</td>\n",
       "      <td>28.412048</td>\n",
       "      <td>-4.789505</td>\n",
       "      <td>20.200836</td>\n",
       "    </tr>\n",
       "    <tr>\n",
       "      <th>2</th>\n",
       "      <td>/home/tarik/data/mirror_selfie__confirmed_224x...</td>\n",
       "      <td>3</td>\n",
       "      <td>100.801842</td>\n",
       "      <td>43.494392</td>\n",
       "      <td>159.089020</td>\n",
       "      <td>97.447746</td>\n",
       "      <td>0.999367</td>\n",
       "      <td>3144.788748</td>\n",
       "      <td>3</td>\n",
       "      <td>-2.119171</td>\n",
       "      <td>-3.119179</td>\n",
       "      <td>-1.864700</td>\n",
       "    </tr>\n",
       "    <tr>\n",
       "      <th>3</th>\n",
       "      <td>/home/tarik/data/mirror_selfie__confirmed_224x...</td>\n",
       "      <td>4</td>\n",
       "      <td>126.559448</td>\n",
       "      <td>58.795425</td>\n",
       "      <td>169.163177</td>\n",
       "      <td>108.098145</td>\n",
       "      <td>0.999339</td>\n",
       "      <td>2100.479722</td>\n",
       "      <td>4</td>\n",
       "      <td>10.906158</td>\n",
       "      <td>2.815491</td>\n",
       "      <td>-1.299934</td>\n",
       "    </tr>\n",
       "    <tr>\n",
       "      <th>4</th>\n",
       "      <td>/home/tarik/data/mirror_selfie__confirmed_224x...</td>\n",
       "      <td>5</td>\n",
       "      <td>155.481247</td>\n",
       "      <td>72.016388</td>\n",
       "      <td>193.172806</td>\n",
       "      <td>132.426147</td>\n",
       "      <td>0.999402</td>\n",
       "      <td>2276.937996</td>\n",
       "      <td>5</td>\n",
       "      <td>-1.779739</td>\n",
       "      <td>20.233772</td>\n",
       "      <td>-13.259689</td>\n",
       "    </tr>\n",
       "  </tbody>\n",
       "</table>\n",
       "</div>"
      ],
      "text/plain": [
       "                                           filenames  seq           1  \\\n",
       "0  /home/tarik/data/mirror_selfie__confirmed_224x...    1   84.147331   \n",
       "1  /home/tarik/data/mirror_selfie__confirmed_224x...    2  124.609093   \n",
       "2  /home/tarik/data/mirror_selfie__confirmed_224x...    3  100.801842   \n",
       "3  /home/tarik/data/mirror_selfie__confirmed_224x...    4  126.559448   \n",
       "4  /home/tarik/data/mirror_selfie__confirmed_224x...    5  155.481247   \n",
       "\n",
       "            2           3           4  confidence         Area  seq_ypr  \\\n",
       "0  121.989624  125.069405  172.935699    0.998930  2084.819051        1   \n",
       "1   52.094398  149.390427   82.652107    0.986948   757.260793        2   \n",
       "2   43.494392  159.089020   97.447746    0.999367  3144.788748        3   \n",
       "3   58.795425  169.163177  108.098145    0.999339  2100.479722        4   \n",
       "4   72.016388  193.172806  132.426147    0.999402  2276.937996        5   \n",
       "\n",
       "         yaw      pitch       roll  \n",
       "0  -7.152298   9.043900  -3.272041  \n",
       "1  28.412048  -4.789505  20.200836  \n",
       "2  -2.119171  -3.119179  -1.864700  \n",
       "3  10.906158   2.815491  -1.299934  \n",
       "4  -1.779739  20.233772 -13.259689  "
      ]
     },
     "execution_count": 28,
     "metadata": {},
     "output_type": "execute_result"
    }
   ],
   "source": [
    "frames_with_confident_faces.head()"
   ]
  },
  {
   "cell_type": "code",
   "execution_count": 29,
   "metadata": {},
   "outputs": [
    {
     "data": {
      "text/plain": [
       "(303, 304)"
      ]
     },
     "execution_count": 29,
     "metadata": {},
     "output_type": "execute_result"
    }
   ],
   "source": [
    "frames_with_confident_faces = frames_with_confident_faces.reset_index(drop = True)\n",
    "max(frames_with_confident_faces.index), len(frames_with_confident_faces.index)"
   ]
  },
  {
   "cell_type": "code",
   "execution_count": 30,
   "metadata": {},
   "outputs": [],
   "source": [
    "# frames_with_confident_faces_and_ypr = pd.concat([frames_with_confident_faces, df_ypr], axis = 1)\n",
    "# frames_with_confident_faces_and_ypr.shape"
   ]
  },
  {
   "cell_type": "code",
   "execution_count": 31,
   "metadata": {},
   "outputs": [],
   "source": [
    "# frames_with_confident_faces_and_ypr = pd.merge(frames_with_confident_faces, df_ypr, on='seq', how='inner')\n",
    "# frames_with_confident_faces_and_ypr.shape"
   ]
  },
  {
   "cell_type": "code",
   "execution_count": 32,
   "metadata": {},
   "outputs": [],
   "source": [
    "# pd.concat([df1, df2], axis=1)"
   ]
  },
  {
   "cell_type": "code",
   "execution_count": 33,
   "metadata": {},
   "outputs": [
    {
     "data": {
      "text/plain": [
       "(304, 12)"
      ]
     },
     "execution_count": 33,
     "metadata": {},
     "output_type": "execute_result"
    }
   ],
   "source": [
    "frames_with_confident_faces.shape"
   ]
  },
  {
   "cell_type": "code",
   "execution_count": 34,
   "metadata": {},
   "outputs": [],
   "source": [
    "# frames_with_confident_faces.seq"
   ]
  },
  {
   "cell_type": "code",
   "execution_count": 35,
   "metadata": {},
   "outputs": [
    {
     "data": {
      "text/plain": [
       "(9, 12)"
      ]
     },
     "execution_count": 35,
     "metadata": {},
     "output_type": "execute_result"
    }
   ],
   "source": [
    "# Select all duplicate rows based on sequence number (to find frames with multiple faces)\n",
    "# returns all but one from the duplicates\n",
    "duplicate_rows = frames_with_confident_faces[frames_with_confident_faces.duplicated(['seq'])]\n",
    "duplicate_rows.shape"
   ]
  },
  {
   "cell_type": "code",
   "execution_count": 36,
   "metadata": {},
   "outputs": [
    {
     "name": "stdout",
     "output_type": "stream",
     "text": [
      "5\n",
      "304\n",
      "290\n"
     ]
    },
    {
     "data": {
      "text/html": [
       "<div>\n",
       "<style scoped>\n",
       "    .dataframe tbody tr th:only-of-type {\n",
       "        vertical-align: middle;\n",
       "    }\n",
       "\n",
       "    .dataframe tbody tr th {\n",
       "        vertical-align: top;\n",
       "    }\n",
       "\n",
       "    .dataframe thead th {\n",
       "        text-align: right;\n",
       "    }\n",
       "</style>\n",
       "<table border=\"1\" class=\"dataframe\">\n",
       "  <thead>\n",
       "    <tr style=\"text-align: right;\">\n",
       "      <th></th>\n",
       "      <th>filenames</th>\n",
       "      <th>seq</th>\n",
       "      <th>1</th>\n",
       "      <th>2</th>\n",
       "      <th>3</th>\n",
       "      <th>4</th>\n",
       "      <th>confidence</th>\n",
       "      <th>Area</th>\n",
       "      <th>seq_ypr</th>\n",
       "      <th>yaw</th>\n",
       "      <th>pitch</th>\n",
       "      <th>roll</th>\n",
       "    </tr>\n",
       "  </thead>\n",
       "  <tbody>\n",
       "    <tr>\n",
       "      <th>285</th>\n",
       "      <td>/home/tarik/data/mirror_selfie__confirmed_224x...</td>\n",
       "      <td>301</td>\n",
       "      <td>110.345581</td>\n",
       "      <td>59.417450</td>\n",
       "      <td>131.476913</td>\n",
       "      <td>84.718445</td>\n",
       "      <td>0.998001</td>\n",
       "      <td>534.643725</td>\n",
       "      <td>301</td>\n",
       "      <td>42.128876</td>\n",
       "      <td>-9.215614</td>\n",
       "      <td>2.952805</td>\n",
       "    </tr>\n",
       "    <tr>\n",
       "      <th>286</th>\n",
       "      <td>/home/tarik/data/mirror_selfie__confirmed_224x...</td>\n",
       "      <td>302</td>\n",
       "      <td>138.794479</td>\n",
       "      <td>86.151192</td>\n",
       "      <td>165.125046</td>\n",
       "      <td>122.039192</td>\n",
       "      <td>0.994618</td>\n",
       "      <td>944.951388</td>\n",
       "      <td>302</td>\n",
       "      <td>10.674423</td>\n",
       "      <td>-5.197868</td>\n",
       "      <td>-7.307480</td>\n",
       "    </tr>\n",
       "    <tr>\n",
       "      <th>287</th>\n",
       "      <td>/home/tarik/data/mirror_selfie__confirmed_224x...</td>\n",
       "      <td>303</td>\n",
       "      <td>141.312363</td>\n",
       "      <td>2.441833</td>\n",
       "      <td>214.325974</td>\n",
       "      <td>98.872238</td>\n",
       "      <td>0.998673</td>\n",
       "      <td>7040.732079</td>\n",
       "      <td>303</td>\n",
       "      <td>12.274689</td>\n",
       "      <td>-5.444756</td>\n",
       "      <td>-1.670639</td>\n",
       "    </tr>\n",
       "    <tr>\n",
       "      <th>288</th>\n",
       "      <td>/home/tarik/data/mirror_selfie__confirmed_224x...</td>\n",
       "      <td>304</td>\n",
       "      <td>185.934418</td>\n",
       "      <td>17.127565</td>\n",
       "      <td>230.266296</td>\n",
       "      <td>78.079758</td>\n",
       "      <td>0.999320</td>\n",
       "      <td>2702.125184</td>\n",
       "      <td>304</td>\n",
       "      <td>-21.203049</td>\n",
       "      <td>-6.477966</td>\n",
       "      <td>3.659668</td>\n",
       "    </tr>\n",
       "    <tr>\n",
       "      <th>289</th>\n",
       "      <td>/home/tarik/data/mirror_selfie__confirmed_224x...</td>\n",
       "      <td>305</td>\n",
       "      <td>103.278618</td>\n",
       "      <td>9.320766</td>\n",
       "      <td>169.153931</td>\n",
       "      <td>90.968094</td>\n",
       "      <td>0.997801</td>\n",
       "      <td>5378.543288</td>\n",
       "      <td>305</td>\n",
       "      <td>-3.338905</td>\n",
       "      <td>-5.889839</td>\n",
       "      <td>0.818634</td>\n",
       "    </tr>\n",
       "  </tbody>\n",
       "</table>\n",
       "</div>"
      ],
      "text/plain": [
       "                                             filenames  seq           1  \\\n",
       "285  /home/tarik/data/mirror_selfie__confirmed_224x...  301  110.345581   \n",
       "286  /home/tarik/data/mirror_selfie__confirmed_224x...  302  138.794479   \n",
       "287  /home/tarik/data/mirror_selfie__confirmed_224x...  303  141.312363   \n",
       "288  /home/tarik/data/mirror_selfie__confirmed_224x...  304  185.934418   \n",
       "289  /home/tarik/data/mirror_selfie__confirmed_224x...  305  103.278618   \n",
       "\n",
       "             2           3           4  confidence         Area  seq_ypr  \\\n",
       "285  59.417450  131.476913   84.718445    0.998001   534.643725      301   \n",
       "286  86.151192  165.125046  122.039192    0.994618   944.951388      302   \n",
       "287   2.441833  214.325974   98.872238    0.998673  7040.732079      303   \n",
       "288  17.127565  230.266296   78.079758    0.999320  2702.125184      304   \n",
       "289   9.320766  169.153931   90.968094    0.997801  5378.543288      305   \n",
       "\n",
       "           yaw     pitch      roll  \n",
       "285  42.128876 -9.215614  2.952805  \n",
       "286  10.674423 -5.197868 -7.307480  \n",
       "287  12.274689 -5.444756 -1.670639  \n",
       "288 -21.203049 -6.477966  3.659668  \n",
       "289  -3.338905 -5.889839  0.818634  "
      ]
     },
     "execution_count": 36,
     "metadata": {},
     "output_type": "execute_result"
    }
   ],
   "source": [
    "frames_with_best_faces = frames_with_confident_faces.copy()\n",
    "print(len(np.unique(duplicate_rows.seq)))\n",
    "print(len(frames_with_best_faces.index))\n",
    "for i in np.unique(duplicate_rows['seq']):\n",
    "    frames_with_best_faces = frames_with_best_faces[frames_with_best_faces.seq != i]\n",
    "print(len(frames_with_best_faces.index))\n",
    "\n",
    "frames_with_best_faces = frames_with_best_faces.reset_index(drop = True)\n",
    "frames_with_best_faces.tail()"
   ]
  },
  {
   "cell_type": "code",
   "execution_count": 37,
   "metadata": {},
   "outputs": [
    {
     "data": {
      "text/plain": [
       "(289, 290)"
      ]
     },
     "execution_count": 37,
     "metadata": {},
     "output_type": "execute_result"
    }
   ],
   "source": [
    "max(frames_with_best_faces.index), len(frames_with_best_faces.index)"
   ]
  },
  {
   "cell_type": "code",
   "execution_count": 38,
   "metadata": {},
   "outputs": [
    {
     "name": "stdout",
     "output_type": "stream",
     "text": [
      "5\n",
      "290\n",
      "295\n"
     ]
    },
    {
     "data": {
      "text/html": [
       "<div>\n",
       "<style scoped>\n",
       "    .dataframe tbody tr th:only-of-type {\n",
       "        vertical-align: middle;\n",
       "    }\n",
       "\n",
       "    .dataframe tbody tr th {\n",
       "        vertical-align: top;\n",
       "    }\n",
       "\n",
       "    .dataframe thead th {\n",
       "        text-align: right;\n",
       "    }\n",
       "</style>\n",
       "<table border=\"1\" class=\"dataframe\">\n",
       "  <thead>\n",
       "    <tr style=\"text-align: right;\">\n",
       "      <th></th>\n",
       "      <th>filenames</th>\n",
       "      <th>seq</th>\n",
       "      <th>1</th>\n",
       "      <th>2</th>\n",
       "      <th>3</th>\n",
       "      <th>4</th>\n",
       "      <th>confidence</th>\n",
       "      <th>Area</th>\n",
       "      <th>seq_ypr</th>\n",
       "      <th>yaw</th>\n",
       "      <th>pitch</th>\n",
       "      <th>roll</th>\n",
       "    </tr>\n",
       "  </thead>\n",
       "  <tbody>\n",
       "    <tr>\n",
       "      <th>0</th>\n",
       "      <td>/home/tarik/data/mirror_selfie__confirmed_224x...</td>\n",
       "      <td>1</td>\n",
       "      <td>84.147331</td>\n",
       "      <td>121.989624</td>\n",
       "      <td>125.069405</td>\n",
       "      <td>172.935699</td>\n",
       "      <td>0.998930</td>\n",
       "      <td>2084.819051</td>\n",
       "      <td>1</td>\n",
       "      <td>-7.152298</td>\n",
       "      <td>9.043900</td>\n",
       "      <td>-3.272041</td>\n",
       "    </tr>\n",
       "    <tr>\n",
       "      <th>1</th>\n",
       "      <td>/home/tarik/data/mirror_selfie__confirmed_224x...</td>\n",
       "      <td>2</td>\n",
       "      <td>124.609093</td>\n",
       "      <td>52.094398</td>\n",
       "      <td>149.390427</td>\n",
       "      <td>82.652107</td>\n",
       "      <td>0.986948</td>\n",
       "      <td>757.260793</td>\n",
       "      <td>2</td>\n",
       "      <td>28.412048</td>\n",
       "      <td>-4.789505</td>\n",
       "      <td>20.200836</td>\n",
       "    </tr>\n",
       "    <tr>\n",
       "      <th>2</th>\n",
       "      <td>/home/tarik/data/mirror_selfie__confirmed_224x...</td>\n",
       "      <td>3</td>\n",
       "      <td>100.801842</td>\n",
       "      <td>43.494392</td>\n",
       "      <td>159.089020</td>\n",
       "      <td>97.447746</td>\n",
       "      <td>0.999367</td>\n",
       "      <td>3144.788748</td>\n",
       "      <td>3</td>\n",
       "      <td>-2.119171</td>\n",
       "      <td>-3.119179</td>\n",
       "      <td>-1.864700</td>\n",
       "    </tr>\n",
       "    <tr>\n",
       "      <th>3</th>\n",
       "      <td>/home/tarik/data/mirror_selfie__confirmed_224x...</td>\n",
       "      <td>4</td>\n",
       "      <td>126.559448</td>\n",
       "      <td>58.795425</td>\n",
       "      <td>169.163177</td>\n",
       "      <td>108.098145</td>\n",
       "      <td>0.999339</td>\n",
       "      <td>2100.479722</td>\n",
       "      <td>4</td>\n",
       "      <td>10.906158</td>\n",
       "      <td>2.815491</td>\n",
       "      <td>-1.299934</td>\n",
       "    </tr>\n",
       "    <tr>\n",
       "      <th>4</th>\n",
       "      <td>/home/tarik/data/mirror_selfie__confirmed_224x...</td>\n",
       "      <td>5</td>\n",
       "      <td>155.481247</td>\n",
       "      <td>72.016388</td>\n",
       "      <td>193.172806</td>\n",
       "      <td>132.426147</td>\n",
       "      <td>0.999402</td>\n",
       "      <td>2276.937996</td>\n",
       "      <td>5</td>\n",
       "      <td>-1.779739</td>\n",
       "      <td>20.233772</td>\n",
       "      <td>-13.259689</td>\n",
       "    </tr>\n",
       "  </tbody>\n",
       "</table>\n",
       "</div>"
      ],
      "text/plain": [
       "                                           filenames  seq           1  \\\n",
       "0  /home/tarik/data/mirror_selfie__confirmed_224x...    1   84.147331   \n",
       "1  /home/tarik/data/mirror_selfie__confirmed_224x...    2  124.609093   \n",
       "2  /home/tarik/data/mirror_selfie__confirmed_224x...    3  100.801842   \n",
       "3  /home/tarik/data/mirror_selfie__confirmed_224x...    4  126.559448   \n",
       "4  /home/tarik/data/mirror_selfie__confirmed_224x...    5  155.481247   \n",
       "\n",
       "            2           3           4  confidence         Area  seq_ypr  \\\n",
       "0  121.989624  125.069405  172.935699    0.998930  2084.819051        1   \n",
       "1   52.094398  149.390427   82.652107    0.986948   757.260793        2   \n",
       "2   43.494392  159.089020   97.447746    0.999367  3144.788748        3   \n",
       "3   58.795425  169.163177  108.098145    0.999339  2100.479722        4   \n",
       "4   72.016388  193.172806  132.426147    0.999402  2276.937996        5   \n",
       "\n",
       "         yaw      pitch       roll  \n",
       "0  -7.152298   9.043900  -3.272041  \n",
       "1  28.412048  -4.789505  20.200836  \n",
       "2  -2.119171  -3.119179  -1.864700  \n",
       "3  10.906158   2.815491  -1.299934  \n",
       "4  -1.779739  20.233772 -13.259689  "
      ]
     },
     "execution_count": 38,
     "metadata": {},
     "output_type": "execute_result"
    }
   ],
   "source": [
    "# now find the instance of row with the largest face area from the same frame\n",
    "frames_with_confident_faces = frames_with_confident_faces.reset_index(drop=True)\n",
    "frames_with_best_faces = frames_with_best_faces.reset_index(drop=True)\n",
    "\n",
    "\n",
    "duplicate_rows_seqs = np.unique(duplicate_rows.seq) \n",
    "\n",
    "print(len(duplicate_rows_seqs))\n",
    "print(len(frames_with_best_faces.index))\n",
    "for duplicate_rows_seq in duplicate_rows_seqs:\n",
    "    same_seq_rows = frames_with_confident_faces[frames_with_confident_faces.seq==duplicate_rows_seq]\n",
    "    idx = same_seq_rows.index[same_seq_rows['confidence'].values.argmax()]\n",
    "    best_face_frame = frames_with_confident_faces.iloc[idx]\n",
    "    #print(len(frames_with_largest_faces.index))\n",
    "    frames_with_best_faces = frames_with_best_faces.append(best_face_frame)\n",
    "    #print(len(frames_with_largest_faces.index))\n",
    "    #print()\n",
    "    \n",
    "    #print(idx, best_face_frame.head())\n",
    "    #print(\"+++++++++ \",duplicate_rows_seq,best_face_frame['seq'])\n",
    "    #print(\"---------------------------------------\")\n",
    "frames_with_best_faces = frames_with_best_faces.reset_index(drop = True)\n",
    "print(len(frames_with_best_faces.index))  \n",
    "frames_with_best_faces.head()"
   ]
  },
  {
   "cell_type": "code",
   "execution_count": 39,
   "metadata": {},
   "outputs": [
    {
     "data": {
      "text/html": [
       "<div>\n",
       "<style scoped>\n",
       "    .dataframe tbody tr th:only-of-type {\n",
       "        vertical-align: middle;\n",
       "    }\n",
       "\n",
       "    .dataframe tbody tr th {\n",
       "        vertical-align: top;\n",
       "    }\n",
       "\n",
       "    .dataframe thead th {\n",
       "        text-align: right;\n",
       "    }\n",
       "</style>\n",
       "<table border=\"1\" class=\"dataframe\">\n",
       "  <thead>\n",
       "    <tr style=\"text-align: right;\">\n",
       "      <th></th>\n",
       "      <th>filenames</th>\n",
       "      <th>seq</th>\n",
       "      <th>1</th>\n",
       "      <th>2</th>\n",
       "      <th>3</th>\n",
       "      <th>4</th>\n",
       "      <th>confidence</th>\n",
       "      <th>Area</th>\n",
       "      <th>seq_ypr</th>\n",
       "      <th>yaw</th>\n",
       "      <th>pitch</th>\n",
       "      <th>roll</th>\n",
       "    </tr>\n",
       "  </thead>\n",
       "  <tbody>\n",
       "    <tr>\n",
       "      <th>290</th>\n",
       "      <td>/home/tarik/data/mirror_selfie__confirmed_224x...</td>\n",
       "      <td>47</td>\n",
       "      <td>99.684372</td>\n",
       "      <td>0.000000</td>\n",
       "      <td>201.535690</td>\n",
       "      <td>113.764000</td>\n",
       "      <td>0.999659</td>\n",
       "      <td>11587.013341</td>\n",
       "      <td>47</td>\n",
       "      <td>-3.206604</td>\n",
       "      <td>-2.198029</td>\n",
       "      <td>-2.767838</td>\n",
       "    </tr>\n",
       "    <tr>\n",
       "      <th>291</th>\n",
       "      <td>/home/tarik/data/mirror_selfie__confirmed_224x...</td>\n",
       "      <td>98</td>\n",
       "      <td>92.300705</td>\n",
       "      <td>35.502731</td>\n",
       "      <td>179.673355</td>\n",
       "      <td>151.566940</td>\n",
       "      <td>0.999758</td>\n",
       "      <td>10140.837510</td>\n",
       "      <td>98</td>\n",
       "      <td>7.054573</td>\n",
       "      <td>-0.046814</td>\n",
       "      <td>2.057800</td>\n",
       "    </tr>\n",
       "    <tr>\n",
       "      <th>292</th>\n",
       "      <td>/home/tarik/data/mirror_selfie__confirmed_224x...</td>\n",
       "      <td>161</td>\n",
       "      <td>182.120773</td>\n",
       "      <td>39.189041</td>\n",
       "      <td>280.879303</td>\n",
       "      <td>193.162109</td>\n",
       "      <td>0.999487</td>\n",
       "      <td>15206.153855</td>\n",
       "      <td>161</td>\n",
       "      <td>1.052689</td>\n",
       "      <td>-0.682800</td>\n",
       "      <td>13.895523</td>\n",
       "    </tr>\n",
       "    <tr>\n",
       "      <th>293</th>\n",
       "      <td>/home/tarik/data/mirror_selfie__confirmed_224x...</td>\n",
       "      <td>212</td>\n",
       "      <td>78.514389</td>\n",
       "      <td>31.837261</td>\n",
       "      <td>153.489197</td>\n",
       "      <td>140.339523</td>\n",
       "      <td>0.999458</td>\n",
       "      <td>8134.936261</td>\n",
       "      <td>212</td>\n",
       "      <td>-31.239960</td>\n",
       "      <td>9.862770</td>\n",
       "      <td>0.291473</td>\n",
       "    </tr>\n",
       "    <tr>\n",
       "      <th>294</th>\n",
       "      <td>/home/tarik/data/mirror_selfie__confirmed_224x...</td>\n",
       "      <td>266</td>\n",
       "      <td>115.959061</td>\n",
       "      <td>82.133850</td>\n",
       "      <td>208.220718</td>\n",
       "      <td>199.264130</td>\n",
       "      <td>0.999722</td>\n",
       "      <td>10806.633718</td>\n",
       "      <td>266</td>\n",
       "      <td>-22.173988</td>\n",
       "      <td>-11.356644</td>\n",
       "      <td>-2.597054</td>\n",
       "    </tr>\n",
       "  </tbody>\n",
       "</table>\n",
       "</div>"
      ],
      "text/plain": [
       "                                             filenames  seq           1  \\\n",
       "290  /home/tarik/data/mirror_selfie__confirmed_224x...   47   99.684372   \n",
       "291  /home/tarik/data/mirror_selfie__confirmed_224x...   98   92.300705   \n",
       "292  /home/tarik/data/mirror_selfie__confirmed_224x...  161  182.120773   \n",
       "293  /home/tarik/data/mirror_selfie__confirmed_224x...  212   78.514389   \n",
       "294  /home/tarik/data/mirror_selfie__confirmed_224x...  266  115.959061   \n",
       "\n",
       "             2           3           4  confidence          Area  seq_ypr  \\\n",
       "290   0.000000  201.535690  113.764000    0.999659  11587.013341       47   \n",
       "291  35.502731  179.673355  151.566940    0.999758  10140.837510       98   \n",
       "292  39.189041  280.879303  193.162109    0.999487  15206.153855      161   \n",
       "293  31.837261  153.489197  140.339523    0.999458   8134.936261      212   \n",
       "294  82.133850  208.220718  199.264130    0.999722  10806.633718      266   \n",
       "\n",
       "           yaw      pitch       roll  \n",
       "290  -3.206604  -2.198029  -2.767838  \n",
       "291   7.054573  -0.046814   2.057800  \n",
       "292   1.052689  -0.682800  13.895523  \n",
       "293 -31.239960   9.862770   0.291473  \n",
       "294 -22.173988 -11.356644  -2.597054  "
      ]
     },
     "execution_count": 39,
     "metadata": {},
     "output_type": "execute_result"
    }
   ],
   "source": [
    "frames_with_best_faces.tail()"
   ]
  },
  {
   "cell_type": "code",
   "execution_count": 40,
   "metadata": {},
   "outputs": [],
   "source": [
    "# frames_with_best_faces.head()"
   ]
  },
  {
   "cell_type": "code",
   "execution_count": 41,
   "metadata": {},
   "outputs": [
    {
     "data": {
      "text/plain": [
       "(295, 294)"
      ]
     },
     "execution_count": 41,
     "metadata": {},
     "output_type": "execute_result"
    }
   ],
   "source": [
    "len(frames_with_best_faces.index), max(frames_with_best_faces.index)"
   ]
  },
  {
   "cell_type": "code",
   "execution_count": 42,
   "metadata": {},
   "outputs": [],
   "source": [
    "# from fastai.vision import *\n",
    "# from sklearn.model_selection import StratifiedKFold\n",
    "# from fastai.callbacks import *"
   ]
  },
  {
   "cell_type": "code",
   "execution_count": 43,
   "metadata": {},
   "outputs": [
    {
     "data": {
      "text/plain": [
       "1122"
      ]
     },
     "execution_count": 43,
     "metadata": {},
     "output_type": "execute_result"
    }
   ],
   "source": [
    "duplicate_im_basepath = pathlib.Path('/disks/data/paper_projects/selfie_detection/data/DS_July22/duplicates')\n",
    "\n",
    "duplicate_im_paths = list(duplicate_im_basepath.glob('**/*.jpg')) \n",
    "len(duplicate_im_paths)"
   ]
  },
  {
   "cell_type": "code",
   "execution_count": 44,
   "metadata": {},
   "outputs": [],
   "source": [
    "import os\n",
    "\n",
    "dup_im_indexs = []\n",
    "for i, dup_im in enumerate(duplicate_im_paths):\n",
    "    \n",
    "    fname, ext = os.path.splitext(os.path.split(dup_im)[1])\n",
    "    row = frames_with_best_faces[frames_with_best_faces.filenames.str.contains('/'+fname+ext)]\n",
    "    if (row.shape[0] == 0 ):\n",
    "        continue\n",
    "    dup_im_indexs.append(row.index.values.item())\n",
    "    #print(fname, row.filenames.values, row.index)\n",
    "    #break\n",
    "    #dup_im_indexs.append(frames_with_best_faces[frames_with_best_faces['filenames'].str.contains(fname)].index)\n",
    "    #break"
   ]
  },
  {
   "cell_type": "code",
   "execution_count": 45,
   "metadata": {},
   "outputs": [
    {
     "data": {
      "text/plain": [
       "(array([], dtype=object), '.jpg')"
      ]
     },
     "execution_count": 45,
     "metadata": {},
     "output_type": "execute_result"
    }
   ],
   "source": [
    "row.filenames.values, ext"
   ]
  },
  {
   "cell_type": "code",
   "execution_count": 46,
   "metadata": {},
   "outputs": [
    {
     "data": {
      "text/plain": [
       "33"
      ]
     },
     "execution_count": 46,
     "metadata": {},
     "output_type": "execute_result"
    }
   ],
   "source": [
    "len(dup_im_indexs)"
   ]
  },
  {
   "cell_type": "code",
   "execution_count": 47,
   "metadata": {},
   "outputs": [
    {
     "data": {
      "text/plain": [
       "array([], dtype=object)"
      ]
     },
     "execution_count": 47,
     "metadata": {},
     "output_type": "execute_result"
    }
   ],
   "source": [
    "row.filenames.values"
   ]
  },
  {
   "cell_type": "code",
   "execution_count": 48,
   "metadata": {},
   "outputs": [
    {
     "data": {
      "text/plain": [
       "295"
      ]
     },
     "execution_count": 48,
     "metadata": {},
     "output_type": "execute_result"
    }
   ],
   "source": [
    "len(frames_with_best_faces.index)"
   ]
  },
  {
   "cell_type": "code",
   "execution_count": 49,
   "metadata": {},
   "outputs": [],
   "source": [
    "# dup_im_indexs"
   ]
  },
  {
   "cell_type": "code",
   "execution_count": 50,
   "metadata": {},
   "outputs": [],
   "source": [
    "frames_with_best_faces = frames_with_best_faces.drop(frames_with_best_faces.index[dup_im_indexs])"
   ]
  },
  {
   "cell_type": "code",
   "execution_count": 51,
   "metadata": {},
   "outputs": [
    {
     "data": {
      "text/plain": [
       "262"
      ]
     },
     "execution_count": 51,
     "metadata": {},
     "output_type": "execute_result"
    }
   ],
   "source": [
    "len(frames_with_best_faces.index)"
   ]
  },
  {
   "cell_type": "code",
   "execution_count": 52,
   "metadata": {},
   "outputs": [
    {
     "data": {
      "text/html": [
       "<div>\n",
       "<style scoped>\n",
       "    .dataframe tbody tr th:only-of-type {\n",
       "        vertical-align: middle;\n",
       "    }\n",
       "\n",
       "    .dataframe tbody tr th {\n",
       "        vertical-align: top;\n",
       "    }\n",
       "\n",
       "    .dataframe thead th {\n",
       "        text-align: right;\n",
       "    }\n",
       "</style>\n",
       "<table border=\"1\" class=\"dataframe\">\n",
       "  <thead>\n",
       "    <tr style=\"text-align: right;\">\n",
       "      <th></th>\n",
       "      <th>filenames</th>\n",
       "      <th>seq</th>\n",
       "      <th>1</th>\n",
       "      <th>2</th>\n",
       "      <th>3</th>\n",
       "      <th>4</th>\n",
       "      <th>confidence</th>\n",
       "      <th>Area</th>\n",
       "      <th>seq_ypr</th>\n",
       "      <th>yaw</th>\n",
       "      <th>pitch</th>\n",
       "      <th>roll</th>\n",
       "    </tr>\n",
       "  </thead>\n",
       "  <tbody>\n",
       "    <tr>\n",
       "      <th>0</th>\n",
       "      <td>/home/tarik/data/mirror_selfie__confirmed_224x...</td>\n",
       "      <td>1</td>\n",
       "      <td>84.147331</td>\n",
       "      <td>121.989624</td>\n",
       "      <td>125.069405</td>\n",
       "      <td>172.935699</td>\n",
       "      <td>0.998930</td>\n",
       "      <td>2084.819051</td>\n",
       "      <td>1</td>\n",
       "      <td>-7.152298</td>\n",
       "      <td>9.043900</td>\n",
       "      <td>-3.272041</td>\n",
       "    </tr>\n",
       "    <tr>\n",
       "      <th>8</th>\n",
       "      <td>/home/tarik/data/mirror_selfie__confirmed_224x...</td>\n",
       "      <td>9</td>\n",
       "      <td>95.980972</td>\n",
       "      <td>37.767773</td>\n",
       "      <td>160.727585</td>\n",
       "      <td>134.041885</td>\n",
       "      <td>0.999599</td>\n",
       "      <td>6233.422672</td>\n",
       "      <td>9</td>\n",
       "      <td>-31.127274</td>\n",
       "      <td>1.870766</td>\n",
       "      <td>-18.171219</td>\n",
       "    </tr>\n",
       "    <tr>\n",
       "      <th>11</th>\n",
       "      <td>/home/tarik/data/mirror_selfie__confirmed_224x...</td>\n",
       "      <td>12</td>\n",
       "      <td>137.619751</td>\n",
       "      <td>33.728134</td>\n",
       "      <td>188.877380</td>\n",
       "      <td>82.486076</td>\n",
       "      <td>0.998536</td>\n",
       "      <td>2499.216502</td>\n",
       "      <td>12</td>\n",
       "      <td>-8.201492</td>\n",
       "      <td>-15.777214</td>\n",
       "      <td>32.990143</td>\n",
       "    </tr>\n",
       "    <tr>\n",
       "      <th>12</th>\n",
       "      <td>/home/tarik/data/mirror_selfie__confirmed_224x...</td>\n",
       "      <td>13</td>\n",
       "      <td>146.880142</td>\n",
       "      <td>54.910828</td>\n",
       "      <td>200.943832</td>\n",
       "      <td>127.548874</td>\n",
       "      <td>0.999630</td>\n",
       "      <td>3927.080801</td>\n",
       "      <td>13</td>\n",
       "      <td>-36.375057</td>\n",
       "      <td>2.562912</td>\n",
       "      <td>20.477188</td>\n",
       "    </tr>\n",
       "    <tr>\n",
       "      <th>13</th>\n",
       "      <td>/home/tarik/data/mirror_selfie__confirmed_224x...</td>\n",
       "      <td>14</td>\n",
       "      <td>126.980942</td>\n",
       "      <td>67.205742</td>\n",
       "      <td>181.125656</td>\n",
       "      <td>121.141502</td>\n",
       "      <td>0.999565</td>\n",
       "      <td>2920.336300</td>\n",
       "      <td>14</td>\n",
       "      <td>3.363785</td>\n",
       "      <td>-14.306549</td>\n",
       "      <td>44.209015</td>\n",
       "    </tr>\n",
       "  </tbody>\n",
       "</table>\n",
       "</div>"
      ],
      "text/plain": [
       "                                            filenames  seq           1  \\\n",
       "0   /home/tarik/data/mirror_selfie__confirmed_224x...    1   84.147331   \n",
       "8   /home/tarik/data/mirror_selfie__confirmed_224x...    9   95.980972   \n",
       "11  /home/tarik/data/mirror_selfie__confirmed_224x...   12  137.619751   \n",
       "12  /home/tarik/data/mirror_selfie__confirmed_224x...   13  146.880142   \n",
       "13  /home/tarik/data/mirror_selfie__confirmed_224x...   14  126.980942   \n",
       "\n",
       "             2           3           4  confidence         Area  seq_ypr  \\\n",
       "0   121.989624  125.069405  172.935699    0.998930  2084.819051        1   \n",
       "8    37.767773  160.727585  134.041885    0.999599  6233.422672        9   \n",
       "11   33.728134  188.877380   82.486076    0.998536  2499.216502       12   \n",
       "12   54.910828  200.943832  127.548874    0.999630  3927.080801       13   \n",
       "13   67.205742  181.125656  121.141502    0.999565  2920.336300       14   \n",
       "\n",
       "          yaw      pitch       roll  \n",
       "0   -7.152298   9.043900  -3.272041  \n",
       "8  -31.127274   1.870766 -18.171219  \n",
       "11  -8.201492 -15.777214  32.990143  \n",
       "12 -36.375057   2.562912  20.477188  \n",
       "13   3.363785 -14.306549  44.209015  "
      ]
     },
     "execution_count": 52,
     "metadata": {},
     "output_type": "execute_result"
    }
   ],
   "source": [
    "frames_with_best_faces.head()"
   ]
  },
  {
   "cell_type": "code",
   "execution_count": 53,
   "metadata": {},
   "outputs": [
    {
     "data": {
      "text/html": [
       "<div>\n",
       "<style scoped>\n",
       "    .dataframe tbody tr th:only-of-type {\n",
       "        vertical-align: middle;\n",
       "    }\n",
       "\n",
       "    .dataframe tbody tr th {\n",
       "        vertical-align: top;\n",
       "    }\n",
       "\n",
       "    .dataframe thead th {\n",
       "        text-align: right;\n",
       "    }\n",
       "</style>\n",
       "<table border=\"1\" class=\"dataframe\">\n",
       "  <thead>\n",
       "    <tr style=\"text-align: right;\">\n",
       "      <th></th>\n",
       "      <th>filenames</th>\n",
       "      <th>seq</th>\n",
       "      <th>1</th>\n",
       "      <th>2</th>\n",
       "      <th>3</th>\n",
       "      <th>4</th>\n",
       "      <th>confidence</th>\n",
       "      <th>Area</th>\n",
       "      <th>yaw</th>\n",
       "      <th>pitch</th>\n",
       "      <th>roll</th>\n",
       "    </tr>\n",
       "  </thead>\n",
       "  <tbody>\n",
       "    <tr>\n",
       "      <th>0</th>\n",
       "      <td>/home/tarik/data/mirror_selfie__confirmed_224x...</td>\n",
       "      <td>1</td>\n",
       "      <td>84.147331</td>\n",
       "      <td>121.989624</td>\n",
       "      <td>125.069405</td>\n",
       "      <td>172.935699</td>\n",
       "      <td>0.998930</td>\n",
       "      <td>2084.819051</td>\n",
       "      <td>-7.152298</td>\n",
       "      <td>9.043900</td>\n",
       "      <td>-3.272041</td>\n",
       "    </tr>\n",
       "    <tr>\n",
       "      <th>8</th>\n",
       "      <td>/home/tarik/data/mirror_selfie__confirmed_224x...</td>\n",
       "      <td>9</td>\n",
       "      <td>95.980972</td>\n",
       "      <td>37.767773</td>\n",
       "      <td>160.727585</td>\n",
       "      <td>134.041885</td>\n",
       "      <td>0.999599</td>\n",
       "      <td>6233.422672</td>\n",
       "      <td>-31.127274</td>\n",
       "      <td>1.870766</td>\n",
       "      <td>-18.171219</td>\n",
       "    </tr>\n",
       "    <tr>\n",
       "      <th>11</th>\n",
       "      <td>/home/tarik/data/mirror_selfie__confirmed_224x...</td>\n",
       "      <td>12</td>\n",
       "      <td>137.619751</td>\n",
       "      <td>33.728134</td>\n",
       "      <td>188.877380</td>\n",
       "      <td>82.486076</td>\n",
       "      <td>0.998536</td>\n",
       "      <td>2499.216502</td>\n",
       "      <td>-8.201492</td>\n",
       "      <td>-15.777214</td>\n",
       "      <td>32.990143</td>\n",
       "    </tr>\n",
       "    <tr>\n",
       "      <th>12</th>\n",
       "      <td>/home/tarik/data/mirror_selfie__confirmed_224x...</td>\n",
       "      <td>13</td>\n",
       "      <td>146.880142</td>\n",
       "      <td>54.910828</td>\n",
       "      <td>200.943832</td>\n",
       "      <td>127.548874</td>\n",
       "      <td>0.999630</td>\n",
       "      <td>3927.080801</td>\n",
       "      <td>-36.375057</td>\n",
       "      <td>2.562912</td>\n",
       "      <td>20.477188</td>\n",
       "    </tr>\n",
       "    <tr>\n",
       "      <th>13</th>\n",
       "      <td>/home/tarik/data/mirror_selfie__confirmed_224x...</td>\n",
       "      <td>14</td>\n",
       "      <td>126.980942</td>\n",
       "      <td>67.205742</td>\n",
       "      <td>181.125656</td>\n",
       "      <td>121.141502</td>\n",
       "      <td>0.999565</td>\n",
       "      <td>2920.336300</td>\n",
       "      <td>3.363785</td>\n",
       "      <td>-14.306549</td>\n",
       "      <td>44.209015</td>\n",
       "    </tr>\n",
       "  </tbody>\n",
       "</table>\n",
       "</div>"
      ],
      "text/plain": [
       "                                            filenames  seq           1  \\\n",
       "0   /home/tarik/data/mirror_selfie__confirmed_224x...    1   84.147331   \n",
       "8   /home/tarik/data/mirror_selfie__confirmed_224x...    9   95.980972   \n",
       "11  /home/tarik/data/mirror_selfie__confirmed_224x...   12  137.619751   \n",
       "12  /home/tarik/data/mirror_selfie__confirmed_224x...   13  146.880142   \n",
       "13  /home/tarik/data/mirror_selfie__confirmed_224x...   14  126.980942   \n",
       "\n",
       "             2           3           4  confidence         Area        yaw  \\\n",
       "0   121.989624  125.069405  172.935699    0.998930  2084.819051  -7.152298   \n",
       "8    37.767773  160.727585  134.041885    0.999599  6233.422672 -31.127274   \n",
       "11   33.728134  188.877380   82.486076    0.998536  2499.216502  -8.201492   \n",
       "12   54.910828  200.943832  127.548874    0.999630  3927.080801 -36.375057   \n",
       "13   67.205742  181.125656  121.141502    0.999565  2920.336300   3.363785   \n",
       "\n",
       "        pitch       roll  \n",
       "0    9.043900  -3.272041  \n",
       "8    1.870766 -18.171219  \n",
       "11 -15.777214  32.990143  \n",
       "12   2.562912  20.477188  \n",
       "13 -14.306549  44.209015  "
      ]
     },
     "execution_count": 53,
     "metadata": {},
     "output_type": "execute_result"
    }
   ],
   "source": [
    "frames_with_best_faces = frames_with_best_faces.drop(columns=['seq_ypr'])\n",
    "frames_with_best_faces.head()"
   ]
  },
  {
   "cell_type": "code",
   "execution_count": 54,
   "metadata": {},
   "outputs": [],
   "source": [
    "filenames = [os.path.split(f)[-1] for f in frames_with_best_faces['filenames']]\n",
    "frames_with_best_faces.insert(0,column = 'filename', value = filenames)"
   ]
  },
  {
   "cell_type": "code",
   "execution_count": 55,
   "metadata": {},
   "outputs": [
    {
     "data": {
      "text/html": [
       "<div>\n",
       "<style scoped>\n",
       "    .dataframe tbody tr th:only-of-type {\n",
       "        vertical-align: middle;\n",
       "    }\n",
       "\n",
       "    .dataframe tbody tr th {\n",
       "        vertical-align: top;\n",
       "    }\n",
       "\n",
       "    .dataframe thead th {\n",
       "        text-align: right;\n",
       "    }\n",
       "</style>\n",
       "<table border=\"1\" class=\"dataframe\">\n",
       "  <thead>\n",
       "    <tr style=\"text-align: right;\">\n",
       "      <th></th>\n",
       "      <th>filename</th>\n",
       "      <th>filenames</th>\n",
       "      <th>seq</th>\n",
       "      <th>1</th>\n",
       "      <th>2</th>\n",
       "      <th>3</th>\n",
       "      <th>4</th>\n",
       "      <th>confidence</th>\n",
       "      <th>Area</th>\n",
       "      <th>yaw</th>\n",
       "      <th>pitch</th>\n",
       "      <th>roll</th>\n",
       "    </tr>\n",
       "  </thead>\n",
       "  <tbody>\n",
       "    <tr>\n",
       "      <th>0</th>\n",
       "      <td>google_mirror_selfie__091218_000004.jpg</td>\n",
       "      <td>/home/tarik/data/mirror_selfie__confirmed_224x...</td>\n",
       "      <td>1</td>\n",
       "      <td>84.147331</td>\n",
       "      <td>121.989624</td>\n",
       "      <td>125.069405</td>\n",
       "      <td>172.935699</td>\n",
       "      <td>0.998930</td>\n",
       "      <td>2084.819051</td>\n",
       "      <td>-7.152298</td>\n",
       "      <td>9.043900</td>\n",
       "      <td>-3.272041</td>\n",
       "    </tr>\n",
       "    <tr>\n",
       "      <th>8</th>\n",
       "      <td>google_mirror_selfie__091218_000151.jpg</td>\n",
       "      <td>/home/tarik/data/mirror_selfie__confirmed_224x...</td>\n",
       "      <td>9</td>\n",
       "      <td>95.980972</td>\n",
       "      <td>37.767773</td>\n",
       "      <td>160.727585</td>\n",
       "      <td>134.041885</td>\n",
       "      <td>0.999599</td>\n",
       "      <td>6233.422672</td>\n",
       "      <td>-31.127274</td>\n",
       "      <td>1.870766</td>\n",
       "      <td>-18.171219</td>\n",
       "    </tr>\n",
       "    <tr>\n",
       "      <th>11</th>\n",
       "      <td>google_mirror_selfie__091218_000162.jpg</td>\n",
       "      <td>/home/tarik/data/mirror_selfie__confirmed_224x...</td>\n",
       "      <td>12</td>\n",
       "      <td>137.619751</td>\n",
       "      <td>33.728134</td>\n",
       "      <td>188.877380</td>\n",
       "      <td>82.486076</td>\n",
       "      <td>0.998536</td>\n",
       "      <td>2499.216502</td>\n",
       "      <td>-8.201492</td>\n",
       "      <td>-15.777214</td>\n",
       "      <td>32.990143</td>\n",
       "    </tr>\n",
       "    <tr>\n",
       "      <th>12</th>\n",
       "      <td>google_mirror_selfie__091218_000178.jpg</td>\n",
       "      <td>/home/tarik/data/mirror_selfie__confirmed_224x...</td>\n",
       "      <td>13</td>\n",
       "      <td>146.880142</td>\n",
       "      <td>54.910828</td>\n",
       "      <td>200.943832</td>\n",
       "      <td>127.548874</td>\n",
       "      <td>0.999630</td>\n",
       "      <td>3927.080801</td>\n",
       "      <td>-36.375057</td>\n",
       "      <td>2.562912</td>\n",
       "      <td>20.477188</td>\n",
       "    </tr>\n",
       "    <tr>\n",
       "      <th>13</th>\n",
       "      <td>google_mirror_selfie__091218_000209.jpg</td>\n",
       "      <td>/home/tarik/data/mirror_selfie__confirmed_224x...</td>\n",
       "      <td>14</td>\n",
       "      <td>126.980942</td>\n",
       "      <td>67.205742</td>\n",
       "      <td>181.125656</td>\n",
       "      <td>121.141502</td>\n",
       "      <td>0.999565</td>\n",
       "      <td>2920.336300</td>\n",
       "      <td>3.363785</td>\n",
       "      <td>-14.306549</td>\n",
       "      <td>44.209015</td>\n",
       "    </tr>\n",
       "  </tbody>\n",
       "</table>\n",
       "</div>"
      ],
      "text/plain": [
       "                                   filename  \\\n",
       "0   google_mirror_selfie__091218_000004.jpg   \n",
       "8   google_mirror_selfie__091218_000151.jpg   \n",
       "11  google_mirror_selfie__091218_000162.jpg   \n",
       "12  google_mirror_selfie__091218_000178.jpg   \n",
       "13  google_mirror_selfie__091218_000209.jpg   \n",
       "\n",
       "                                            filenames  seq           1  \\\n",
       "0   /home/tarik/data/mirror_selfie__confirmed_224x...    1   84.147331   \n",
       "8   /home/tarik/data/mirror_selfie__confirmed_224x...    9   95.980972   \n",
       "11  /home/tarik/data/mirror_selfie__confirmed_224x...   12  137.619751   \n",
       "12  /home/tarik/data/mirror_selfie__confirmed_224x...   13  146.880142   \n",
       "13  /home/tarik/data/mirror_selfie__confirmed_224x...   14  126.980942   \n",
       "\n",
       "             2           3           4  confidence         Area        yaw  \\\n",
       "0   121.989624  125.069405  172.935699    0.998930  2084.819051  -7.152298   \n",
       "8    37.767773  160.727585  134.041885    0.999599  6233.422672 -31.127274   \n",
       "11   33.728134  188.877380   82.486076    0.998536  2499.216502  -8.201492   \n",
       "12   54.910828  200.943832  127.548874    0.999630  3927.080801 -36.375057   \n",
       "13   67.205742  181.125656  121.141502    0.999565  2920.336300   3.363785   \n",
       "\n",
       "        pitch       roll  \n",
       "0    9.043900  -3.272041  \n",
       "8    1.870766 -18.171219  \n",
       "11 -15.777214  32.990143  \n",
       "12   2.562912  20.477188  \n",
       "13 -14.306549  44.209015  "
      ]
     },
     "execution_count": 55,
     "metadata": {},
     "output_type": "execute_result"
    }
   ],
   "source": [
    "frames_with_best_faces.head()"
   ]
  },
  {
   "cell_type": "code",
   "execution_count": 57,
   "metadata": {},
   "outputs": [],
   "source": [
    "\n",
    "frames_with_best_faces.to_csv(csv_savepath+f'{class_name}.csv',columns = ['filename',1,2,3,4,'confidence','yaw','pitch','roll'], \n",
    "                              header = ['filename','x_min','y_min','x_max','y_max','confidence_score','yaw','pitch','roll'],\n",
    "                              index = False)"
   ]
  },
  {
   "cell_type": "code",
   "execution_count": 57,
   "metadata": {},
   "outputs": [
    {
     "data": {
      "text/html": [
       "<div>\n",
       "<style scoped>\n",
       "    .dataframe tbody tr th:only-of-type {\n",
       "        vertical-align: middle;\n",
       "    }\n",
       "\n",
       "    .dataframe tbody tr th {\n",
       "        vertical-align: top;\n",
       "    }\n",
       "\n",
       "    .dataframe thead th {\n",
       "        text-align: right;\n",
       "    }\n",
       "</style>\n",
       "<table border=\"1\" class=\"dataframe\">\n",
       "  <thead>\n",
       "    <tr style=\"text-align: right;\">\n",
       "      <th></th>\n",
       "      <th>filename</th>\n",
       "      <th>filenames</th>\n",
       "      <th>seq</th>\n",
       "      <th>1</th>\n",
       "      <th>2</th>\n",
       "      <th>3</th>\n",
       "      <th>4</th>\n",
       "      <th>confidence</th>\n",
       "      <th>Area</th>\n",
       "      <th>yaw</th>\n",
       "      <th>pitch</th>\n",
       "      <th>roll</th>\n",
       "    </tr>\n",
       "  </thead>\n",
       "  <tbody>\n",
       "    <tr>\n",
       "      <th>816</th>\n",
       "      <td>google_faces__300612_000464.jpg</td>\n",
       "      <td>/home/tarik/data/non_mirror_selfie__confirmed_...</td>\n",
       "      <td>617</td>\n",
       "      <td>154.367279</td>\n",
       "      <td>21.666767</td>\n",
       "      <td>186.667999</td>\n",
       "      <td>58.017437</td>\n",
       "      <td>0.999125</td>\n",
       "      <td>1174.152813</td>\n",
       "      <td>7.197533</td>\n",
       "      <td>-28.746368</td>\n",
       "      <td>-9.711365</td>\n",
       "    </tr>\n",
       "    <tr>\n",
       "      <th>817</th>\n",
       "      <td>google_medium_shot_face_151216_000380.jpg</td>\n",
       "      <td>/home/tarik/data/non_mirror_selfie__confirmed_...</td>\n",
       "      <td>707</td>\n",
       "      <td>161.452667</td>\n",
       "      <td>20.926987</td>\n",
       "      <td>252.812195</td>\n",
       "      <td>197.077606</td>\n",
       "      <td>0.999507</td>\n",
       "      <td>16093.037409</td>\n",
       "      <td>-16.179214</td>\n",
       "      <td>-5.141388</td>\n",
       "      <td>7.363586</td>\n",
       "    </tr>\n",
       "    <tr>\n",
       "      <th>818</th>\n",
       "      <td>bing_medium_shot_pastmonth_000105.jpg</td>\n",
       "      <td>/home/tarik/data/non_mirror_selfie__confirmed_...</td>\n",
       "      <td>777</td>\n",
       "      <td>79.236000</td>\n",
       "      <td>25.108391</td>\n",
       "      <td>141.700897</td>\n",
       "      <td>89.984230</td>\n",
       "      <td>0.999647</td>\n",
       "      <td>4052.462601</td>\n",
       "      <td>5.032883</td>\n",
       "      <td>-15.167694</td>\n",
       "      <td>7.410393</td>\n",
       "    </tr>\n",
       "    <tr>\n",
       "      <th>819</th>\n",
       "      <td>bing_medium_shot_pastyear_000282.jpg</td>\n",
       "      <td>/home/tarik/data/non_mirror_selfie__confirmed_...</td>\n",
       "      <td>818</td>\n",
       "      <td>129.761993</td>\n",
       "      <td>24.730515</td>\n",
       "      <td>166.945435</td>\n",
       "      <td>64.602982</td>\n",
       "      <td>0.999278</td>\n",
       "      <td>1482.595564</td>\n",
       "      <td>6.110756</td>\n",
       "      <td>-22.549706</td>\n",
       "      <td>-1.132431</td>\n",
       "    </tr>\n",
       "    <tr>\n",
       "      <th>820</th>\n",
       "      <td>bing_medium_shot_pastyear_000288.jpg</td>\n",
       "      <td>/home/tarik/data/non_mirror_selfie__confirmed_...</td>\n",
       "      <td>821</td>\n",
       "      <td>139.884811</td>\n",
       "      <td>28.011038</td>\n",
       "      <td>170.537247</td>\n",
       "      <td>61.516930</td>\n",
       "      <td>0.998170</td>\n",
       "      <td>1027.037210</td>\n",
       "      <td>21.306908</td>\n",
       "      <td>-4.563416</td>\n",
       "      <td>2.387558</td>\n",
       "    </tr>\n",
       "  </tbody>\n",
       "</table>\n",
       "</div>"
      ],
      "text/plain": [
       "                                      filename  \\\n",
       "816            google_faces__300612_000464.jpg   \n",
       "817  google_medium_shot_face_151216_000380.jpg   \n",
       "818      bing_medium_shot_pastmonth_000105.jpg   \n",
       "819       bing_medium_shot_pastyear_000282.jpg   \n",
       "820       bing_medium_shot_pastyear_000288.jpg   \n",
       "\n",
       "                                             filenames  seq           1  \\\n",
       "816  /home/tarik/data/non_mirror_selfie__confirmed_...  617  154.367279   \n",
       "817  /home/tarik/data/non_mirror_selfie__confirmed_...  707  161.452667   \n",
       "818  /home/tarik/data/non_mirror_selfie__confirmed_...  777   79.236000   \n",
       "819  /home/tarik/data/non_mirror_selfie__confirmed_...  818  129.761993   \n",
       "820  /home/tarik/data/non_mirror_selfie__confirmed_...  821  139.884811   \n",
       "\n",
       "             2           3           4  confidence          Area        yaw  \\\n",
       "816  21.666767  186.667999   58.017437    0.999125   1174.152813   7.197533   \n",
       "817  20.926987  252.812195  197.077606    0.999507  16093.037409 -16.179214   \n",
       "818  25.108391  141.700897   89.984230    0.999647   4052.462601   5.032883   \n",
       "819  24.730515  166.945435   64.602982    0.999278   1482.595564   6.110756   \n",
       "820  28.011038  170.537247   61.516930    0.998170   1027.037210  21.306908   \n",
       "\n",
       "         pitch      roll  \n",
       "816 -28.746368 -9.711365  \n",
       "817  -5.141388  7.363586  \n",
       "818 -15.167694  7.410393  \n",
       "819 -22.549706 -1.132431  \n",
       "820  -4.563416  2.387558  "
      ]
     },
     "execution_count": 57,
     "metadata": {},
     "output_type": "execute_result"
    }
   ],
   "source": [
    "frames_with_best_faces.tail()"
   ]
  },
  {
   "cell_type": "code",
   "execution_count": 58,
   "metadata": {},
   "outputs": [],
   "source": [
    "# frames_with_best_faces['filenames']=frames_with_best_faces.filenames.replace(frames_with_best_faces.index, filenames)\n"
   ]
  },
  {
   "cell_type": "code",
   "execution_count": 59,
   "metadata": {},
   "outputs": [],
   "source": [
    "# dup_files = frames_with_best_faces[frames_with_best_faces.duplicated(['filenames'])]"
   ]
  },
  {
   "cell_type": "code",
   "execution_count": 60,
   "metadata": {},
   "outputs": [],
   "source": [
    "# dup_files"
   ]
  },
  {
   "cell_type": "markdown",
   "metadata": {},
   "source": [
    "# merging"
   ]
  },
  {
   "cell_type": "code",
   "execution_count": 58,
   "metadata": {},
   "outputs": [],
   "source": [
    "csv_01 = pd.read_csv('/disks/data/paper_projects/selfie_detection/data/DS_224_all_features_no_duplicates/yaw_pitch_roll/mirror_selfie_J18.csv')\n",
    "csv_02 = pd.read_csv('/disks/data/paper_projects/selfie_detection/data/DS_224_all_features_no_duplicates/yaw_pitch_roll/mirror_selfie_J22.csv')\n",
    "\n",
    "csv = csv_01.append(csv_02)\n",
    "with open('/disks/data/paper_projects/selfie_detection/data/DS_224_all_features_no_duplicates/yaw_pitch_roll/mirror_selfie.csv', 'w', encoding='utf-8') as f:\n",
    "    csv.to_csv(f, index=False)"
   ]
  },
  {
   "cell_type": "code",
   "execution_count": null,
   "metadata": {},
   "outputs": [],
   "source": []
  }
 ],
 "metadata": {
  "kernelspec": {
   "display_name": "Python 3",
   "language": "python",
   "name": "python3"
  },
  "language_info": {
   "codemirror_mode": {
    "name": "ipython",
    "version": 3
   },
   "file_extension": ".py",
   "mimetype": "text/x-python",
   "name": "python",
   "nbconvert_exporter": "python",
   "pygments_lexer": "ipython3",
   "version": "3.7.3"
  }
 },
 "nbformat": 4,
 "nbformat_minor": 2
}
