{
 "cells": [
  {
   "cell_type": "code",
   "execution_count": 1,
   "metadata": {},
   "outputs": [],
   "source": [
    "import pandas as pd\n",
    "import pathlib\n",
    "import numpy as np\n",
    "import os"
   ]
  },
  {
   "cell_type": "code",
   "execution_count": 2,
   "metadata": {},
   "outputs": [],
   "source": [
    "ypr_csv_base_path = '/disks/data/paper_projects/selfie_detection/data/DS_224_all_features_no_duplicates/yaw_pitch_roll/'\n",
    "\n",
    "skeleton_im_base_path = '/disks/data/paper_projects/selfie_detection/data/DS_224_all_features_no_duplicates/color_skeleton/im+skeleton/'"
   ]
  },
  {
   "cell_type": "code",
   "execution_count": 3,
   "metadata": {},
   "outputs": [],
   "source": [
    "class_names = ['mirror_selfie','non_mirror_selfie','non_selfie','selfie']"
   ]
  },
  {
   "cell_type": "code",
   "execution_count": 4,
   "metadata": {},
   "outputs": [],
   "source": [
    "class_name = class_names[3]"
   ]
  },
  {
   "cell_type": "code",
   "execution_count": 5,
   "metadata": {},
   "outputs": [],
   "source": [
    "ypr_df = pd.read_csv(ypr_csv_base_path+class_name+'.csv')"
   ]
  },
  {
   "cell_type": "code",
   "execution_count": 6,
   "metadata": {},
   "outputs": [
    {
     "data": {
      "text/plain": [
       "(1789, 9)"
      ]
     },
     "execution_count": 6,
     "metadata": {},
     "output_type": "execute_result"
    }
   ],
   "source": [
    "ypr_df.shape"
   ]
  },
  {
   "cell_type": "code",
   "execution_count": 7,
   "metadata": {},
   "outputs": [],
   "source": [
    "sk_path = pathlib.Path(skeleton_im_base_path+class_name+'/')\n",
    "sk_files = [os.path.split(f)[1].split('_im_skeleton')[0] for f in list(sk_path.glob('**/*.jpg'))]"
   ]
  },
  {
   "cell_type": "code",
   "execution_count": 8,
   "metadata": {},
   "outputs": [
    {
     "data": {
      "text/plain": [
       "[PosixPath('/disks/data/paper_projects/selfie_detection/data/DS_224_all_features_no_duplicates/color_skeleton/im+skeleton/selfie/google_selfie_face_170616_000001.jpg_im_skeleton.jpg'),\n",
       " PosixPath('/disks/data/paper_projects/selfie_detection/data/DS_224_all_features_no_duplicates/color_skeleton/im+skeleton/selfie/selfie_mshah_0001648.jpg_im_skeleton.jpg')]"
      ]
     },
     "execution_count": 8,
     "metadata": {},
     "output_type": "execute_result"
    }
   ],
   "source": [
    "list(sk_path.glob('**/*.jpg'))[:2]"
   ]
  },
  {
   "cell_type": "code",
   "execution_count": 9,
   "metadata": {},
   "outputs": [
    {
     "data": {
      "text/plain": [
       "1791"
      ]
     },
     "execution_count": 9,
     "metadata": {},
     "output_type": "execute_result"
    }
   ],
   "source": [
    "len(sk_files)"
   ]
  },
  {
   "cell_type": "code",
   "execution_count": 10,
   "metadata": {},
   "outputs": [],
   "source": [
    "sk_df = pd.DataFrame(pd.Series(sk_files,name = 'filename'))"
   ]
  },
  {
   "cell_type": "code",
   "execution_count": 11,
   "metadata": {},
   "outputs": [
    {
     "data": {
      "text/html": [
       "<div>\n",
       "<style scoped>\n",
       "    .dataframe tbody tr th:only-of-type {\n",
       "        vertical-align: middle;\n",
       "    }\n",
       "\n",
       "    .dataframe tbody tr th {\n",
       "        vertical-align: top;\n",
       "    }\n",
       "\n",
       "    .dataframe thead th {\n",
       "        text-align: right;\n",
       "    }\n",
       "</style>\n",
       "<table border=\"1\" class=\"dataframe\">\n",
       "  <thead>\n",
       "    <tr style=\"text-align: right;\">\n",
       "      <th></th>\n",
       "      <th>filename</th>\n",
       "    </tr>\n",
       "  </thead>\n",
       "  <tbody>\n",
       "    <tr>\n",
       "      <th>0</th>\n",
       "      <td>google_selfie_face_170616_000001.jpg</td>\n",
       "    </tr>\n",
       "    <tr>\n",
       "      <th>1</th>\n",
       "      <td>selfie_mshah_0001648.jpg</td>\n",
       "    </tr>\n",
       "    <tr>\n",
       "      <th>2</th>\n",
       "      <td>selfie_tag_22327052554_d12e2c56bc_c.jpg</td>\n",
       "    </tr>\n",
       "    <tr>\n",
       "      <th>3</th>\n",
       "      <td>selfie_mshah_0018411.jpg</td>\n",
       "    </tr>\n",
       "    <tr>\n",
       "      <th>4</th>\n",
       "      <td>selfie_mshah_0018349.jpg</td>\n",
       "    </tr>\n",
       "  </tbody>\n",
       "</table>\n",
       "</div>"
      ],
      "text/plain": [
       "                                  filename\n",
       "0     google_selfie_face_170616_000001.jpg\n",
       "1                 selfie_mshah_0001648.jpg\n",
       "2  selfie_tag_22327052554_d12e2c56bc_c.jpg\n",
       "3                 selfie_mshah_0018411.jpg\n",
       "4                 selfie_mshah_0018349.jpg"
      ]
     },
     "execution_count": 11,
     "metadata": {},
     "output_type": "execute_result"
    }
   ],
   "source": [
    "sk_df.head()"
   ]
  },
  {
   "cell_type": "code",
   "execution_count": 12,
   "metadata": {},
   "outputs": [
    {
     "data": {
      "text/plain": [
       "0        google_group_photo_face_091218_000213.jpg\n",
       "1      google_group_picture_face_210615_000083.jpg\n",
       "2      google_group_picture_face_281212_000037.jpg\n",
       "3    google_medium_close_up_face_091218_000167.jpg\n",
       "4    google_medium_close_up_face_091218_000285.jpg\n",
       "Name: filename, dtype: object"
      ]
     },
     "execution_count": 12,
     "metadata": {},
     "output_type": "execute_result"
    }
   ],
   "source": [
    "ypr_df.filename[:5]"
   ]
  },
  {
   "cell_type": "code",
   "execution_count": 13,
   "metadata": {},
   "outputs": [],
   "source": [
    "# sk_df.filename.values"
   ]
  },
  {
   "cell_type": "code",
   "execution_count": 14,
   "metadata": {},
   "outputs": [
    {
     "data": {
      "text/plain": [
       "1791"
      ]
     },
     "execution_count": 14,
     "metadata": {},
     "output_type": "execute_result"
    }
   ],
   "source": [
    "len(sk_df.filename.values)"
   ]
  },
  {
   "cell_type": "code",
   "execution_count": 15,
   "metadata": {},
   "outputs": [],
   "source": [
    "skeleton_and_ypr = pd.merge(sk_df, ypr_df, on = 'filename', how = 'inner')"
   ]
  },
  {
   "cell_type": "code",
   "execution_count": 16,
   "metadata": {},
   "outputs": [
    {
     "data": {
      "text/plain": [
       "(1789, 9)"
      ]
     },
     "execution_count": 16,
     "metadata": {},
     "output_type": "execute_result"
    }
   ],
   "source": [
    "skeleton_and_ypr.shape"
   ]
  },
  {
   "cell_type": "code",
   "execution_count": 17,
   "metadata": {},
   "outputs": [
    {
     "data": {
      "text/html": [
       "<div>\n",
       "<style scoped>\n",
       "    .dataframe tbody tr th:only-of-type {\n",
       "        vertical-align: middle;\n",
       "    }\n",
       "\n",
       "    .dataframe tbody tr th {\n",
       "        vertical-align: top;\n",
       "    }\n",
       "\n",
       "    .dataframe thead th {\n",
       "        text-align: right;\n",
       "    }\n",
       "</style>\n",
       "<table border=\"1\" class=\"dataframe\">\n",
       "  <thead>\n",
       "    <tr style=\"text-align: right;\">\n",
       "      <th></th>\n",
       "      <th>filename</th>\n",
       "      <th>x_min</th>\n",
       "      <th>y_min</th>\n",
       "      <th>x_max</th>\n",
       "      <th>y_max</th>\n",
       "      <th>confidence_score</th>\n",
       "      <th>yaw</th>\n",
       "      <th>pitch</th>\n",
       "      <th>roll</th>\n",
       "    </tr>\n",
       "  </thead>\n",
       "  <tbody>\n",
       "    <tr>\n",
       "      <th>0</th>\n",
       "      <td>google_selfie_face_170616_000001.jpg</td>\n",
       "      <td>69.812607</td>\n",
       "      <td>4.751129</td>\n",
       "      <td>162.124390</td>\n",
       "      <td>135.267654</td>\n",
       "      <td>0.999807</td>\n",
       "      <td>-9.648262</td>\n",
       "      <td>-3.431259</td>\n",
       "      <td>-6.078819</td>\n",
       "    </tr>\n",
       "    <tr>\n",
       "      <th>1</th>\n",
       "      <td>selfie_mshah_0001648.jpg</td>\n",
       "      <td>53.091011</td>\n",
       "      <td>12.870911</td>\n",
       "      <td>208.733215</td>\n",
       "      <td>216.841751</td>\n",
       "      <td>0.999478</td>\n",
       "      <td>-0.098442</td>\n",
       "      <td>-7.082375</td>\n",
       "      <td>-13.808197</td>\n",
       "    </tr>\n",
       "    <tr>\n",
       "      <th>2</th>\n",
       "      <td>selfie_tag_22327052554_d12e2c56bc_c.jpg</td>\n",
       "      <td>148.288559</td>\n",
       "      <td>124.413925</td>\n",
       "      <td>210.506119</td>\n",
       "      <td>214.626694</td>\n",
       "      <td>0.999573</td>\n",
       "      <td>8.638893</td>\n",
       "      <td>4.630257</td>\n",
       "      <td>-3.675873</td>\n",
       "    </tr>\n",
       "    <tr>\n",
       "      <th>3</th>\n",
       "      <td>selfie_mshah_0018411.jpg</td>\n",
       "      <td>33.179024</td>\n",
       "      <td>63.901459</td>\n",
       "      <td>154.551422</td>\n",
       "      <td>237.846588</td>\n",
       "      <td>0.999615</td>\n",
       "      <td>-3.005219</td>\n",
       "      <td>-15.897232</td>\n",
       "      <td>0.924484</td>\n",
       "    </tr>\n",
       "    <tr>\n",
       "      <th>4</th>\n",
       "      <td>selfie_mshah_0018349.jpg</td>\n",
       "      <td>110.925224</td>\n",
       "      <td>29.970924</td>\n",
       "      <td>243.742859</td>\n",
       "      <td>227.320526</td>\n",
       "      <td>0.999802</td>\n",
       "      <td>-1.087578</td>\n",
       "      <td>0.386696</td>\n",
       "      <td>-13.165344</td>\n",
       "    </tr>\n",
       "  </tbody>\n",
       "</table>\n",
       "</div>"
      ],
      "text/plain": [
       "                                  filename       x_min       y_min  \\\n",
       "0     google_selfie_face_170616_000001.jpg   69.812607    4.751129   \n",
       "1                 selfie_mshah_0001648.jpg   53.091011   12.870911   \n",
       "2  selfie_tag_22327052554_d12e2c56bc_c.jpg  148.288559  124.413925   \n",
       "3                 selfie_mshah_0018411.jpg   33.179024   63.901459   \n",
       "4                 selfie_mshah_0018349.jpg  110.925224   29.970924   \n",
       "\n",
       "        x_max       y_max  confidence_score       yaw      pitch       roll  \n",
       "0  162.124390  135.267654          0.999807 -9.648262  -3.431259  -6.078819  \n",
       "1  208.733215  216.841751          0.999478 -0.098442  -7.082375 -13.808197  \n",
       "2  210.506119  214.626694          0.999573  8.638893   4.630257  -3.675873  \n",
       "3  154.551422  237.846588          0.999615 -3.005219 -15.897232   0.924484  \n",
       "4  243.742859  227.320526          0.999802 -1.087578   0.386696 -13.165344  "
      ]
     },
     "execution_count": 17,
     "metadata": {},
     "output_type": "execute_result"
    }
   ],
   "source": [
    "skeleton_and_ypr.head()"
   ]
  },
  {
   "cell_type": "code",
   "execution_count": 18,
   "metadata": {},
   "outputs": [],
   "source": [
    "skeleton_and_ypr.filename = skeleton_and_ypr.filename + '_im_skeleton.jpg'"
   ]
  },
  {
   "cell_type": "code",
   "execution_count": 19,
   "metadata": {},
   "outputs": [
    {
     "name": "stderr",
     "output_type": "stream",
     "text": [
      "/home/tarik/anaconda3/envs/project_selfie/lib/python3.7/site-packages/pandas/core/indexing.py:1494: FutureWarning: \n",
      "Passing list-likes to .loc or [] with any missing label will raise\n",
      "KeyError in the future, you can use .reindex() as an alternative.\n",
      "\n",
      "See the documentation here:\n",
      "https://pandas.pydata.org/pandas-docs/stable/indexing.html#deprecate-loc-reindex-listlike\n",
      "  return self._getitem_tuple(key)\n"
     ]
    }
   ],
   "source": [
    "skeleton_and_ypr.to_csv(skeleton_im_base_path+f'{class_name}.csv',\n",
    "                              columns = ['filename','x_min','y_min','x_max','y_max','confidence','yaw','pitch','roll'], \n",
    "                              header = ['filename','x_min','y_min','x_max','y_max','confidence_score','yaw','pitch','roll'],\n",
    "                              index = False)"
   ]
  },
  {
   "cell_type": "code",
   "execution_count": 20,
   "metadata": {},
   "outputs": [
    {
     "data": {
      "text/html": [
       "<div>\n",
       "<style scoped>\n",
       "    .dataframe tbody tr th:only-of-type {\n",
       "        vertical-align: middle;\n",
       "    }\n",
       "\n",
       "    .dataframe tbody tr th {\n",
       "        vertical-align: top;\n",
       "    }\n",
       "\n",
       "    .dataframe thead th {\n",
       "        text-align: right;\n",
       "    }\n",
       "</style>\n",
       "<table border=\"1\" class=\"dataframe\">\n",
       "  <thead>\n",
       "    <tr style=\"text-align: right;\">\n",
       "      <th></th>\n",
       "      <th>filename</th>\n",
       "      <th>x_min</th>\n",
       "      <th>y_min</th>\n",
       "      <th>x_max</th>\n",
       "      <th>y_max</th>\n",
       "      <th>confidence_score</th>\n",
       "      <th>yaw</th>\n",
       "      <th>pitch</th>\n",
       "      <th>roll</th>\n",
       "    </tr>\n",
       "  </thead>\n",
       "  <tbody>\n",
       "  </tbody>\n",
       "</table>\n",
       "</div>"
      ],
      "text/plain": [
       "Empty DataFrame\n",
       "Columns: [filename, x_min, y_min, x_max, y_max, confidence_score, yaw, pitch, roll]\n",
       "Index: []"
      ]
     },
     "execution_count": 20,
     "metadata": {},
     "output_type": "execute_result"
    }
   ],
   "source": [
    "ypr_df[ypr_df.filename=='google_mirror_selfie_face_140617_000420.jpg']"
   ]
  },
  {
   "cell_type": "code",
   "execution_count": null,
   "metadata": {},
   "outputs": [],
   "source": []
  }
 ],
 "metadata": {
  "kernelspec": {
   "display_name": "Python 3",
   "language": "python",
   "name": "python3"
  },
  "language_info": {
   "codemirror_mode": {
    "name": "ipython",
    "version": 3
   },
   "file_extension": ".py",
   "mimetype": "text/x-python",
   "name": "python",
   "nbconvert_exporter": "python",
   "pygments_lexer": "ipython3",
   "version": "3.7.3"
  }
 },
 "nbformat": 4,
 "nbformat_minor": 2
}
