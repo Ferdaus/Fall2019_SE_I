{
 "cells": [
  {
   "cell_type": "code",
   "execution_count": 1,
   "metadata": {},
   "outputs": [],
   "source": [
    "import pandas as pd\n",
    "import pathlib\n",
    "import numpy as np\n",
    "import os\n",
    "\n",
    "import time\n",
    "import cv2\n",
    "from matplotlib import pyplot as plt"
   ]
  },
  {
   "cell_type": "code",
   "execution_count": 2,
   "metadata": {},
   "outputs": [],
   "source": [
    "skeleton_ypr_csv_base_path = '/disks/data/paper_projects/selfie_detection/data/DS_224_all_features_no_duplicates/color_skeleton+ypr/'\n",
    "\n",
    "dlib_sep_files_base_path = '/disks/data/paper_projects/selfie_detection/data/DS_224_all_features_no_duplicates/dlib_faces/'"
   ]
  },
  {
   "cell_type": "code",
   "execution_count": 3,
   "metadata": {},
   "outputs": [],
   "source": [
    "class_names = ['mirror_selfie','non_mirror_selfie','non_selfie','selfie']"
   ]
  },
  {
   "cell_type": "code",
   "execution_count": 4,
   "metadata": {},
   "outputs": [],
   "source": [
    "class_name = class_names[3]"
   ]
  },
  {
   "cell_type": "code",
   "execution_count": 5,
   "metadata": {},
   "outputs": [],
   "source": [
    "skel_ypr_df = pd.read_csv(skeleton_ypr_csv_base_path+class_name+'.csv')"
   ]
  },
  {
   "cell_type": "code",
   "execution_count": 6,
   "metadata": {},
   "outputs": [
    {
     "data": {
      "text/plain": [
       "(1789, 9)"
      ]
     },
     "execution_count": 6,
     "metadata": {},
     "output_type": "execute_result"
    }
   ],
   "source": [
    "skel_ypr_df.shape"
   ]
  },
  {
   "cell_type": "code",
   "execution_count": 7,
   "metadata": {},
   "outputs": [
    {
     "data": {
      "text/html": [
       "<div>\n",
       "<style scoped>\n",
       "    .dataframe tbody tr th:only-of-type {\n",
       "        vertical-align: middle;\n",
       "    }\n",
       "\n",
       "    .dataframe tbody tr th {\n",
       "        vertical-align: top;\n",
       "    }\n",
       "\n",
       "    .dataframe thead th {\n",
       "        text-align: right;\n",
       "    }\n",
       "</style>\n",
       "<table border=\"1\" class=\"dataframe\">\n",
       "  <thead>\n",
       "    <tr style=\"text-align: right;\">\n",
       "      <th></th>\n",
       "      <th>filename</th>\n",
       "      <th>x_min</th>\n",
       "      <th>y_min</th>\n",
       "      <th>x_max</th>\n",
       "      <th>y_max</th>\n",
       "      <th>confidence_score</th>\n",
       "      <th>yaw</th>\n",
       "      <th>pitch</th>\n",
       "      <th>roll</th>\n",
       "    </tr>\n",
       "  </thead>\n",
       "  <tbody>\n",
       "    <tr>\n",
       "      <th>0</th>\n",
       "      <td>google_selfie_face_170616_000001.jpg_im_skelet...</td>\n",
       "      <td>69.812607</td>\n",
       "      <td>4.751129</td>\n",
       "      <td>162.124390</td>\n",
       "      <td>135.267654</td>\n",
       "      <td>NaN</td>\n",
       "      <td>-9.648262</td>\n",
       "      <td>-3.431259</td>\n",
       "      <td>-6.078819</td>\n",
       "    </tr>\n",
       "    <tr>\n",
       "      <th>1</th>\n",
       "      <td>selfie_mshah_0001648.jpg_im_skeleton.jpg</td>\n",
       "      <td>53.091011</td>\n",
       "      <td>12.870911</td>\n",
       "      <td>208.733215</td>\n",
       "      <td>216.841751</td>\n",
       "      <td>NaN</td>\n",
       "      <td>-0.098442</td>\n",
       "      <td>-7.082375</td>\n",
       "      <td>-13.808197</td>\n",
       "    </tr>\n",
       "    <tr>\n",
       "      <th>2</th>\n",
       "      <td>selfie_tag_22327052554_d12e2c56bc_c.jpg_im_ske...</td>\n",
       "      <td>148.288559</td>\n",
       "      <td>124.413925</td>\n",
       "      <td>210.506119</td>\n",
       "      <td>214.626694</td>\n",
       "      <td>NaN</td>\n",
       "      <td>8.638893</td>\n",
       "      <td>4.630257</td>\n",
       "      <td>-3.675873</td>\n",
       "    </tr>\n",
       "    <tr>\n",
       "      <th>3</th>\n",
       "      <td>selfie_mshah_0018411.jpg_im_skeleton.jpg</td>\n",
       "      <td>33.179024</td>\n",
       "      <td>63.901459</td>\n",
       "      <td>154.551422</td>\n",
       "      <td>237.846588</td>\n",
       "      <td>NaN</td>\n",
       "      <td>-3.005219</td>\n",
       "      <td>-15.897232</td>\n",
       "      <td>0.924484</td>\n",
       "    </tr>\n",
       "    <tr>\n",
       "      <th>4</th>\n",
       "      <td>selfie_mshah_0018349.jpg_im_skeleton.jpg</td>\n",
       "      <td>110.925224</td>\n",
       "      <td>29.970924</td>\n",
       "      <td>243.742859</td>\n",
       "      <td>227.320526</td>\n",
       "      <td>NaN</td>\n",
       "      <td>-1.087578</td>\n",
       "      <td>0.386696</td>\n",
       "      <td>-13.165344</td>\n",
       "    </tr>\n",
       "  </tbody>\n",
       "</table>\n",
       "</div>"
      ],
      "text/plain": [
       "                                            filename       x_min       y_min  \\\n",
       "0  google_selfie_face_170616_000001.jpg_im_skelet...   69.812607    4.751129   \n",
       "1           selfie_mshah_0001648.jpg_im_skeleton.jpg   53.091011   12.870911   \n",
       "2  selfie_tag_22327052554_d12e2c56bc_c.jpg_im_ske...  148.288559  124.413925   \n",
       "3           selfie_mshah_0018411.jpg_im_skeleton.jpg   33.179024   63.901459   \n",
       "4           selfie_mshah_0018349.jpg_im_skeleton.jpg  110.925224   29.970924   \n",
       "\n",
       "        x_max       y_max  confidence_score       yaw      pitch       roll  \n",
       "0  162.124390  135.267654               NaN -9.648262  -3.431259  -6.078819  \n",
       "1  208.733215  216.841751               NaN -0.098442  -7.082375 -13.808197  \n",
       "2  210.506119  214.626694               NaN  8.638893   4.630257  -3.675873  \n",
       "3  154.551422  237.846588               NaN -3.005219 -15.897232   0.924484  \n",
       "4  243.742859  227.320526               NaN -1.087578   0.386696 -13.165344  "
      ]
     },
     "execution_count": 7,
     "metadata": {},
     "output_type": "execute_result"
    }
   ],
   "source": [
    "skel_ypr_df.head()"
   ]
  },
  {
   "cell_type": "code",
   "execution_count": 8,
   "metadata": {},
   "outputs": [
    {
     "data": {
      "text/plain": [
       "array(['google_selfie_face_170616_000001.jpg_im_skeleton.jpg',\n",
       "       'selfie_mshah_0001648.jpg_im_skeleton.jpg',\n",
       "       'selfie_tag_22327052554_d12e2c56bc_c.jpg_im_skeleton.jpg',\n",
       "       'selfie_mshah_0018411.jpg_im_skeleton.jpg',\n",
       "       'selfie_mshah_0018349.jpg_im_skeleton.jpg'], dtype=object)"
      ]
     },
     "execution_count": 8,
     "metadata": {},
     "output_type": "execute_result"
    }
   ],
   "source": [
    "skel_ypr_df.filename.values[:5]"
   ]
  },
  {
   "cell_type": "code",
   "execution_count": 9,
   "metadata": {},
   "outputs": [],
   "source": [
    "dlib_bb_cols = ['left','top','right','bottom']\n",
    "dlib_pts_cols = [l+'_'+str(i) for i in range(1,69) for l in ('x','y') ]\n",
    "dlib_cols = dlib_bb_cols+dlib_pts_cols\n"
   ]
  },
  {
   "cell_type": "code",
   "execution_count": 10,
   "metadata": {},
   "outputs": [
    {
     "data": {
      "text/plain": [
       "1790"
      ]
     },
     "execution_count": 10,
     "metadata": {},
     "output_type": "execute_result"
    }
   ],
   "source": [
    "dlib_path = pathlib.Path(dlib_sep_files_base_path+class_name) \n",
    "\n",
    "dlib_files = list(dlib_path.glob(\"**/*.txt\"))\n",
    "\n",
    "len(dlib_files)"
   ]
  },
  {
   "cell_type": "code",
   "execution_count": 11,
   "metadata": {},
   "outputs": [],
   "source": [
    "dlib_info_df = pd.DataFrame(index=np.arange(0, len(dlib_files)), columns= ['im_name'] + dlib_cols)\n",
    "\n",
    "for i,dlib_file in enumerate(dlib_files):\n",
    "    with open(dlib_file) as f:\n",
    "        nums = list(map(int,f.read().strip().split(' ')))\n",
    "        \n",
    "    im_name = os.path.splitext(os.path.split(str(dlib_file))[1])[0] +'.jpg'\n",
    "    dlib_info_df.loc[i] = [im_name] + nums"
   ]
  },
  {
   "cell_type": "code",
   "execution_count": 12,
   "metadata": {},
   "outputs": [
    {
     "data": {
      "text/plain": [
       "(1790, 141)"
      ]
     },
     "execution_count": 12,
     "metadata": {},
     "output_type": "execute_result"
    }
   ],
   "source": [
    "dlib_info_df.shape"
   ]
  },
  {
   "cell_type": "code",
   "execution_count": 13,
   "metadata": {},
   "outputs": [],
   "source": [
    "skel_ypr_df.filename.replace('_im_skeleton.jpg','', inplace = True, regex = True)"
   ]
  },
  {
   "cell_type": "code",
   "execution_count": 14,
   "metadata": {},
   "outputs": [
    {
     "data": {
      "text/html": [
       "<div>\n",
       "<style scoped>\n",
       "    .dataframe tbody tr th:only-of-type {\n",
       "        vertical-align: middle;\n",
       "    }\n",
       "\n",
       "    .dataframe tbody tr th {\n",
       "        vertical-align: top;\n",
       "    }\n",
       "\n",
       "    .dataframe thead th {\n",
       "        text-align: right;\n",
       "    }\n",
       "</style>\n",
       "<table border=\"1\" class=\"dataframe\">\n",
       "  <thead>\n",
       "    <tr style=\"text-align: right;\">\n",
       "      <th></th>\n",
       "      <th>filename</th>\n",
       "      <th>x_min</th>\n",
       "      <th>y_min</th>\n",
       "      <th>x_max</th>\n",
       "      <th>y_max</th>\n",
       "      <th>confidence_score</th>\n",
       "      <th>yaw</th>\n",
       "      <th>pitch</th>\n",
       "      <th>roll</th>\n",
       "    </tr>\n",
       "  </thead>\n",
       "  <tbody>\n",
       "    <tr>\n",
       "      <th>0</th>\n",
       "      <td>google_selfie_face_170616_000001.jpg</td>\n",
       "      <td>69.812607</td>\n",
       "      <td>4.751129</td>\n",
       "      <td>162.124390</td>\n",
       "      <td>135.267654</td>\n",
       "      <td>NaN</td>\n",
       "      <td>-9.648262</td>\n",
       "      <td>-3.431259</td>\n",
       "      <td>-6.078819</td>\n",
       "    </tr>\n",
       "    <tr>\n",
       "      <th>1</th>\n",
       "      <td>selfie_mshah_0001648.jpg</td>\n",
       "      <td>53.091011</td>\n",
       "      <td>12.870911</td>\n",
       "      <td>208.733215</td>\n",
       "      <td>216.841751</td>\n",
       "      <td>NaN</td>\n",
       "      <td>-0.098442</td>\n",
       "      <td>-7.082375</td>\n",
       "      <td>-13.808197</td>\n",
       "    </tr>\n",
       "    <tr>\n",
       "      <th>2</th>\n",
       "      <td>selfie_tag_22327052554_d12e2c56bc_c.jpg</td>\n",
       "      <td>148.288559</td>\n",
       "      <td>124.413925</td>\n",
       "      <td>210.506119</td>\n",
       "      <td>214.626694</td>\n",
       "      <td>NaN</td>\n",
       "      <td>8.638893</td>\n",
       "      <td>4.630257</td>\n",
       "      <td>-3.675873</td>\n",
       "    </tr>\n",
       "    <tr>\n",
       "      <th>3</th>\n",
       "      <td>selfie_mshah_0018411.jpg</td>\n",
       "      <td>33.179024</td>\n",
       "      <td>63.901459</td>\n",
       "      <td>154.551422</td>\n",
       "      <td>237.846588</td>\n",
       "      <td>NaN</td>\n",
       "      <td>-3.005219</td>\n",
       "      <td>-15.897232</td>\n",
       "      <td>0.924484</td>\n",
       "    </tr>\n",
       "    <tr>\n",
       "      <th>4</th>\n",
       "      <td>selfie_mshah_0018349.jpg</td>\n",
       "      <td>110.925224</td>\n",
       "      <td>29.970924</td>\n",
       "      <td>243.742859</td>\n",
       "      <td>227.320526</td>\n",
       "      <td>NaN</td>\n",
       "      <td>-1.087578</td>\n",
       "      <td>0.386696</td>\n",
       "      <td>-13.165344</td>\n",
       "    </tr>\n",
       "  </tbody>\n",
       "</table>\n",
       "</div>"
      ],
      "text/plain": [
       "                                  filename       x_min       y_min  \\\n",
       "0     google_selfie_face_170616_000001.jpg   69.812607    4.751129   \n",
       "1                 selfie_mshah_0001648.jpg   53.091011   12.870911   \n",
       "2  selfie_tag_22327052554_d12e2c56bc_c.jpg  148.288559  124.413925   \n",
       "3                 selfie_mshah_0018411.jpg   33.179024   63.901459   \n",
       "4                 selfie_mshah_0018349.jpg  110.925224   29.970924   \n",
       "\n",
       "        x_max       y_max  confidence_score       yaw      pitch       roll  \n",
       "0  162.124390  135.267654               NaN -9.648262  -3.431259  -6.078819  \n",
       "1  208.733215  216.841751               NaN -0.098442  -7.082375 -13.808197  \n",
       "2  210.506119  214.626694               NaN  8.638893   4.630257  -3.675873  \n",
       "3  154.551422  237.846588               NaN -3.005219 -15.897232   0.924484  \n",
       "4  243.742859  227.320526               NaN -1.087578   0.386696 -13.165344  "
      ]
     },
     "execution_count": 14,
     "metadata": {},
     "output_type": "execute_result"
    }
   ],
   "source": [
    "skel_ypr_df.head()"
   ]
  },
  {
   "cell_type": "code",
   "execution_count": 15,
   "metadata": {},
   "outputs": [],
   "source": [
    "skel_ypr_df = skel_ypr_df.rename(columns={'filename':'im_name'})"
   ]
  },
  {
   "cell_type": "code",
   "execution_count": 16,
   "metadata": {},
   "outputs": [
    {
     "data": {
      "text/html": [
       "<div>\n",
       "<style scoped>\n",
       "    .dataframe tbody tr th:only-of-type {\n",
       "        vertical-align: middle;\n",
       "    }\n",
       "\n",
       "    .dataframe tbody tr th {\n",
       "        vertical-align: top;\n",
       "    }\n",
       "\n",
       "    .dataframe thead th {\n",
       "        text-align: right;\n",
       "    }\n",
       "</style>\n",
       "<table border=\"1\" class=\"dataframe\">\n",
       "  <thead>\n",
       "    <tr style=\"text-align: right;\">\n",
       "      <th></th>\n",
       "      <th>im_name</th>\n",
       "      <th>x_min</th>\n",
       "      <th>y_min</th>\n",
       "      <th>x_max</th>\n",
       "      <th>y_max</th>\n",
       "      <th>confidence_score</th>\n",
       "      <th>yaw</th>\n",
       "      <th>pitch</th>\n",
       "      <th>roll</th>\n",
       "    </tr>\n",
       "  </thead>\n",
       "  <tbody>\n",
       "    <tr>\n",
       "      <th>0</th>\n",
       "      <td>google_selfie_face_170616_000001.jpg</td>\n",
       "      <td>69.812607</td>\n",
       "      <td>4.751129</td>\n",
       "      <td>162.124390</td>\n",
       "      <td>135.267654</td>\n",
       "      <td>NaN</td>\n",
       "      <td>-9.648262</td>\n",
       "      <td>-3.431259</td>\n",
       "      <td>-6.078819</td>\n",
       "    </tr>\n",
       "    <tr>\n",
       "      <th>1</th>\n",
       "      <td>selfie_mshah_0001648.jpg</td>\n",
       "      <td>53.091011</td>\n",
       "      <td>12.870911</td>\n",
       "      <td>208.733215</td>\n",
       "      <td>216.841751</td>\n",
       "      <td>NaN</td>\n",
       "      <td>-0.098442</td>\n",
       "      <td>-7.082375</td>\n",
       "      <td>-13.808197</td>\n",
       "    </tr>\n",
       "    <tr>\n",
       "      <th>2</th>\n",
       "      <td>selfie_tag_22327052554_d12e2c56bc_c.jpg</td>\n",
       "      <td>148.288559</td>\n",
       "      <td>124.413925</td>\n",
       "      <td>210.506119</td>\n",
       "      <td>214.626694</td>\n",
       "      <td>NaN</td>\n",
       "      <td>8.638893</td>\n",
       "      <td>4.630257</td>\n",
       "      <td>-3.675873</td>\n",
       "    </tr>\n",
       "    <tr>\n",
       "      <th>3</th>\n",
       "      <td>selfie_mshah_0018411.jpg</td>\n",
       "      <td>33.179024</td>\n",
       "      <td>63.901459</td>\n",
       "      <td>154.551422</td>\n",
       "      <td>237.846588</td>\n",
       "      <td>NaN</td>\n",
       "      <td>-3.005219</td>\n",
       "      <td>-15.897232</td>\n",
       "      <td>0.924484</td>\n",
       "    </tr>\n",
       "    <tr>\n",
       "      <th>4</th>\n",
       "      <td>selfie_mshah_0018349.jpg</td>\n",
       "      <td>110.925224</td>\n",
       "      <td>29.970924</td>\n",
       "      <td>243.742859</td>\n",
       "      <td>227.320526</td>\n",
       "      <td>NaN</td>\n",
       "      <td>-1.087578</td>\n",
       "      <td>0.386696</td>\n",
       "      <td>-13.165344</td>\n",
       "    </tr>\n",
       "  </tbody>\n",
       "</table>\n",
       "</div>"
      ],
      "text/plain": [
       "                                   im_name       x_min       y_min  \\\n",
       "0     google_selfie_face_170616_000001.jpg   69.812607    4.751129   \n",
       "1                 selfie_mshah_0001648.jpg   53.091011   12.870911   \n",
       "2  selfie_tag_22327052554_d12e2c56bc_c.jpg  148.288559  124.413925   \n",
       "3                 selfie_mshah_0018411.jpg   33.179024   63.901459   \n",
       "4                 selfie_mshah_0018349.jpg  110.925224   29.970924   \n",
       "\n",
       "        x_max       y_max  confidence_score       yaw      pitch       roll  \n",
       "0  162.124390  135.267654               NaN -9.648262  -3.431259  -6.078819  \n",
       "1  208.733215  216.841751               NaN -0.098442  -7.082375 -13.808197  \n",
       "2  210.506119  214.626694               NaN  8.638893   4.630257  -3.675873  \n",
       "3  154.551422  237.846588               NaN -3.005219 -15.897232   0.924484  \n",
       "4  243.742859  227.320526               NaN -1.087578   0.386696 -13.165344  "
      ]
     },
     "execution_count": 16,
     "metadata": {},
     "output_type": "execute_result"
    }
   ],
   "source": [
    "skel_ypr_df.head()"
   ]
  },
  {
   "cell_type": "code",
   "execution_count": 17,
   "metadata": {},
   "outputs": [],
   "source": [
    "im_name_ypr_dlib = pd.merge(skel_ypr_df, dlib_info_df, on = 'im_name', how='inner')"
   ]
  },
  {
   "cell_type": "code",
   "execution_count": 18,
   "metadata": {},
   "outputs": [
    {
     "data": {
      "text/plain": [
       "(1788, 149)"
      ]
     },
     "execution_count": 18,
     "metadata": {},
     "output_type": "execute_result"
    }
   ],
   "source": [
    "im_name_ypr_dlib.shape"
   ]
  },
  {
   "cell_type": "code",
   "execution_count": 19,
   "metadata": {},
   "outputs": [
    {
     "data": {
      "text/html": [
       "<div>\n",
       "<style scoped>\n",
       "    .dataframe tbody tr th:only-of-type {\n",
       "        vertical-align: middle;\n",
       "    }\n",
       "\n",
       "    .dataframe tbody tr th {\n",
       "        vertical-align: top;\n",
       "    }\n",
       "\n",
       "    .dataframe thead th {\n",
       "        text-align: right;\n",
       "    }\n",
       "</style>\n",
       "<table border=\"1\" class=\"dataframe\">\n",
       "  <thead>\n",
       "    <tr style=\"text-align: right;\">\n",
       "      <th></th>\n",
       "      <th>im_name</th>\n",
       "      <th>x_min</th>\n",
       "      <th>y_min</th>\n",
       "      <th>x_max</th>\n",
       "      <th>y_max</th>\n",
       "      <th>confidence_score</th>\n",
       "      <th>yaw</th>\n",
       "      <th>pitch</th>\n",
       "      <th>roll</th>\n",
       "      <th>left</th>\n",
       "      <th>...</th>\n",
       "      <th>x_64</th>\n",
       "      <th>y_64</th>\n",
       "      <th>x_65</th>\n",
       "      <th>y_65</th>\n",
       "      <th>x_66</th>\n",
       "      <th>y_66</th>\n",
       "      <th>x_67</th>\n",
       "      <th>y_67</th>\n",
       "      <th>x_68</th>\n",
       "      <th>y_68</th>\n",
       "    </tr>\n",
       "  </thead>\n",
       "  <tbody>\n",
       "    <tr>\n",
       "      <th>0</th>\n",
       "      <td>google_selfie_face_170616_000001.jpg</td>\n",
       "      <td>69.812607</td>\n",
       "      <td>4.751129</td>\n",
       "      <td>162.124390</td>\n",
       "      <td>135.267654</td>\n",
       "      <td>NaN</td>\n",
       "      <td>-9.648262</td>\n",
       "      <td>-3.431259</td>\n",
       "      <td>-6.078819</td>\n",
       "      <td>46</td>\n",
       "      <td>...</td>\n",
       "      <td>98</td>\n",
       "      <td>78</td>\n",
       "      <td>104</td>\n",
       "      <td>76</td>\n",
       "      <td>98</td>\n",
       "      <td>79</td>\n",
       "      <td>96</td>\n",
       "      <td>79</td>\n",
       "      <td>92</td>\n",
       "      <td>80</td>\n",
       "    </tr>\n",
       "    <tr>\n",
       "      <th>1</th>\n",
       "      <td>selfie_mshah_0001648.jpg</td>\n",
       "      <td>53.091011</td>\n",
       "      <td>12.870911</td>\n",
       "      <td>208.733215</td>\n",
       "      <td>216.841751</td>\n",
       "      <td>NaN</td>\n",
       "      <td>-0.098442</td>\n",
       "      <td>-7.082375</td>\n",
       "      <td>-13.808197</td>\n",
       "      <td>38</td>\n",
       "      <td>...</td>\n",
       "      <td>112</td>\n",
       "      <td>122</td>\n",
       "      <td>130</td>\n",
       "      <td>117</td>\n",
       "      <td>115</td>\n",
       "      <td>129</td>\n",
       "      <td>108</td>\n",
       "      <td>132</td>\n",
       "      <td>101</td>\n",
       "      <td>133</td>\n",
       "    </tr>\n",
       "    <tr>\n",
       "      <th>2</th>\n",
       "      <td>selfie_tag_22327052554_d12e2c56bc_c.jpg</td>\n",
       "      <td>148.288559</td>\n",
       "      <td>124.413925</td>\n",
       "      <td>210.506119</td>\n",
       "      <td>214.626694</td>\n",
       "      <td>NaN</td>\n",
       "      <td>8.638893</td>\n",
       "      <td>4.630257</td>\n",
       "      <td>-3.675873</td>\n",
       "      <td>106</td>\n",
       "      <td>...</td>\n",
       "      <td>136</td>\n",
       "      <td>140</td>\n",
       "      <td>140</td>\n",
       "      <td>141</td>\n",
       "      <td>136</td>\n",
       "      <td>140</td>\n",
       "      <td>134</td>\n",
       "      <td>140</td>\n",
       "      <td>131</td>\n",
       "      <td>140</td>\n",
       "    </tr>\n",
       "    <tr>\n",
       "      <th>3</th>\n",
       "      <td>selfie_mshah_0018411.jpg</td>\n",
       "      <td>33.179024</td>\n",
       "      <td>63.901459</td>\n",
       "      <td>154.551422</td>\n",
       "      <td>237.846588</td>\n",
       "      <td>NaN</td>\n",
       "      <td>-3.005219</td>\n",
       "      <td>-15.897232</td>\n",
       "      <td>0.924484</td>\n",
       "      <td>26</td>\n",
       "      <td>...</td>\n",
       "      <td>79</td>\n",
       "      <td>144</td>\n",
       "      <td>91</td>\n",
       "      <td>142</td>\n",
       "      <td>79</td>\n",
       "      <td>148</td>\n",
       "      <td>74</td>\n",
       "      <td>149</td>\n",
       "      <td>68</td>\n",
       "      <td>148</td>\n",
       "    </tr>\n",
       "    <tr>\n",
       "      <th>4</th>\n",
       "      <td>selfie_mshah_0018349.jpg</td>\n",
       "      <td>110.925224</td>\n",
       "      <td>29.970924</td>\n",
       "      <td>243.742859</td>\n",
       "      <td>227.320526</td>\n",
       "      <td>NaN</td>\n",
       "      <td>-1.087578</td>\n",
       "      <td>0.386696</td>\n",
       "      <td>-13.165344</td>\n",
       "      <td>79</td>\n",
       "      <td>...</td>\n",
       "      <td>144</td>\n",
       "      <td>132</td>\n",
       "      <td>157</td>\n",
       "      <td>130</td>\n",
       "      <td>145</td>\n",
       "      <td>134</td>\n",
       "      <td>140</td>\n",
       "      <td>135</td>\n",
       "      <td>135</td>\n",
       "      <td>135</td>\n",
       "    </tr>\n",
       "  </tbody>\n",
       "</table>\n",
       "<p>5 rows × 149 columns</p>\n",
       "</div>"
      ],
      "text/plain": [
       "                                   im_name       x_min       y_min  \\\n",
       "0     google_selfie_face_170616_000001.jpg   69.812607    4.751129   \n",
       "1                 selfie_mshah_0001648.jpg   53.091011   12.870911   \n",
       "2  selfie_tag_22327052554_d12e2c56bc_c.jpg  148.288559  124.413925   \n",
       "3                 selfie_mshah_0018411.jpg   33.179024   63.901459   \n",
       "4                 selfie_mshah_0018349.jpg  110.925224   29.970924   \n",
       "\n",
       "        x_max       y_max  confidence_score       yaw      pitch       roll  \\\n",
       "0  162.124390  135.267654               NaN -9.648262  -3.431259  -6.078819   \n",
       "1  208.733215  216.841751               NaN -0.098442  -7.082375 -13.808197   \n",
       "2  210.506119  214.626694               NaN  8.638893   4.630257  -3.675873   \n",
       "3  154.551422  237.846588               NaN -3.005219 -15.897232   0.924484   \n",
       "4  243.742859  227.320526               NaN -1.087578   0.386696 -13.165344   \n",
       "\n",
       "  left  ... x_64 y_64 x_65 y_65 x_66 y_66 x_67 y_67 x_68 y_68  \n",
       "0   46  ...   98   78  104   76   98   79   96   79   92   80  \n",
       "1   38  ...  112  122  130  117  115  129  108  132  101  133  \n",
       "2  106  ...  136  140  140  141  136  140  134  140  131  140  \n",
       "3   26  ...   79  144   91  142   79  148   74  149   68  148  \n",
       "4   79  ...  144  132  157  130  145  134  140  135  135  135  \n",
       "\n",
       "[5 rows x 149 columns]"
      ]
     },
     "execution_count": 19,
     "metadata": {},
     "output_type": "execute_result"
    }
   ],
   "source": [
    "im_name_ypr_dlib.head()"
   ]
  },
  {
   "cell_type": "code",
   "execution_count": 20,
   "metadata": {},
   "outputs": [],
   "source": [
    "im_name_ypr_dlib['skeleton'] = im_name_ypr_dlib['im_name'].replace('.jpg','.jpg_skeleton.jpg', inplace = False, regex = True)"
   ]
  },
  {
   "cell_type": "code",
   "execution_count": 21,
   "metadata": {},
   "outputs": [
    {
     "data": {
      "text/plain": [
       "array(['google_selfie_face_170616_000001.jpg_skeleton.jpg',\n",
       "       'selfie_mshah_0001648.jpg_skeleton.jpg',\n",
       "       'selfie_tag_22327052554_d12e2c56bc_c.jpg_skeleton.jpg',\n",
       "       'selfie_mshah_0018411.jpg_skeleton.jpg',\n",
       "       'selfie_mshah_0018349.jpg_skeleton.jpg'], dtype=object)"
      ]
     },
     "execution_count": 21,
     "metadata": {},
     "output_type": "execute_result"
    }
   ],
   "source": [
    "im_name_ypr_dlib.skeleton.values[:5]"
   ]
  },
  {
   "cell_type": "code",
   "execution_count": 22,
   "metadata": {},
   "outputs": [],
   "source": [
    "im_name_ypr_dlib['im_skeleton'] = im_name_ypr_dlib['im_name'].replace('.jpg','.jpg_im_skeleton.jpg', inplace = False, regex = True)"
   ]
  },
  {
   "cell_type": "code",
   "execution_count": 23,
   "metadata": {},
   "outputs": [
    {
     "data": {
      "text/plain": [
       "array(['google_selfie_face_170616_000001.jpg_im_skeleton.jpg',\n",
       "       'selfie_mshah_0001648.jpg_im_skeleton.jpg',\n",
       "       'selfie_tag_22327052554_d12e2c56bc_c.jpg_im_skeleton.jpg',\n",
       "       'selfie_mshah_0018411.jpg_im_skeleton.jpg',\n",
       "       'selfie_mshah_0018349.jpg_im_skeleton.jpg'], dtype=object)"
      ]
     },
     "execution_count": 23,
     "metadata": {},
     "output_type": "execute_result"
    }
   ],
   "source": [
    "im_name_ypr_dlib.im_skeleton.values[:5]"
   ]
  },
  {
   "cell_type": "code",
   "execution_count": 24,
   "metadata": {},
   "outputs": [],
   "source": [
    "im_name_ypr_dlib['im_masked'] = im_name_ypr_dlib['im_name'].replace('.jpg','.jpg_masked.jpg', inplace = False, regex = True)"
   ]
  },
  {
   "cell_type": "code",
   "execution_count": 25,
   "metadata": {},
   "outputs": [
    {
     "data": {
      "text/plain": [
       "array(['google_selfie_face_170616_000001.jpg_masked.jpg',\n",
       "       'selfie_mshah_0001648.jpg_masked.jpg',\n",
       "       'selfie_tag_22327052554_d12e2c56bc_c.jpg_masked.jpg',\n",
       "       'selfie_mshah_0018411.jpg_masked.jpg',\n",
       "       'selfie_mshah_0018349.jpg_masked.jpg'], dtype=object)"
      ]
     },
     "execution_count": 25,
     "metadata": {},
     "output_type": "execute_result"
    }
   ],
   "source": [
    "im_name_ypr_dlib.im_masked.values[:5]"
   ]
  },
  {
   "cell_type": "code",
   "execution_count": 26,
   "metadata": {},
   "outputs": [
    {
     "data": {
      "text/html": [
       "<div>\n",
       "<style scoped>\n",
       "    .dataframe tbody tr th:only-of-type {\n",
       "        vertical-align: middle;\n",
       "    }\n",
       "\n",
       "    .dataframe tbody tr th {\n",
       "        vertical-align: top;\n",
       "    }\n",
       "\n",
       "    .dataframe thead th {\n",
       "        text-align: right;\n",
       "    }\n",
       "</style>\n",
       "<table border=\"1\" class=\"dataframe\">\n",
       "  <thead>\n",
       "    <tr style=\"text-align: right;\">\n",
       "      <th></th>\n",
       "      <th>im_name</th>\n",
       "      <th>x_min</th>\n",
       "      <th>y_min</th>\n",
       "      <th>x_max</th>\n",
       "      <th>y_max</th>\n",
       "      <th>confidence_score</th>\n",
       "      <th>yaw</th>\n",
       "      <th>pitch</th>\n",
       "      <th>roll</th>\n",
       "      <th>left</th>\n",
       "      <th>...</th>\n",
       "      <th>y_65</th>\n",
       "      <th>x_66</th>\n",
       "      <th>y_66</th>\n",
       "      <th>x_67</th>\n",
       "      <th>y_67</th>\n",
       "      <th>x_68</th>\n",
       "      <th>y_68</th>\n",
       "      <th>skeleton</th>\n",
       "      <th>im_skeleton</th>\n",
       "      <th>im_masked</th>\n",
       "    </tr>\n",
       "  </thead>\n",
       "  <tbody>\n",
       "    <tr>\n",
       "      <th>0</th>\n",
       "      <td>google_selfie_face_170616_000001.jpg</td>\n",
       "      <td>69.812607</td>\n",
       "      <td>4.751129</td>\n",
       "      <td>162.124390</td>\n",
       "      <td>135.267654</td>\n",
       "      <td>NaN</td>\n",
       "      <td>-9.648262</td>\n",
       "      <td>-3.431259</td>\n",
       "      <td>-6.078819</td>\n",
       "      <td>46</td>\n",
       "      <td>...</td>\n",
       "      <td>76</td>\n",
       "      <td>98</td>\n",
       "      <td>79</td>\n",
       "      <td>96</td>\n",
       "      <td>79</td>\n",
       "      <td>92</td>\n",
       "      <td>80</td>\n",
       "      <td>google_selfie_face_170616_000001.jpg_skeleton.jpg</td>\n",
       "      <td>google_selfie_face_170616_000001.jpg_im_skelet...</td>\n",
       "      <td>google_selfie_face_170616_000001.jpg_masked.jpg</td>\n",
       "    </tr>\n",
       "    <tr>\n",
       "      <th>1</th>\n",
       "      <td>selfie_mshah_0001648.jpg</td>\n",
       "      <td>53.091011</td>\n",
       "      <td>12.870911</td>\n",
       "      <td>208.733215</td>\n",
       "      <td>216.841751</td>\n",
       "      <td>NaN</td>\n",
       "      <td>-0.098442</td>\n",
       "      <td>-7.082375</td>\n",
       "      <td>-13.808197</td>\n",
       "      <td>38</td>\n",
       "      <td>...</td>\n",
       "      <td>117</td>\n",
       "      <td>115</td>\n",
       "      <td>129</td>\n",
       "      <td>108</td>\n",
       "      <td>132</td>\n",
       "      <td>101</td>\n",
       "      <td>133</td>\n",
       "      <td>selfie_mshah_0001648.jpg_skeleton.jpg</td>\n",
       "      <td>selfie_mshah_0001648.jpg_im_skeleton.jpg</td>\n",
       "      <td>selfie_mshah_0001648.jpg_masked.jpg</td>\n",
       "    </tr>\n",
       "    <tr>\n",
       "      <th>2</th>\n",
       "      <td>selfie_tag_22327052554_d12e2c56bc_c.jpg</td>\n",
       "      <td>148.288559</td>\n",
       "      <td>124.413925</td>\n",
       "      <td>210.506119</td>\n",
       "      <td>214.626694</td>\n",
       "      <td>NaN</td>\n",
       "      <td>8.638893</td>\n",
       "      <td>4.630257</td>\n",
       "      <td>-3.675873</td>\n",
       "      <td>106</td>\n",
       "      <td>...</td>\n",
       "      <td>141</td>\n",
       "      <td>136</td>\n",
       "      <td>140</td>\n",
       "      <td>134</td>\n",
       "      <td>140</td>\n",
       "      <td>131</td>\n",
       "      <td>140</td>\n",
       "      <td>selfie_tag_22327052554_d12e2c56bc_c.jpg_skelet...</td>\n",
       "      <td>selfie_tag_22327052554_d12e2c56bc_c.jpg_im_ske...</td>\n",
       "      <td>selfie_tag_22327052554_d12e2c56bc_c.jpg_masked...</td>\n",
       "    </tr>\n",
       "    <tr>\n",
       "      <th>3</th>\n",
       "      <td>selfie_mshah_0018411.jpg</td>\n",
       "      <td>33.179024</td>\n",
       "      <td>63.901459</td>\n",
       "      <td>154.551422</td>\n",
       "      <td>237.846588</td>\n",
       "      <td>NaN</td>\n",
       "      <td>-3.005219</td>\n",
       "      <td>-15.897232</td>\n",
       "      <td>0.924484</td>\n",
       "      <td>26</td>\n",
       "      <td>...</td>\n",
       "      <td>142</td>\n",
       "      <td>79</td>\n",
       "      <td>148</td>\n",
       "      <td>74</td>\n",
       "      <td>149</td>\n",
       "      <td>68</td>\n",
       "      <td>148</td>\n",
       "      <td>selfie_mshah_0018411.jpg_skeleton.jpg</td>\n",
       "      <td>selfie_mshah_0018411.jpg_im_skeleton.jpg</td>\n",
       "      <td>selfie_mshah_0018411.jpg_masked.jpg</td>\n",
       "    </tr>\n",
       "    <tr>\n",
       "      <th>4</th>\n",
       "      <td>selfie_mshah_0018349.jpg</td>\n",
       "      <td>110.925224</td>\n",
       "      <td>29.970924</td>\n",
       "      <td>243.742859</td>\n",
       "      <td>227.320526</td>\n",
       "      <td>NaN</td>\n",
       "      <td>-1.087578</td>\n",
       "      <td>0.386696</td>\n",
       "      <td>-13.165344</td>\n",
       "      <td>79</td>\n",
       "      <td>...</td>\n",
       "      <td>130</td>\n",
       "      <td>145</td>\n",
       "      <td>134</td>\n",
       "      <td>140</td>\n",
       "      <td>135</td>\n",
       "      <td>135</td>\n",
       "      <td>135</td>\n",
       "      <td>selfie_mshah_0018349.jpg_skeleton.jpg</td>\n",
       "      <td>selfie_mshah_0018349.jpg_im_skeleton.jpg</td>\n",
       "      <td>selfie_mshah_0018349.jpg_masked.jpg</td>\n",
       "    </tr>\n",
       "  </tbody>\n",
       "</table>\n",
       "<p>5 rows × 152 columns</p>\n",
       "</div>"
      ],
      "text/plain": [
       "                                   im_name       x_min       y_min  \\\n",
       "0     google_selfie_face_170616_000001.jpg   69.812607    4.751129   \n",
       "1                 selfie_mshah_0001648.jpg   53.091011   12.870911   \n",
       "2  selfie_tag_22327052554_d12e2c56bc_c.jpg  148.288559  124.413925   \n",
       "3                 selfie_mshah_0018411.jpg   33.179024   63.901459   \n",
       "4                 selfie_mshah_0018349.jpg  110.925224   29.970924   \n",
       "\n",
       "        x_max       y_max  confidence_score       yaw      pitch       roll  \\\n",
       "0  162.124390  135.267654               NaN -9.648262  -3.431259  -6.078819   \n",
       "1  208.733215  216.841751               NaN -0.098442  -7.082375 -13.808197   \n",
       "2  210.506119  214.626694               NaN  8.638893   4.630257  -3.675873   \n",
       "3  154.551422  237.846588               NaN -3.005219 -15.897232   0.924484   \n",
       "4  243.742859  227.320526               NaN -1.087578   0.386696 -13.165344   \n",
       "\n",
       "  left  ... y_65 x_66 y_66 x_67 y_67 x_68 y_68  \\\n",
       "0   46  ...   76   98   79   96   79   92   80   \n",
       "1   38  ...  117  115  129  108  132  101  133   \n",
       "2  106  ...  141  136  140  134  140  131  140   \n",
       "3   26  ...  142   79  148   74  149   68  148   \n",
       "4   79  ...  130  145  134  140  135  135  135   \n",
       "\n",
       "                                            skeleton  \\\n",
       "0  google_selfie_face_170616_000001.jpg_skeleton.jpg   \n",
       "1              selfie_mshah_0001648.jpg_skeleton.jpg   \n",
       "2  selfie_tag_22327052554_d12e2c56bc_c.jpg_skelet...   \n",
       "3              selfie_mshah_0018411.jpg_skeleton.jpg   \n",
       "4              selfie_mshah_0018349.jpg_skeleton.jpg   \n",
       "\n",
       "                                         im_skeleton  \\\n",
       "0  google_selfie_face_170616_000001.jpg_im_skelet...   \n",
       "1           selfie_mshah_0001648.jpg_im_skeleton.jpg   \n",
       "2  selfie_tag_22327052554_d12e2c56bc_c.jpg_im_ske...   \n",
       "3           selfie_mshah_0018411.jpg_im_skeleton.jpg   \n",
       "4           selfie_mshah_0018349.jpg_im_skeleton.jpg   \n",
       "\n",
       "                                           im_masked  \n",
       "0    google_selfie_face_170616_000001.jpg_masked.jpg  \n",
       "1                selfie_mshah_0001648.jpg_masked.jpg  \n",
       "2  selfie_tag_22327052554_d12e2c56bc_c.jpg_masked...  \n",
       "3                selfie_mshah_0018411.jpg_masked.jpg  \n",
       "4                selfie_mshah_0018349.jpg_masked.jpg  \n",
       "\n",
       "[5 rows x 152 columns]"
      ]
     },
     "execution_count": 26,
     "metadata": {},
     "output_type": "execute_result"
    }
   ],
   "source": [
    "im_name_ypr_dlib.head()"
   ]
  },
  {
   "cell_type": "code",
   "execution_count": 27,
   "metadata": {},
   "outputs": [],
   "source": [
    "\n",
    "#skeleton_and_ypr.filename = skeleton_and_ypr.filename + '_im_skeleton.jpg'\n",
    "\n",
    "im_name_ypr_dlib.to_csv(dlib_sep_files_base_path+f'{class_name}.csv',\n",
    "                              columns = im_name_ypr_dlib.columns, \n",
    "                              header = im_name_ypr_dlib.columns,\n",
    "                              index = False)\n"
   ]
  },
  {
   "cell_type": "markdown",
   "metadata": {},
   "source": [
    "# visualize some sample face box (TODO: and fiducial points)"
   ]
  },
  {
   "cell_type": "code",
   "execution_count": 28,
   "metadata": {},
   "outputs": [],
   "source": [
    "# im_base_path = '/disks/data/paper_projects/selfie_detection/data/DS_224_all_features_no_duplicates/raw_image/'\n",
    "\n",
    "# sample_count = 10\n",
    "\n",
    "# idxs = np.random.randint(0,len(im_name_ypr_dlib.index),(sample_count))\n",
    "\n",
    "# for idx in idxs:\n",
    "#     row = im_name_ypr_dlib.iloc[idx]\n",
    "#     fname = row.im_name\n",
    "# #     yaw = row.yaw\n",
    "# #     pitch = row.pitch\n",
    "# #     roll = row.roll\n",
    "# #     x_min = row.x_min\n",
    "# #     x_max = row.x_max\n",
    "# #     y_min = row.y_min\n",
    "# #     y_max = row.y_max\n",
    "#     left = row.left\n",
    "#     top = row.top\n",
    "#     right = row.right\n",
    "#     bottom = row.bottom\n",
    "    \n",
    "#     im = cv2.imread(im_base_path+class_name+'/'+fname)\n",
    "#     im = cv2.cvtColor(im,cv2.COLOR_BGR2RGB)\n",
    "    \n",
    "#     cv2.line(im, (int(left), int(top)), (int(right),int(top)),(0,0,255),3)\n",
    "#     cv2.line(im, (int(right), int(top)), (int(right),int(bottom)),(0,0,255),3)\n",
    "#     cv2.line(im, (int(right), int(bottom)), (int(left),int(bottom)),(0,0,255),3)\n",
    "#     cv2.line(im, (int(left), int(bottom)), (int(left),int(top)),(0,0,255),3)\n",
    "    \n",
    "#     #drawn_im = draw_axis(im, yaw, pitch, roll, tdx = (x_min + x_max) / 2, tdy= (y_min + y_max) / 2, size = bbox_height/2)\n",
    "    \n",
    "#     plt.imshow(im)\n",
    "#     plt.show()\n",
    "#     time.sleep(2)\n",
    "\n",
    "\n"
   ]
  },
  {
   "cell_type": "code",
   "execution_count": null,
   "metadata": {},
   "outputs": [],
   "source": []
  },
  {
   "cell_type": "code",
   "execution_count": null,
   "metadata": {},
   "outputs": [],
   "source": []
  },
  {
   "cell_type": "code",
   "execution_count": null,
   "metadata": {},
   "outputs": [],
   "source": []
  },
  {
   "cell_type": "code",
   "execution_count": null,
   "metadata": {},
   "outputs": [],
   "source": []
  },
  {
   "cell_type": "code",
   "execution_count": null,
   "metadata": {},
   "outputs": [],
   "source": []
  },
  {
   "cell_type": "code",
   "execution_count": null,
   "metadata": {},
   "outputs": [],
   "source": []
  },
  {
   "cell_type": "code",
   "execution_count": null,
   "metadata": {},
   "outputs": [],
   "source": []
  },
  {
   "cell_type": "code",
   "execution_count": null,
   "metadata": {},
   "outputs": [],
   "source": []
  },
  {
   "cell_type": "code",
   "execution_count": null,
   "metadata": {},
   "outputs": [],
   "source": [
    "\n"
   ]
  },
  {
   "cell_type": "code",
   "execution_count": null,
   "metadata": {},
   "outputs": [],
   "source": []
  },
  {
   "cell_type": "code",
   "execution_count": null,
   "metadata": {},
   "outputs": [],
   "source": []
  },
  {
   "cell_type": "code",
   "execution_count": null,
   "metadata": {},
   "outputs": [],
   "source": []
  },
  {
   "cell_type": "code",
   "execution_count": null,
   "metadata": {},
   "outputs": [],
   "source": []
  },
  {
   "cell_type": "code",
   "execution_count": null,
   "metadata": {},
   "outputs": [],
   "source": []
  },
  {
   "cell_type": "code",
   "execution_count": null,
   "metadata": {},
   "outputs": [],
   "source": []
  }
 ],
 "metadata": {
  "kernelspec": {
   "display_name": "Python 3",
   "language": "python",
   "name": "python3"
  },
  "language_info": {
   "codemirror_mode": {
    "name": "ipython",
    "version": 3
   },
   "file_extension": ".py",
   "mimetype": "text/x-python",
   "name": "python",
   "nbconvert_exporter": "python",
   "pygments_lexer": "ipython3",
   "version": "3.7.3"
  }
 },
 "nbformat": 4,
 "nbformat_minor": 2
}
