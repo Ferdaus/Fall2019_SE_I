{
 "cells": [
  {
   "cell_type": "code",
   "execution_count": 1,
   "metadata": {},
   "outputs": [],
   "source": [
    "from fastai.vision import *\n",
    "from sklearn.model_selection import StratifiedKFold\n",
    "from fastai.callbacks import *\n",
    "from fastai.tabular import *"
   ]
  },
  {
   "cell_type": "code",
   "execution_count": 2,
   "metadata": {},
   "outputs": [],
   "source": [
    "np.random.seed(4)\n",
    "\n",
    "\n",
    "\n",
    "\n"
   ]
  },
  {
   "cell_type": "code",
   "execution_count": 3,
   "metadata": {},
   "outputs": [],
   "source": [
    "all_images_YPR_dlib_csv_file_base_path = \\\n",
    "        '/disks/data/paper_projects/selfie_detection/data/DS_224_all_features_no_duplicates/CSVs/im_skel_im-skel_mask_dlib-images_ypr_dlib_pts/'\n",
    "\n",
    "testset_csv_save_path = '/disks/data/paper_projects/selfie_detection/data/DS_224_all_features_no_duplicates/CSVs/with_test_set/'"
   ]
  },
  {
   "cell_type": "code",
   "execution_count": 4,
   "metadata": {},
   "outputs": [],
   "source": [
    "class_names = ['selfie', 'non_selfie', 'mirror_selfie', 'non_mirror_selfie']\n",
    "\n",
    "#class_names = ['selfie', 'non_selfie']"
   ]
  },
  {
   "cell_type": "code",
   "execution_count": 5,
   "metadata": {},
   "outputs": [
    {
     "data": {
      "text/html": [
       "<div>\n",
       "<style scoped>\n",
       "    .dataframe tbody tr th:only-of-type {\n",
       "        vertical-align: middle;\n",
       "    }\n",
       "\n",
       "    .dataframe tbody tr th {\n",
       "        vertical-align: top;\n",
       "    }\n",
       "\n",
       "    .dataframe thead th {\n",
       "        text-align: right;\n",
       "    }\n",
       "</style>\n",
       "<table border=\"1\" class=\"dataframe\">\n",
       "  <thead>\n",
       "    <tr style=\"text-align: right;\">\n",
       "      <th></th>\n",
       "      <th>class_label</th>\n",
       "      <th>im_name</th>\n",
       "      <th>x_min</th>\n",
       "      <th>y_min</th>\n",
       "      <th>x_max</th>\n",
       "      <th>y_max</th>\n",
       "      <th>confidence_score</th>\n",
       "      <th>yaw</th>\n",
       "      <th>pitch</th>\n",
       "      <th>roll</th>\n",
       "      <th>...</th>\n",
       "      <th>y_67</th>\n",
       "      <th>x_68</th>\n",
       "      <th>y_68</th>\n",
       "      <th>skeleton</th>\n",
       "      <th>im_skeleton</th>\n",
       "      <th>im_masked</th>\n",
       "      <th>dlib</th>\n",
       "      <th>im_dlib</th>\n",
       "      <th>skel_dlib</th>\n",
       "      <th>im_skel_dlib</th>\n",
       "    </tr>\n",
       "  </thead>\n",
       "  <tbody>\n",
       "    <tr>\n",
       "      <th>0</th>\n",
       "      <td>non_mirror_selfie</td>\n",
       "      <td>34037497165_753a8f22e9_c.jpg</td>\n",
       "      <td>133.279892</td>\n",
       "      <td>29.287485</td>\n",
       "      <td>179.421066</td>\n",
       "      <td>84.647400</td>\n",
       "      <td>NaN</td>\n",
       "      <td>-16.768814</td>\n",
       "      <td>-20.375259</td>\n",
       "      <td>-2.652145</td>\n",
       "      <td>...</td>\n",
       "      <td>57</td>\n",
       "      <td>122</td>\n",
       "      <td>57</td>\n",
       "      <td>34037497165_753a8f22e9_c.jpg_skeleton.jpg</td>\n",
       "      <td>34037497165_753a8f22e9_c.jpg_im_skeleton.jpg</td>\n",
       "      <td>34037497165_753a8f22e9_c.jpg_masked.jpg</td>\n",
       "      <td>34037497165_753a8f22e9_c_dlib_only.jpg</td>\n",
       "      <td>34037497165_753a8f22e9_c_dlib.jpg</td>\n",
       "      <td>34037497165_753a8f22e9_c.jpg_skeleton_dlib.jpg</td>\n",
       "      <td>34037497165_753a8f22e9_c.jpg_im_skeleton_dlib.jpg</td>\n",
       "    </tr>\n",
       "    <tr>\n",
       "      <th>1</th>\n",
       "      <td>non_mirror_selfie</td>\n",
       "      <td>22934864204_b9337938d8_c.jpg</td>\n",
       "      <td>108.219429</td>\n",
       "      <td>49.803162</td>\n",
       "      <td>164.869629</td>\n",
       "      <td>118.680145</td>\n",
       "      <td>NaN</td>\n",
       "      <td>-10.305779</td>\n",
       "      <td>-25.460968</td>\n",
       "      <td>2.286850</td>\n",
       "      <td>...</td>\n",
       "      <td>80</td>\n",
       "      <td>100</td>\n",
       "      <td>80</td>\n",
       "      <td>22934864204_b9337938d8_c.jpg_skeleton.jpg</td>\n",
       "      <td>22934864204_b9337938d8_c.jpg_im_skeleton.jpg</td>\n",
       "      <td>22934864204_b9337938d8_c.jpg_masked.jpg</td>\n",
       "      <td>22934864204_b9337938d8_c_dlib_only.jpg</td>\n",
       "      <td>22934864204_b9337938d8_c_dlib.jpg</td>\n",
       "      <td>22934864204_b9337938d8_c.jpg_skeleton_dlib.jpg</td>\n",
       "      <td>22934864204_b9337938d8_c.jpg_im_skeleton_dlib.jpg</td>\n",
       "    </tr>\n",
       "    <tr>\n",
       "      <th>2</th>\n",
       "      <td>non_mirror_selfie</td>\n",
       "      <td>27540988553_ff93b68c1a_c.jpg</td>\n",
       "      <td>98.837723</td>\n",
       "      <td>34.895699</td>\n",
       "      <td>191.731400</td>\n",
       "      <td>139.520050</td>\n",
       "      <td>NaN</td>\n",
       "      <td>-24.857277</td>\n",
       "      <td>-6.494133</td>\n",
       "      <td>0.433289</td>\n",
       "      <td>...</td>\n",
       "      <td>84</td>\n",
       "      <td>121</td>\n",
       "      <td>84</td>\n",
       "      <td>27540988553_ff93b68c1a_c.jpg_skeleton.jpg</td>\n",
       "      <td>27540988553_ff93b68c1a_c.jpg_im_skeleton.jpg</td>\n",
       "      <td>27540988553_ff93b68c1a_c.jpg_masked.jpg</td>\n",
       "      <td>27540988553_ff93b68c1a_c_dlib_only.jpg</td>\n",
       "      <td>27540988553_ff93b68c1a_c_dlib.jpg</td>\n",
       "      <td>27540988553_ff93b68c1a_c.jpg_skeleton_dlib.jpg</td>\n",
       "      <td>27540988553_ff93b68c1a_c.jpg_im_skeleton_dlib.jpg</td>\n",
       "    </tr>\n",
       "    <tr>\n",
       "      <th>3</th>\n",
       "      <td>non_mirror_selfie</td>\n",
       "      <td>33880204342_a2ec399070_c.jpg</td>\n",
       "      <td>138.098938</td>\n",
       "      <td>59.103058</td>\n",
       "      <td>179.743134</td>\n",
       "      <td>106.467484</td>\n",
       "      <td>NaN</td>\n",
       "      <td>14.927979</td>\n",
       "      <td>-14.303543</td>\n",
       "      <td>26.582260</td>\n",
       "      <td>...</td>\n",
       "      <td>73</td>\n",
       "      <td>111</td>\n",
       "      <td>72</td>\n",
       "      <td>33880204342_a2ec399070_c.jpg_skeleton.jpg</td>\n",
       "      <td>33880204342_a2ec399070_c.jpg_im_skeleton.jpg</td>\n",
       "      <td>33880204342_a2ec399070_c.jpg_masked.jpg</td>\n",
       "      <td>33880204342_a2ec399070_c_dlib_only.jpg</td>\n",
       "      <td>33880204342_a2ec399070_c_dlib.jpg</td>\n",
       "      <td>33880204342_a2ec399070_c.jpg_skeleton_dlib.jpg</td>\n",
       "      <td>33880204342_a2ec399070_c.jpg_im_skeleton_dlib.jpg</td>\n",
       "    </tr>\n",
       "    <tr>\n",
       "      <th>4</th>\n",
       "      <td>non_mirror_selfie</td>\n",
       "      <td>26330164925_407599f41c_c.jpg</td>\n",
       "      <td>130.079346</td>\n",
       "      <td>47.824070</td>\n",
       "      <td>212.411896</td>\n",
       "      <td>126.606598</td>\n",
       "      <td>NaN</td>\n",
       "      <td>3.935005</td>\n",
       "      <td>-19.922783</td>\n",
       "      <td>13.808563</td>\n",
       "      <td>...</td>\n",
       "      <td>79</td>\n",
       "      <td>115</td>\n",
       "      <td>78</td>\n",
       "      <td>26330164925_407599f41c_c.jpg_skeleton.jpg</td>\n",
       "      <td>26330164925_407599f41c_c.jpg_im_skeleton.jpg</td>\n",
       "      <td>26330164925_407599f41c_c.jpg_masked.jpg</td>\n",
       "      <td>26330164925_407599f41c_c_dlib_only.jpg</td>\n",
       "      <td>26330164925_407599f41c_c_dlib.jpg</td>\n",
       "      <td>26330164925_407599f41c_c.jpg_skeleton_dlib.jpg</td>\n",
       "      <td>26330164925_407599f41c_c.jpg_im_skeleton_dlib.jpg</td>\n",
       "    </tr>\n",
       "  </tbody>\n",
       "</table>\n",
       "<p>5 rows × 157 columns</p>\n",
       "</div>"
      ],
      "text/plain": [
       "         class_label                       im_name       x_min      y_min  \\\n",
       "0  non_mirror_selfie  34037497165_753a8f22e9_c.jpg  133.279892  29.287485   \n",
       "1  non_mirror_selfie  22934864204_b9337938d8_c.jpg  108.219429  49.803162   \n",
       "2  non_mirror_selfie  27540988553_ff93b68c1a_c.jpg   98.837723  34.895699   \n",
       "3  non_mirror_selfie  33880204342_a2ec399070_c.jpg  138.098938  59.103058   \n",
       "4  non_mirror_selfie  26330164925_407599f41c_c.jpg  130.079346  47.824070   \n",
       "\n",
       "        x_max       y_max  confidence_score        yaw      pitch       roll  \\\n",
       "0  179.421066   84.647400               NaN -16.768814 -20.375259  -2.652145   \n",
       "1  164.869629  118.680145               NaN -10.305779 -25.460968   2.286850   \n",
       "2  191.731400  139.520050               NaN -24.857277  -6.494133   0.433289   \n",
       "3  179.743134  106.467484               NaN  14.927979 -14.303543  26.582260   \n",
       "4  212.411896  126.606598               NaN   3.935005 -19.922783  13.808563   \n",
       "\n",
       "   ...  y_67  x_68  y_68                                   skeleton  \\\n",
       "0  ...    57   122    57  34037497165_753a8f22e9_c.jpg_skeleton.jpg   \n",
       "1  ...    80   100    80  22934864204_b9337938d8_c.jpg_skeleton.jpg   \n",
       "2  ...    84   121    84  27540988553_ff93b68c1a_c.jpg_skeleton.jpg   \n",
       "3  ...    73   111    72  33880204342_a2ec399070_c.jpg_skeleton.jpg   \n",
       "4  ...    79   115    78  26330164925_407599f41c_c.jpg_skeleton.jpg   \n",
       "\n",
       "                                    im_skeleton  \\\n",
       "0  34037497165_753a8f22e9_c.jpg_im_skeleton.jpg   \n",
       "1  22934864204_b9337938d8_c.jpg_im_skeleton.jpg   \n",
       "2  27540988553_ff93b68c1a_c.jpg_im_skeleton.jpg   \n",
       "3  33880204342_a2ec399070_c.jpg_im_skeleton.jpg   \n",
       "4  26330164925_407599f41c_c.jpg_im_skeleton.jpg   \n",
       "\n",
       "                                 im_masked  \\\n",
       "0  34037497165_753a8f22e9_c.jpg_masked.jpg   \n",
       "1  22934864204_b9337938d8_c.jpg_masked.jpg   \n",
       "2  27540988553_ff93b68c1a_c.jpg_masked.jpg   \n",
       "3  33880204342_a2ec399070_c.jpg_masked.jpg   \n",
       "4  26330164925_407599f41c_c.jpg_masked.jpg   \n",
       "\n",
       "                                     dlib                            im_dlib  \\\n",
       "0  34037497165_753a8f22e9_c_dlib_only.jpg  34037497165_753a8f22e9_c_dlib.jpg   \n",
       "1  22934864204_b9337938d8_c_dlib_only.jpg  22934864204_b9337938d8_c_dlib.jpg   \n",
       "2  27540988553_ff93b68c1a_c_dlib_only.jpg  27540988553_ff93b68c1a_c_dlib.jpg   \n",
       "3  33880204342_a2ec399070_c_dlib_only.jpg  33880204342_a2ec399070_c_dlib.jpg   \n",
       "4  26330164925_407599f41c_c_dlib_only.jpg  26330164925_407599f41c_c_dlib.jpg   \n",
       "\n",
       "                                        skel_dlib  \\\n",
       "0  34037497165_753a8f22e9_c.jpg_skeleton_dlib.jpg   \n",
       "1  22934864204_b9337938d8_c.jpg_skeleton_dlib.jpg   \n",
       "2  27540988553_ff93b68c1a_c.jpg_skeleton_dlib.jpg   \n",
       "3  33880204342_a2ec399070_c.jpg_skeleton_dlib.jpg   \n",
       "4  26330164925_407599f41c_c.jpg_skeleton_dlib.jpg   \n",
       "\n",
       "                                        im_skel_dlib  \n",
       "0  34037497165_753a8f22e9_c.jpg_im_skeleton_dlib.jpg  \n",
       "1  22934864204_b9337938d8_c.jpg_im_skeleton_dlib.jpg  \n",
       "2  27540988553_ff93b68c1a_c.jpg_im_skeleton_dlib.jpg  \n",
       "3  33880204342_a2ec399070_c.jpg_im_skeleton_dlib.jpg  \n",
       "4  26330164925_407599f41c_c.jpg_im_skeleton_dlib.jpg  \n",
       "\n",
       "[5 rows x 157 columns]"
      ]
     },
     "execution_count": 5,
     "metadata": {},
     "output_type": "execute_result"
    }
   ],
   "source": [
    "class_dataframes = {}\n",
    "\n",
    "for class_name in class_names:\n",
    "    csv = pd.read_csv(all_images_YPR_dlib_csv_file_base_path+class_name+'.csv')\n",
    "    csv.insert(0, column = 'class_label',value = len(csv.index)*[f\"{class_name}\"])\n",
    "    \n",
    "    class_dataframes[class_name] = csv\n",
    "    \n",
    "csv.head()"
   ]
  },
  {
   "cell_type": "markdown",
   "metadata": {},
   "source": [
    "# Balancing dataset"
   ]
  },
  {
   "cell_type": "code",
   "execution_count": 6,
   "metadata": {},
   "outputs": [
    {
     "data": {
      "text/plain": [
       "([1788, 1249, 1171, 1335], 1171)"
      ]
     },
     "execution_count": 6,
     "metadata": {},
     "output_type": "execute_result"
    }
   ],
   "source": [
    "available_nums = [len(class_dataframes[class_name].index) for class_name in class_names]\n",
    "available_nums, min(available_nums) "
   ]
  },
  {
   "cell_type": "code",
   "execution_count": 7,
   "metadata": {},
   "outputs": [
    {
     "data": {
      "text/plain": [
       "[1217, 1176, 1171, 1211]"
      ]
     },
     "execution_count": 7,
     "metadata": {},
     "output_type": "execute_result"
    }
   ],
   "source": [
    "sample_sz_min = min(available_nums)\n",
    "min_i = np.argmin(available_nums)\n",
    "sample_sz = [ np.random.randint(sample_sz_min, sample_sz_min + 50) for _ in class_names]\n",
    "sample_sz[min_i] = sample_sz_min\n",
    "sample_sz"
   ]
  },
  {
   "cell_type": "code",
   "execution_count": 8,
   "metadata": {},
   "outputs": [],
   "source": [
    "balanced_class_dfs = {class_name:class_dataframes[class_names[class_idx]].sample(n = sample_sz[class_idx], replace=False, random_state=4, axis=0) for class_idx, class_name in enumerate(class_names)}"
   ]
  },
  {
   "cell_type": "code",
   "execution_count": 9,
   "metadata": {},
   "outputs": [
    {
     "data": {
      "text/plain": [
       "[(1217, 157), (1176, 157), (1171, 157), (1211, 157)]"
      ]
     },
     "execution_count": 9,
     "metadata": {},
     "output_type": "execute_result"
    }
   ],
   "source": [
    "balanced_class_df_sizes = [class_df.shape[0] for _,class_df in balanced_class_dfs.items()]\n",
    "\n",
    "[class_df.shape for _,class_df in balanced_class_dfs.items()]"
   ]
  },
  {
   "cell_type": "code",
   "execution_count": 10,
   "metadata": {},
   "outputs": [
    {
     "data": {
      "text/plain": [
       "234"
      ]
     },
     "execution_count": 10,
     "metadata": {},
     "output_type": "execute_result"
    }
   ],
   "source": [
    "test_set_pct = 0.2\n",
    "test_set_sz = int(sample_sz_min*test_set_pct)\n",
    "test_set_sz"
   ]
  },
  {
   "cell_type": "code",
   "execution_count": 11,
   "metadata": {},
   "outputs": [
    {
     "data": {
      "text/plain": [
       "[234, 234, 234, 234]"
      ]
     },
     "execution_count": 11,
     "metadata": {},
     "output_type": "execute_result"
    }
   ],
   "source": [
    "test_set_idxs = [ np.array(sorted(( np.random.choice(np.arange(balanced_class_df_sizes[i]), size = test_set_sz, replace = False) ))) for i,class_name in enumerate(balanced_class_dfs.keys())]\n",
    "[len(test_set_idx) for test_set_idx in test_set_idxs]"
   ]
  },
  {
   "cell_type": "code",
   "execution_count": 12,
   "metadata": {},
   "outputs": [],
   "source": [
    "# add an is_test column to the class' data frames\n",
    "for i, class_name in enumerate(balanced_class_dfs.keys()):\n",
    "    df = balanced_class_dfs[class_name]\n",
    "    df = df.reset_index(drop = True)\n",
    "    is_test_vals = np.array([0]*len(df.index))\n",
    "    is_test_vals[test_set_idxs[i]] = 1\n",
    "    #print(len(is_test_vals))\n",
    "    #print(max(test_set_idxs[i]))\n",
    "    #print(len(set(test_set_idxs[i])))\n",
    "    #print(len(df.index))\n",
    "    #print(np.sum(is_test_vals==1))\n",
    "    df['is_test']= pd.Series(is_test_vals)\n",
    "    balanced_class_dfs[class_name] = df\n",
    "    #df.is_test.iloc[test_set_idxs[i]] = 1\n",
    "    #print(sum(is_test_vals))\n",
    "    #break"
   ]
  },
  {
   "cell_type": "code",
   "execution_count": 13,
   "metadata": {},
   "outputs": [],
   "source": [
    "for i, class_name in enumerate(balanced_class_dfs.keys()):\n",
    "    df = balanced_class_dfs[class_name]\n",
    "\n",
    "    df_without_testset = df[df.is_test==0].copy()\n",
    "    df_without_testset = df_without_testset.reset_index(drop = True)\n",
    "\n",
    "    df_only_testset = df[df.is_test==1].copy()\n",
    "    df_only_testset = df_only_testset.reset_index(drop = True)\n",
    "    \n",
    "    \n",
    "    df.to_csv(testset_csv_save_path+f'{class_name}_with_testet.csv',\n",
    "            columns = df.columns, \n",
    "            header = df.columns,\n",
    "            index = False)\n",
    "    \n",
    "    df_without_testset.to_csv(testset_csv_save_path+f'{class_name}_without_testet.csv',\n",
    "        columns = df_without_testset.columns, \n",
    "        header = df_without_testset.columns,\n",
    "        index = False)\n",
    "\n",
    "    df_only_testset.to_csv(testset_csv_save_path+f'{class_name}_only_testet.csv',\n",
    "        columns = df_only_testset.columns, \n",
    "        header = df_only_testset.columns,\n",
    "        index = False)    \n",
    "    "
   ]
  },
  {
   "cell_type": "code",
   "execution_count": null,
   "metadata": {},
   "outputs": [],
   "source": []
  },
  {
   "cell_type": "code",
   "execution_count": null,
   "metadata": {},
   "outputs": [],
   "source": []
  }
 ],
 "metadata": {
  "kernelspec": {
   "display_name": "Python 3",
   "language": "python",
   "name": "python3"
  },
  "language_info": {
   "codemirror_mode": {
    "name": "ipython",
    "version": 3
   },
   "file_extension": ".py",
   "mimetype": "text/x-python",
   "name": "python",
   "nbconvert_exporter": "python",
   "pygments_lexer": "ipython3",
   "version": "3.7.3"
  }
 },
 "nbformat": 4,
 "nbformat_minor": 2
}
