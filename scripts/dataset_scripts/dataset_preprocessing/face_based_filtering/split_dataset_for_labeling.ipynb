{
 "cells": [
  {
   "cell_type": "code",
   "execution_count": 53,
   "metadata": {},
   "outputs": [],
   "source": [
    "import os\n",
    "from matplotlib import pyplot as plt \n",
    "import numpy as np\n",
    "import cv2\n",
    "import shutil\n"
   ]
  },
  {
   "cell_type": "code",
   "execution_count": 3,
   "metadata": {},
   "outputs": [],
   "source": [
    "\n",
    "def scantree(path, ext):\n",
    "    \"\"\"Recursively yield DirEntry objects for given directory.\"\"\"\n",
    "    for entry in os.scandir(path):\n",
    "        if entry.is_dir(follow_symlinks=False):\n",
    "            yield from scantree(entry.path, ext)  # see below for Python 2.x\n",
    "        elif entry.path.endswith(ext):\n",
    "            yield entry\n",
    "\n",
    "def get_img_file_names_in_dir(path, ext):\n",
    "    return [entry.path for entry in scantree(path, ext)]\n",
    "\n",
    "\n",
    "path = '/disks/data/datasets/selfie_project_datasets/resized_ds/dataset_small'\n",
    "_, img_dirname = os.path.split(path)\n",
    "\n",
    "\n",
    "\n",
    "\n",
    "files = get_img_file_names_in_dir(path, '.jpg')\n",
    "\n",
    "file_dirs = []\n",
    "file_names = []\n",
    "for file in files:\n",
    "    file_dir, file_name = os.path.split(file)\n",
    "    file_dirs.append(file_dir)\n",
    "    file_names.append(file_name)"
   ]
  },
  {
   "cell_type": "code",
   "execution_count": 4,
   "metadata": {},
   "outputs": [
    {
     "data": {
      "text/plain": [
       "186755"
      ]
     },
     "execution_count": 4,
     "metadata": {},
     "output_type": "execute_result"
    }
   ],
   "source": [
    "len(file_dirs)"
   ]
  },
  {
   "cell_type": "code",
   "execution_count": 5,
   "metadata": {},
   "outputs": [
    {
     "data": {
      "text/plain": [
       "186755"
      ]
     },
     "execution_count": 5,
     "metadata": {},
     "output_type": "execute_result"
    }
   ],
   "source": [
    "len(file_names)"
   ]
  },
  {
   "cell_type": "code",
   "execution_count": null,
   "metadata": {},
   "outputs": [],
   "source": [
    "unique_dirs = list(set(file_dirs))\n",
    "    \n",
    "for i, unique_dir in enumerate(unique_dirs):\n",
    "    dir_files = get_img_file_names_in_dir(unique_dir, '.jpg')\n",
    "    last_half_files = dir_files[len(dir_files)//2:]\n",
    "    print(unique_dir, len(dir_files), len(last_half_files))\n",
    "    \n",
    "    last_half_path = unique_dir.replace(img_dirname,img_dirname+'_last_half')\n",
    "    os.makedirs(last_half_path, exist_ok = True)\n",
    "    \n",
    "    for f_src in last_half_files:\n",
    "        f_dest = f_src.replace(img_dirname, img_dirname+'_last_half')\n",
    "        #print(f_src)\n",
    "        #print(f_dest)\n",
    "        #print()\n",
    "        shutil.move(f_src, f_dest )\n",
    "    print()\n",
    "\n",
    "    "
   ]
  },
  {
   "cell_type": "code",
   "execution_count": null,
   "metadata": {},
   "outputs": [],
   "source": [
    "    \n",
    "# unique_dirs = list(set(file_dirs))\n",
    "# file_dirs_idx = [unique_dirs.index(f_dir) for f_dir in file_dirs]\n",
    "# unique_vals, inverse_idxs = np.unique(np.array(file_dirs_idx), return_inverse=True)\n",
    "# # np.all(np.equal(unique_vals[inverse_idxs], np.array(file_dirs_idx)))\n",
    "# file_dirs_idx_np = np.array(file_dirs_idx)\n",
    "\n",
    "# j = 0\n",
    "# for unique_val in unique_vals:\n",
    "#     j += 1\n",
    "#     idxs = file_dirs_idx_np == unique_val\n",
    "#     print(j, len(np.unique([file_dirs[i] for i in idxs])))\n",
    "    \n",
    "    "
   ]
  },
  {
   "cell_type": "code",
   "execution_count": null,
   "metadata": {},
   "outputs": [],
   "source": []
  },
  {
   "cell_type": "code",
   "execution_count": null,
   "metadata": {},
   "outputs": [],
   "source": []
  },
  {
   "cell_type": "code",
   "execution_count": null,
   "metadata": {},
   "outputs": [],
   "source": []
  },
  {
   "cell_type": "code",
   "execution_count": null,
   "metadata": {},
   "outputs": [],
   "source": []
  },
  {
   "cell_type": "code",
   "execution_count": null,
   "metadata": {},
   "outputs": [],
   "source": []
  },
  {
   "cell_type": "code",
   "execution_count": null,
   "metadata": {},
   "outputs": [],
   "source": []
  },
  {
   "cell_type": "code",
   "execution_count": null,
   "metadata": {},
   "outputs": [],
   "source": []
  },
  {
   "cell_type": "code",
   "execution_count": null,
   "metadata": {},
   "outputs": [],
   "source": []
  },
  {
   "cell_type": "code",
   "execution_count": null,
   "metadata": {},
   "outputs": [],
   "source": []
  },
  {
   "cell_type": "code",
   "execution_count": null,
   "metadata": {},
   "outputs": [],
   "source": []
  },
  {
   "cell_type": "code",
   "execution_count": null,
   "metadata": {},
   "outputs": [],
   "source": []
  },
  {
   "cell_type": "code",
   "execution_count": null,
   "metadata": {},
   "outputs": [],
   "source": []
  }
 ],
 "metadata": {
  "kernelspec": {
   "display_name": "Python 3",
   "language": "python",
   "name": "python3"
  },
  "language_info": {
   "codemirror_mode": {
    "name": "ipython",
    "version": 3
   },
   "file_extension": ".py",
   "mimetype": "text/x-python",
   "name": "python",
   "nbconvert_exporter": "python",
   "pygments_lexer": "ipython3",
   "version": "3.6.6"
  },
  "latex_envs": {
   "LaTeX_envs_menu_present": true,
   "autoclose": false,
   "autocomplete": true,
   "bibliofile": "biblio.bib",
   "cite_by": "apalike",
   "current_citInitial": 1,
   "eqLabelWithNumbers": true,
   "eqNumInitial": 1,
   "hotkeys": {
    "equation": "Ctrl-E",
    "itemize": "Ctrl-I"
   },
   "labels_anchors": false,
   "latex_user_defs": false,
   "report_style_numbering": false,
   "user_envs_cfg": false
  }
 },
 "nbformat": 4,
 "nbformat_minor": 2
}
