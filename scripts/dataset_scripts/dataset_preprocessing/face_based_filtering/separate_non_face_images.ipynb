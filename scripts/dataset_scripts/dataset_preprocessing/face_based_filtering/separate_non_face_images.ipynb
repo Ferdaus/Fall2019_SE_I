{
 "cells": [
  {
   "cell_type": "code",
   "execution_count": 12,
   "metadata": {},
   "outputs": [],
   "source": [
    "import os\n",
    "from matplotlib import pyplot as plt \n",
    "import numpy as np\n",
    "import cv2\n",
    "import shutil"
   ]
  },
  {
   "cell_type": "code",
   "execution_count": 11,
   "metadata": {},
   "outputs": [
    {
     "name": "stdout",
     "output_type": "stream",
     "text": [
      "184296\n",
      "113781\n",
      "tmp_small\n"
     ]
    }
   ],
   "source": [
    "\n",
    "def scantree(path, ext):\n",
    "    \"\"\"Recursively yield DirEntry objects for given directory.\"\"\"\n",
    "    for entry in os.scandir(path):\n",
    "        if entry.is_dir(follow_symlinks=False):\n",
    "            yield from scantree(entry.path, ext)  # see below for Python 2.x\n",
    "        elif entry.path.endswith(ext):\n",
    "            yield entry\n",
    "\n",
    "def get_img_file_names_in_dir(path, ext):\n",
    "    return [entry.path for entry in scantree(path, ext)]\n",
    "\n",
    "\n",
    "path = '/disks/data/datasets/selfie_project_datasets/resized_ds/tmp_small'\n",
    "\n",
    "_, img_dirname = os.path.split(path)\n",
    "new_dirname = img_dirname+\"_no_face_images\"\n",
    "\n",
    "\n",
    "files = get_img_file_names_in_dir(path, '.jpg')\n",
    "\n",
    "no_face_imgs = []\n",
    "face_imgs = []\n",
    "for file in files:\n",
    "    inf_file = file.replace(\"tmp_small\",\"tmp_small_faceinfo\").replace(\".jpg\",\".info\")\n",
    "    if(not os.path.exists(inf_file)):\n",
    "        no_face_imgs.append(file)\n",
    "    else:\n",
    "        face_imgs.append(file)\n",
    "        \n",
    "        \n",
    "print(len(face_imgs))\n",
    "print(len(no_face_imgs))\n",
    "print(img_dirname)"
   ]
  },
  {
   "cell_type": "code",
   "execution_count": 13,
   "metadata": {},
   "outputs": [],
   "source": [
    "os.makedirs(path.replace(img_dirname, new_dirname), exist_ok = True)\n",
    "\n",
    "for no_face_img in no_face_imgs:\n",
    "    newpath = no_face_img.replace(img_dirname, new_dirname)\n",
    "    new_imgdir, _ = os.path.split(newpath)\n",
    "\n",
    "    os.makedirs(new_imgdir, exist_ok=True)\n",
    "    \n",
    "    shutil.move(no_face_img, newpath)"
   ]
  },
  {
   "cell_type": "code",
   "execution_count": null,
   "metadata": {},
   "outputs": [],
   "source": []
  },
  {
   "cell_type": "code",
   "execution_count": null,
   "metadata": {},
   "outputs": [],
   "source": []
  },
  {
   "cell_type": "code",
   "execution_count": null,
   "metadata": {},
   "outputs": [],
   "source": []
  },
  {
   "cell_type": "code",
   "execution_count": null,
   "metadata": {},
   "outputs": [],
   "source": []
  }
 ],
 "metadata": {
  "kernelspec": {
   "display_name": "Python 3",
   "language": "python",
   "name": "python3"
  },
  "language_info": {
   "codemirror_mode": {
    "name": "ipython",
    "version": 3
   },
   "file_extension": ".py",
   "mimetype": "text/x-python",
   "name": "python",
   "nbconvert_exporter": "python",
   "pygments_lexer": "ipython3",
   "version": "3.6.6"
  },
  "latex_envs": {
   "LaTeX_envs_menu_present": true,
   "autoclose": false,
   "autocomplete": true,
   "bibliofile": "biblio.bib",
   "cite_by": "apalike",
   "current_citInitial": 1,
   "eqLabelWithNumbers": true,
   "eqNumInitial": 1,
   "hotkeys": {
    "equation": "Ctrl-E",
    "itemize": "Ctrl-I"
   },
   "labels_anchors": false,
   "latex_user_defs": false,
   "report_style_numbering": false,
   "user_envs_cfg": false
  }
 },
 "nbformat": 4,
 "nbformat_minor": 2
}
