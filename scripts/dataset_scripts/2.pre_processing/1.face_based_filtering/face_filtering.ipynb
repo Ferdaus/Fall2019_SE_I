{
 "cells": [
  {
   "cell_type": "code",
   "execution_count": 1,
   "metadata": {},
   "outputs": [],
   "source": [
    "import cv2\n",
    "import os\n",
    "\n",
    "%matplotlib inline\n",
    "\n",
    "import dlib\n",
    "from matplotlib import pyplot as plt\n",
    "import numpy as np\n",
    "import scipy.ndimage\n",
    "\n",
    "from PIL import Image, ImageOps\n",
    "import datetime\n"
   ]
  },
  {
   "cell_type": "code",
   "execution_count": 8,
   "metadata": {},
   "outputs": [
    {
     "name": "stdout",
     "output_type": "stream",
     "text": [
      "3.4.4\n",
      "19.16.0\n"
     ]
    }
   ],
   "source": [
    "print(cv2.__version__)\n",
    "print(dlib.__version__)"
   ]
  },
  {
   "cell_type": "code",
   "execution_count": 6,
   "metadata": {},
   "outputs": [
    {
     "name": "stdout",
     "output_type": "stream",
     "text": [
      "300134\n",
      "tmp\n"
     ]
    }
   ],
   "source": [
    "def scantree(path, ext):\n",
    "    \"\"\"Recursively yield DirEntry objects for given directory.\"\"\"\n",
    "    for entry in os.scandir(path):\n",
    "        if entry.is_dir(follow_symlinks=False):\n",
    "            yield from scantree(entry.path, ext)  # see below for Python 2.x\n",
    "        elif entry.path.endswith(ext):\n",
    "            yield entry\n",
    "\n",
    "def get_img_file_names_in_dir(path, ext):\n",
    "    return [entry.path for entry in scantree(path, ext)]\n",
    "\n",
    "\n",
    "path = '/disks/data/datasets/selfie_project_datasets/tmp'\n",
    "\n",
    "_, ds_dirname = os.path.split(path) \n",
    "\n",
    "min_dim_size = 300\n",
    "min_size_to_resize = 100\n",
    "\n",
    "files = get_img_file_names_in_dir(path, '.jpg')\n",
    "print(len(files))\n",
    "print(ds_dirname)"
   ]
  },
  {
   "cell_type": "code",
   "execution_count": 26,
   "metadata": {},
   "outputs": [],
   "source": [
    "# files_full = files[:]\n",
    "# files = files[55127:]"
   ]
  },
  {
   "cell_type": "code",
   "execution_count": null,
   "metadata": {},
   "outputs": [],
   "source": [
    "# get the frontal face detector\n",
    "detector = dlib.get_frontal_face_detector()\n",
    "        \n",
    "# location of the standard landmark points for a face\n",
    "predictor_path = 'shape_predictor_68_face_landmarks.dat';\n",
    "\n",
    "# start capture\n",
    "#video_capture = cv2.VideoCapture(0)\n",
    "\n",
    "# build a predictor from the default shape predictor\n",
    "predictor = dlib.shape_predictor(predictor_path);\n",
    "\n",
    "then = datetime.datetime.now()\n",
    "with open('faces.txt','a') as f:\n",
    "    for ifile, file in enumerate(files):\n",
    "        #count = 1;\n",
    "        #start_time = datetime.now()\n",
    "        \n",
    "        img_dir, img_name = os.path.split(file)\n",
    "        \n",
    "        img_small_dir = img_dir.replace(ds_dirname, ds_dirname+'_small')\n",
    "        os.makedirs(img_small_dir, exist_ok=True)\n",
    "        \n",
    "        img_small_faceinfo_dir = img_dir.replace( ds_dirname, ds_dirname + '_small_faceinfo')\n",
    "        os.makedirs(img_small_faceinfo_dir, exist_ok=True)\n",
    "        face_info_file = img_name.replace('.jpg','.info')\n",
    "        \n",
    "        try:\n",
    "            frame = plt.imread(file)\n",
    "        except:\n",
    "            continue\n",
    "            \n",
    "        if(frame.shape==() or frame.shape[-1] >3):\n",
    "            continue\n",
    "            \n",
    "        #frame = Image.open(file)\n",
    "        orig_img_shape = frame.shape\n",
    "\n",
    "        min_dim_img = np.min(orig_img_shape[:2])\n",
    "        \n",
    "        if(min_dim_img < 100):\n",
    "            continue\n",
    "        \n",
    "        if (min_dim_img > min_size_to_resize):\n",
    "            if(orig_img_shape[0] < orig_img_shape[1]):\n",
    "                mul_fact = min_dim_size/orig_img_shape[0]\n",
    "                img_shape = [min_dim_size, int(orig_img_shape[1]*mul_fact)]\n",
    "            else:\n",
    "                mul_fact = min_dim_size/orig_img_shape[1]\n",
    "                img_shape = [int(orig_img_shape[0]*mul_fact), min_dim_size]\n",
    "\n",
    "            frame = cv2.resize(frame, dsize = tuple(img_shape[1::-1]))\n",
    "        \n",
    "        frame = cv2.cvtColor(frame, cv2.COLOR_RGB2BGR)\n",
    "        \n",
    "        #print(orig_img_shape)\n",
    "        #print(img_shape)\n",
    "        \n",
    "        #i = np.argmin(img_shape[:2])\n",
    "        #img_shape  = np.multiply(np.array(img_shape), 1/shrink_fact).astype(np.int)\n",
    "\n",
    "        \n",
    "        #frame = cv2.cvtColor(np.array(ImageOps.fit(frame, img_shape, Image.ANTIALIAS), cv2.COLOR_RGB2BGR))\n",
    "            #\n",
    "        \n",
    "        dets = detector(frame, 1)\n",
    "        \n",
    "        \n",
    "        print(\"filename\\tid\\tface_count\", file = f)\n",
    "        print(file,ifile,len(dets), file = f)\n",
    "        #print()\n",
    "        \n",
    "        if(len(dets) > 0):\n",
    "            with open(os.path.join(img_small_faceinfo_dir,face_info_file),'w') as f_inf:\n",
    "                # for each detected faces\n",
    "                for i, d in enumerate(dets):\n",
    "\n",
    "                    # retrieve the bounding box\n",
    "                    x = d.left();\n",
    "                    y = d.top();\n",
    "                    x2 = d.right();\n",
    "                    y2 = d.bottom();\n",
    "\n",
    "                    # draw the bounding box\n",
    "                    #cv2.rectangle(frame,(x,y),(x2,y2),(0,255,0),2)\n",
    "\n",
    "                    # get the facial shape descriptor\n",
    "                    shape = predictor(frame, d);\n",
    "\n",
    "                    print(x,y,x2,y2, file = f_inf)\n",
    "\n",
    "                    # for each of the sixty eight detected fiducial feature points\n",
    "                    for pts in range(68):\n",
    "                        print(shape.part(pts).x,shape.part(pts).y,  file = f_inf)\n",
    "                        #cv2.circle(frame, (shape.part(pts).x, shape.part(pts).y), 2,(0,0,255))\n",
    "\n",
    "        \n",
    "        cv2.imwrite(os.path.join(img_small_dir,img_name), frame)\n",
    "        \n",
    "        if (ifile+1)%500==0:\n",
    "            print(\"Completed\",ifile)            \n",
    "            now = datetime.datetime.now()\n",
    "            print(\"elapsed time:\",now - then)\n",
    "            then = datetime.datetime.now()\n",
    "    #plt.figure(figsize=(20,10))\n",
    "    # show the annotated frame\n",
    "    #plt.imshow(cv2.cvtColor(scipy.misc.imresize(frame,200), cv2.COLOR_BGR2RGB))\n",
    "    #start_time = datetime.now()\n",
    "   # print(frame.shape)"
   ]
  },
  {
   "cell_type": "code",
   "execution_count": 24,
   "metadata": {},
   "outputs": [
    {
     "data": {
      "text/plain": [
       "55127"
      ]
     },
     "execution_count": 24,
     "metadata": {},
     "output_type": "execute_result"
    }
   ],
   "source": []
  },
  {
   "cell_type": "code",
   "execution_count": 27,
   "metadata": {},
   "outputs": [
    {
     "data": {
      "text/plain": [
       "233892"
      ]
     },
     "execution_count": 27,
     "metadata": {},
     "output_type": "execute_result"
    }
   ],
   "source": []
  },
  {
   "cell_type": "code",
   "execution_count": 106,
   "metadata": {},
   "outputs": [
    {
     "data": {
      "text/plain": [
       "(500, 375)"
      ]
     },
     "execution_count": 106,
     "metadata": {},
     "output_type": "execute_result"
    }
   ],
   "source": [
    "\n"
   ]
  },
  {
   "cell_type": "code",
   "execution_count": 108,
   "metadata": {},
   "outputs": [
    {
     "data": {
      "text/plain": [
       "(375, 500, 3)"
      ]
     },
     "execution_count": 108,
     "metadata": {},
     "output_type": "execute_result"
    }
   ],
   "source": []
  },
  {
   "cell_type": "code",
   "execution_count": 109,
   "metadata": {},
   "outputs": [
    {
     "data": {
      "text/plain": [
       "(500, 375)"
      ]
     },
     "execution_count": 109,
     "metadata": {},
     "output_type": "execute_result"
    }
   ],
   "source": []
  },
  {
   "cell_type": "code",
   "execution_count": null,
   "metadata": {},
   "outputs": [],
   "source": []
  }
 ],
 "metadata": {
  "kernelspec": {
   "display_name": "Python 3",
   "language": "python",
   "name": "python3"
  },
  "language_info": {
   "codemirror_mode": {
    "name": "ipython",
    "version": 3
   },
   "file_extension": ".py",
   "mimetype": "text/x-python",
   "name": "python",
   "nbconvert_exporter": "python",
   "pygments_lexer": "ipython3",
   "version": "3.7.3"
  },
  "latex_envs": {
   "LaTeX_envs_menu_present": true,
   "autoclose": false,
   "autocomplete": true,
   "bibliofile": "biblio.bib",
   "cite_by": "apalike",
   "current_citInitial": 1,
   "eqLabelWithNumbers": true,
   "eqNumInitial": 1,
   "hotkeys": {
    "equation": "Ctrl-E",
    "itemize": "Ctrl-I"
   },
   "labels_anchors": false,
   "latex_user_defs": false,
   "report_style_numbering": false,
   "user_envs_cfg": false
  }
 },
 "nbformat": 4,
 "nbformat_minor": 2
}
