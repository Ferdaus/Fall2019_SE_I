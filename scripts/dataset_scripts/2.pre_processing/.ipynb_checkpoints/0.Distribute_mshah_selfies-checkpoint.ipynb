{
 "cells": [
  {
   "cell_type": "code",
   "execution_count": null,
   "metadata": {},
   "outputs": [],
   "source": [
    "import os\n",
    "\n",
    "import glob"
   ]
  },
  {
   "cell_type": "code",
   "execution_count": null,
   "metadata": {},
   "outputs": [],
   "source": [
    "images = glob.glob(\n",
    "    '/disks/data/datasets/selfie_project_datasets/selfie_datasets/Selfie_Dataset_Mubarak_Shah/images/*.jpg')"
   ]
  },
  {
   "cell_type": "code",
   "execution_count": null,
   "metadata": {},
   "outputs": [],
   "source": [
    "len(images)"
   ]
  },
  {
   "cell_type": "code",
   "execution_count": null,
   "metadata": {},
   "outputs": [],
   "source": [
    "mv_loc_parent = '/disks/data/datasets/selfie_project_datasets/selfie_datasets/Selfie_Dataset_Mubarak_Shah/dist'\n",
    "\n",
    "im_per_dir = 200\n",
    "\n",
    "for i in range(0,len(images),im_per_dir):\n",
    "    new_loc = os.path.join(mv_loc_parent,str(i//im_per_dir) )\n",
    "    os.makedirs( new_loc , exist_ok= True )\n",
    "    for j in range(i, min(len(images), i+im_per_dir) ):\n",
    "        loc, fname = os.path.split(images[j])\n",
    "        os.rename(images[j], os.path.join(new_loc, fname))"
   ]
  },
  {
   "cell_type": "code",
   "execution_count": null,
   "metadata": {},
   "outputs": [],
   "source": []
  },
  {
   "cell_type": "code",
   "execution_count": null,
   "metadata": {},
   "outputs": [],
   "source": []
  },
  {
   "cell_type": "code",
   "execution_count": null,
   "metadata": {},
   "outputs": [],
   "source": []
  }
 ],
 "metadata": {
  "kernelspec": {
   "display_name": "Python 3",
   "language": "python",
   "name": "python3"
  },
  "language_info": {
   "codemirror_mode": {
    "name": "ipython",
    "version": 3
   },
   "file_extension": ".py",
   "mimetype": "text/x-python",
   "name": "python",
   "nbconvert_exporter": "python",
   "pygments_lexer": "ipython3",
   "version": "3.6.6"
  }
 },
 "nbformat": 4,
 "nbformat_minor": 2
}
