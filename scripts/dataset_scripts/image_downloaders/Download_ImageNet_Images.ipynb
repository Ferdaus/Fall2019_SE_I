{
 "cells": [
  {
   "cell_type": "code",
   "execution_count": null,
   "metadata": {},
   "outputs": [],
   "source": [
    "from urllib.request import urlretrieve\n",
    "import os\n",
    "import math\n",
    "from multiprocessing import Pool"
   ]
  },
  {
   "cell_type": "code",
   "execution_count": null,
   "metadata": {},
   "outputs": [],
   "source": [
    "url_files = ['/disks/data/datasets/selfie_project_datasets/archive/sources/imagenet_fall11_urls/Homo-sapiens-sapiens_modern man_n02475669.txt',\n",
    "             '/disks/data/datasets/selfie_project_datasets/archive/sources/imagenet_fall11_urls/World_human-race_humanity_humankind_human-beings_humans_mankind_man_n02472987.txt']\n",
    "\n",
    "# save the first set as homosapiens and the second as humanrace\n",
    "savedirs = {\n",
    "            url_files[0]:'homosapiens',\n",
    "            url_files[1]:'humanrace',\n",
    "           }\n",
    "\n",
    "datasetdir = '/disks/data/datasets/selfie_project_datasets/downloaded_images/'\n"
   ]
  },
  {
   "cell_type": "code",
   "execution_count": null,
   "metadata": {},
   "outputs": [],
   "source": [
    "def segmentList(lst, seglen):\n",
    "    \n",
    "    segs = []\n",
    "    \n",
    "    for i in range(0,len(lst),seglen):\n",
    "        segs.append(lst[i:i+seglen])\n",
    "\n",
    "    return segs    \n",
    "\n",
    "def image_dloader(urls):\n",
    "    for i,url in enumerate(urls):\n",
    "        _, save_fname = os.path.split(url.strip())\n",
    "        try:\n",
    "            urlretrieve(url, os.path.join(savedir,save_fname))\n",
    "        except:\n",
    "            continue\n",
    "        print(f'{savedirs[fname]}: #{i} file downloading from {url}')\n",
    "\n",
    "if __name__ == '__main__':\n",
    "\n",
    "    for fname in url_files:\n",
    "        with open(fname, 'rt') as f:\n",
    "            urls = f.readlines()\n",
    "            savedir = os.path.join(datasetdir, savedirs[fname])\n",
    "            os.makedirs(savedir, exist_ok=True)\n",
    "            \n",
    "            segs = segmentList(urls[1000:], 50)\n",
    "            numprocesses = len(segs)\n",
    "            with Pool(numprocesses) as p:\n",
    "                p.map(image_dloader,segs)\n"
   ]
  },
  {
   "cell_type": "code",
   "execution_count": null,
   "metadata": {},
   "outputs": [],
   "source": []
  },
  {
   "cell_type": "code",
   "execution_count": null,
   "metadata": {},
   "outputs": [],
   "source": []
  }
 ],
 "metadata": {
  "kernelspec": {
   "display_name": "Python 3",
   "language": "python",
   "name": "python3"
  },
  "language_info": {
   "codemirror_mode": {
    "name": "ipython",
    "version": 3
   },
   "file_extension": ".py",
   "mimetype": "text/x-python",
   "name": "python",
   "nbconvert_exporter": "python",
   "pygments_lexer": "ipython3",
   "version": "3.6.6"
  }
 },
 "nbformat": 4,
 "nbformat_minor": 2
}
