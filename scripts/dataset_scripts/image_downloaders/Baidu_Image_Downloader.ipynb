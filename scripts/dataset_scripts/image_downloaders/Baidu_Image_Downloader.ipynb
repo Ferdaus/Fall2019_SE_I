{
 "cells": [
  {
   "cell_type": "code",
   "execution_count": null,
   "metadata": {},
   "outputs": [],
   "source": [
    "# https://github.com/hellock/icrawler\n",
    "# https://icrawler.readthedocs.io/en/latest/builtin.html"
   ]
  },
  {
   "cell_type": "code",
   "execution_count": null,
   "metadata": {},
   "outputs": [],
   "source": [
    "from icrawler.builtin import GoogleImageCrawler, BingImageCrawler, BaiduImageCrawler\n",
    "from datetime import date\n",
    "from datetime import timedelta\n",
    "import os"
   ]
  },
  {
   "cell_type": "code",
   "execution_count": null,
   "metadata": {},
   "outputs": [],
   "source": [
    "def get_crawler_for_date(search_keyword,_type):\n",
    "    baidu_crawler = BaiduImageCrawler(\n",
    "        feeder_threads=4,\n",
    "        parser_threads=4,\n",
    "        downloader_threads=4,\n",
    "        storage={'root_dir': f'baidu/{search_keyword}/{search_keyword}_images_{_type}'})\n",
    "\n",
    "    return baidu_crawler\n",
    "\n",
    "'''\n",
    "create_filter: creates a filter for GoogleImageCrawler\n",
    "\n",
    "params:\n",
    "start_date: 3-tuple (yyyy,m, d)\n",
    "end_date: 3-tuple (yyyy,m, d)\n",
    "\n",
    "# licenses: https://support.google.com/websearch/answer/29508?hl=en\n",
    "            https://www.google.com/advanced_image_search\n",
    "returns:\n",
    "\n",
    "filter with specified dates\n",
    "'''\n",
    "\n",
    "def create_filter(_type):\n",
    "\n",
    "    filters = dict(\n",
    "        type = _type\n",
    "    )\n",
    "\n",
    "\n",
    "    return filters\n",
    "\n"
   ]
  },
  {
   "cell_type": "code",
   "execution_count": null,
   "metadata": {},
   "outputs": [],
   "source": [
    "#search_keyword = 'portrait'\n",
    "#search_keyword = 'people'\n",
    "#search_keyword = 'faces'\n",
    "#search_keyword = 'selfie'\n",
    "_search_keywords = ['selfie', 'wefie', 'faces','people','portrait']\n",
    "\n",
    "#_types = ['face','portrait','']\n",
    "\n",
    "_types = ['']\n",
    "\n",
    "_dates = [\"pastday\", \"pastweek\", \"pastmonth\", \"pastyear\"]\n",
    "\n",
    "for _search_keyword in _search_keywords:\n",
    "                      \n",
    "    for _type in _types:\n",
    "    \n",
    "        os.makedirs(f'baidu/{_search_keyword}', exist_ok=True)\n",
    "                \n",
    "        \n",
    "        print(_search_keyword, \", type:\", _type)\n",
    "        print('*******************************************************************************')\n",
    "\n",
    "        filters = create_filter(_type)\n",
    "        bing_crawler = get_crawler_for_date(_search_keyword, _type)\n",
    "        if(_type.strip() != ''):\n",
    "            bing_crawler.crawl(keyword=_search_keyword, filters=filters, max_num=10000, file_idx_offset=0)\n",
    "        else:\n",
    "            bing_crawler.crawl(keyword=_search_keyword, max_num=10000, file_idx_offset=0)\n",
    "        \n",
    "        print('*******************************************************************************')\n",
    "    "
   ]
  },
  {
   "cell_type": "code",
   "execution_count": null,
   "metadata": {},
   "outputs": [],
   "source": []
  },
  {
   "cell_type": "code",
   "execution_count": null,
   "metadata": {},
   "outputs": [],
   "source": []
  },
  {
   "cell_type": "code",
   "execution_count": null,
   "metadata": {},
   "outputs": [],
   "source": []
  }
 ],
 "metadata": {
  "kernelspec": {
   "display_name": "Python 3",
   "language": "python",
   "name": "python3"
  },
  "language_info": {
   "codemirror_mode": {
    "name": "ipython",
    "version": 3
   },
   "file_extension": ".py",
   "mimetype": "text/x-python",
   "name": "python",
   "nbconvert_exporter": "python",
   "pygments_lexer": "ipython3",
   "version": "3.6.6"
  }
 },
 "nbformat": 4,
 "nbformat_minor": 2
}
