{
 "cells": [
  {
   "cell_type": "code",
   "execution_count": null,
   "metadata": {},
   "outputs": [],
   "source": [
    "# https://github.com/hellock/icrawler\n",
    "# https://icrawler.readthedocs.io/en/latest/builtin.html"
   ]
  },
  {
   "cell_type": "code",
   "execution_count": 1,
   "metadata": {},
   "outputs": [],
   "source": [
    "from icrawler.builtin import GoogleImageCrawler, BingImageCrawler\n",
    "from datetime import date\n",
    "from datetime import timedelta\n",
    "import os"
   ]
  },
  {
   "cell_type": "code",
   "execution_count": 2,
   "metadata": {},
   "outputs": [],
   "source": [
    "def get_crawler_for_date(_date, search_keyword):\n",
    "    bing_crawler = BingImageCrawler(\n",
    "        feeder_threads=4,\n",
    "        parser_threads=4,\n",
    "        downloader_threads=4,\n",
    "        storage={'root_dir': f'bing_img/{search_keyword}/{search_keyword}_images_{_date}'})\n",
    "\n",
    "    return bing_crawler\n",
    "\n",
    "'''\n",
    "create_filter: creates a filter for GoogleImageCrawler\n",
    "\n",
    "params:\n",
    "start_date: 3-tuple (yyyy,m, d)\n",
    "end_date: 3-tuple (yyyy,m, d)\n",
    "\n",
    "# licenses: https://support.google.com/websearch/answer/29508?hl=en\n",
    "            https://www.google.com/advanced_image_search\n",
    "returns:\n",
    "\n",
    "filter with specified dates\n",
    "'''\n",
    "\n",
    "def create_filter(_date):\n",
    "\n",
    "    filters = dict(\n",
    "        type = 'photo',\n",
    "        size ='large',\n",
    "        color ='color',\n",
    "        #license='commercial,modify',\n",
    "        date =_date\n",
    "    )\n",
    "\n",
    "\n",
    "    return filters\n",
    "\n"
   ]
  },
  {
   "cell_type": "code",
   "execution_count": null,
   "metadata": {},
   "outputs": [],
   "source": [
    "\n",
    "_search_keywords = ['selfie', 'wefie', 'faces','people','portrait']\n",
    "_search_keywords = ['medium shot', 'medium close up']\n",
    "\n",
    "_search_keywords = ['medium shot group picture', 'medium shot group photo']\n",
    "_search_keywords = ['group picture', 'group photo']\n",
    "_search_keywords = ['mirror selfie', 'medium long shot']\n",
    "\n",
    "\n",
    "_dates = [\"pastday\", \"pastweek\", \"pastmonth\", \"pastyear\"]\n",
    "\n",
    "\n",
    "for _search_keyword in _search_keywords:\n",
    "    \n",
    "    os.makedirs(f'bing_img/{_search_keyword.replace(\" \",\"_\")}', exist_ok=True)\n",
    "                  \n",
    "    for _date in _dates:\n",
    "\n",
    "        print(_search_keyword, \",\", _date)\n",
    "        print('*******************************************************************************')\n",
    "\n",
    "        filters = create_filter(_date)\n",
    "        bing_crawler = get_crawler_for_date(_date, _search_keyword.replace(' ','_'))\n",
    "        bing_crawler.crawl(keyword=_search_keyword, filters=filters, max_num=10000, file_idx_offset=0)\n",
    "        print('*******************************************************************************')\n",
    "    "
   ]
  },
  {
   "cell_type": "code",
   "execution_count": null,
   "metadata": {},
   "outputs": [],
   "source": []
  },
  {
   "cell_type": "code",
   "execution_count": null,
   "metadata": {},
   "outputs": [],
   "source": []
  },
  {
   "cell_type": "code",
   "execution_count": null,
   "metadata": {},
   "outputs": [],
   "source": []
  }
 ],
 "metadata": {
  "kernelspec": {
   "display_name": "Python 3",
   "language": "python",
   "name": "python3"
  },
  "language_info": {
   "codemirror_mode": {
    "name": "ipython",
    "version": 3
   },
   "file_extension": ".py",
   "mimetype": "text/x-python",
   "name": "python",
   "nbconvert_exporter": "python",
   "pygments_lexer": "ipython3",
   "version": "3.6.6"
  }
 },
 "nbformat": 4,
 "nbformat_minor": 2
}
