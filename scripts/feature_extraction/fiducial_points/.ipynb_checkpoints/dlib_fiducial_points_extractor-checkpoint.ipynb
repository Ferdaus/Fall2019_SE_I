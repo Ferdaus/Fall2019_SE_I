{
 "cells": [
  {
   "cell_type": "code",
   "execution_count": 1,
   "metadata": {},
   "outputs": [],
   "source": [
    "import cv2\n",
    "import os\n",
    "\n",
    "%matplotlib inline\n",
    "\n",
    "import dlib\n",
    "from matplotlib import pyplot as plt\n",
    "import numpy as np\n",
    "import scipy.ndimage\n",
    "\n",
    "from PIL import Image, ImageOps\n",
    "import datetime\n",
    "import numpy as np"
   ]
  },
  {
   "cell_type": "code",
   "execution_count": 2,
   "metadata": {},
   "outputs": [
    {
     "name": "stdout",
     "output_type": "stream",
     "text": [
      "4.1.0\n",
      "19.17.0\n"
     ]
    }
   ],
   "source": [
    "print(cv2.__version__)\n",
    "print(dlib.__version__)"
   ]
  },
  {
   "cell_type": "code",
   "execution_count": 4,
   "metadata": {},
   "outputs": [
    {
     "name": "stdout",
     "output_type": "stream",
     "text": [
      "mirror_selfie__confirmed_224x224_July22nd 305\n",
      "non_mirror_selfie__confirmed_224x224_July22nd 824\n",
      "selfie__confirmed_224x224_July22nd 1\n"
     ]
    }
   ],
   "source": [
    "def scantree(path, ext):\n",
    "    \"\"\"Recursively yield DirEntry objects for given directory.\"\"\"\n",
    "    for entry in os.scandir(path):\n",
    "        if entry.is_dir(follow_symlinks=False):\n",
    "            yield from scantree(entry.path, ext)  # see below for Python 2.x\n",
    "        elif entry.path.endswith(ext):\n",
    "            yield entry\n",
    "\n",
    "def get_img_file_names_in_dir(path, ext):\n",
    "    return [entry.path for entry in scantree(path, ext)]\n",
    "\n",
    "\n",
    "base_path = '/disks/data/paper_projects/selfie_detection/data/DS_July22'\n",
    "\n",
    "class_dirs = ['mirror_selfie__confirmed_224x224_July22nd', 'non_mirror_selfie__confirmed_224x224_July22nd',\n",
    "              'selfie__confirmed_224x224_July22nd']\n",
    "\n",
    "#_, ds_dirname = os.path.split(path) \n",
    "\n",
    "#min_dim_size = 300\n",
    "#min_size_to_resize = 100\n",
    "\n",
    "dirfiles = []\n",
    "for class_dir in class_dirs:\n",
    "    files = get_img_file_names_in_dir(os.path.join(base_path,class_dir), '.jpg')\n",
    "    dirfiles.append( (class_dir, files) )\n",
    "    print(class_dir,len(files))\n",
    "    #print(ds_dirname)"
   ]
  },
  {
   "cell_type": "code",
   "execution_count": 5,
   "metadata": {},
   "outputs": [],
   "source": [
    "# get the frontal face detector\n",
    "detector = dlib.get_frontal_face_detector()\n",
    "        \n",
    "# location of the standard landmark points for a face\n",
    "predictor_path = '../../utils/shape_predictor_68_face_landmarks.dat';\n",
    "\n",
    "# start capture\n",
    "#video_capture = cv2.VideoCapture(0)\n",
    "\n",
    "# build a predictor from the default shape predictor\n",
    "predictor = dlib.shape_predictor(predictor_path);\n",
    "\n",
    "then = datetime.datetime.now()\n",
    "for class_dir, files in dirfiles:\n",
    "    outdir = os.path.join(base_path,class_dir+\"_faces_dlib\")\n",
    "    os.makedirs(outdir,exist_ok=True)\n",
    "    with open(os.path.join(base_path,f'{class_dir}_faces_dlib.txt'),'w') as f:\n",
    "\n",
    "        for ifile, file in enumerate(files):\n",
    "            #count = 1;\n",
    "            #start_time = datetime.now()\n",
    "\n",
    "            img_dir, img_name = os.path.split(file)\n",
    "\n",
    "            #img_small_dir = img_dir.replace(ds_dirname, ds_dirname+'_small')\n",
    "            #os.makedirs(img_small_dir, exist_ok=True)\n",
    "\n",
    "            #img_small_faceinfo_dir = img_dir.replace( ds_dirname, ds_dirname + '_small_faceinfo')\n",
    "            #os.makedirs(img_small_faceinfo_dir, exist_ok=True)\n",
    "            #face_info_file = img_name.replace('.jpg','.info')\n",
    "\n",
    "            #try:\n",
    "            #    frame = plt.imread(file)\n",
    "            #except:\n",
    "            #    continue\n",
    "\n",
    "            #if(frame.shape==() or frame.shape[-1] >3):\n",
    "            #    continue\n",
    "\n",
    "            #frame = Image.open(file)\n",
    "            #orig_img_shape = frame.shape\n",
    "\n",
    "            #min_dim_img = np.min(orig_img_shape[:2])\n",
    "\n",
    "            #if(min_dim_img < 100):\n",
    "            #    continue\n",
    "\n",
    "            #if (min_dim_img > min_size_to_resize):\n",
    "            #    if(orig_img_shape[0] < orig_img_shape[1]):\n",
    "            #        mul_fact = min_dim_size/orig_img_shape[0]\n",
    "            #        img_shape = [min_dim_size, int(orig_img_shape[1]*mul_fact)]\n",
    "            #    else:\n",
    "            #        mul_fact = min_dim_size/orig_img_shape[1]\n",
    "            #       img_shape = [int(orig_img_shape[0]*mul_fact), min_dim_size]\n",
    "\n",
    "            #    frame = cv2.resize(frame, dsize = tuple(img_shape[1::-1]))\n",
    "\n",
    "            #frame = cv2.cvtColor(frame, cv2.COLOR_RGB2BGR)\n",
    "\n",
    "            #print(orig_img_shape)\n",
    "            #print(img_shape)\n",
    "\n",
    "            #i = np.argmin(img_shape[:2])\n",
    "            #img_shape  = np.multiply(np.array(img_shape), 1/shrink_fact).astype(np.int)\n",
    "\n",
    "\n",
    "            #frame = cv2.cvtColor(np.array(ImageOps.fit(frame, img_shape, Image.ANTIALIAS), cv2.COLOR_RGB2BGR))\n",
    "                #\n",
    "\n",
    "            frame = cv2.imread(file)\n",
    "\n",
    "            dets_old = detector(frame, 1)\n",
    "            dets, scores, idx = detector.run(frame, 1, -1)\n",
    "\n",
    "            if not dets:\n",
    "                continue\n",
    "            most_confident_face_idx = np.argmax(scores)\n",
    "            \n",
    "            # for each detected faces\n",
    "            face_areas = [] # stores the area of the bounding box (to only use the largest one)\n",
    "\n",
    "            for i, d in enumerate(dets):\n",
    "\n",
    "                # retrieve the bounding box\n",
    "                x = d.left();\n",
    "                y = d.top();\n",
    "                x2 = d.right();\n",
    "                y2 = d.bottom();\n",
    "\n",
    "                cv2.rectangle(frame,(x,y),(x2,y2),(0,255,0),2)\n",
    "                                \n",
    "                # get the facial shape descriptor\n",
    "                shape = predictor(frame, d);\n",
    "\n",
    "                # for each of the sixty eight detected fiducial feature points\n",
    "                for pts in range(68):\n",
    "                    #print(shape.part(pts).x,shape.part(pts).y,  file = f)\n",
    "                    cv2.circle(frame, (shape.part(pts).x, shape.part(pts).y), 2,(0,0,255))\n",
    "\n",
    "                #if(len(dets) > 1):\n",
    "                #    print('more than one in:', img_name)\n",
    "\n",
    "            conf_det = dets[most_confident_face_idx]\n",
    "            # draw the bounding box\n",
    "            #cv2.rectangle(frame,(x,y),(x2,y2),(0,255,0),2)\n",
    "\n",
    "            x = conf_det.left();\n",
    "            y = conf_det.top();\n",
    "            x2 = conf_det.right();\n",
    "            y2 = conf_det.bottom();\n",
    "\n",
    "            cv2.rectangle(frame,(x,y),(x2,y2),(255,0,0),1)\n",
    "                            \n",
    "            outfile = os.path.join(outdir,img_name.replace(\".jpg\",\".txt\") )\n",
    "            outf = open(outfile, 'w')\n",
    "                                   \n",
    "            print(img_name, end=\" \", file = f)\n",
    "            print(x,y,x2,y2, end=\" \", file = f)\n",
    "            \n",
    "            #print(img_name, end=\" \", file = outf)\n",
    "            print(x,y,x2,y2, end=\" \", file = outf)\n",
    "            \n",
    "                                   \n",
    "            shape = predictor(frame, conf_det);    \n",
    "\n",
    "            for pts in range(68):\n",
    "                print(shape.part(pts).x,shape.part(pts).y, end=\" \",  file = f)                \n",
    "                print(shape.part(pts).x,shape.part(pts).y, end=\" \",  file = outf)                \n",
    "                cv2.circle(frame, (shape.part(pts).x, shape.part(pts).y), 2,(255,0,0))\n",
    "            print(\"\",file=f)\n",
    "            print(\"\",file=outf)\n",
    "            outf.close()\n",
    "            #plt.imshow(frame)\n",
    "            #plt.show()\n",
    "            \n",
    "            if (ifile+1)%500==0:\n",
    "                print(\"Completed\",ifile)            \n",
    "                now = datetime.datetime.now()\n",
    "                print(\"elapsed time:\",now - then)\n",
    "                then = datetime.datetime.now()\n",
    "        #plt.figure(figsize=(20,10))\n",
    "        # show the annotated frame\n",
    "        #plt.imshow(cv2.cvtColor(scipy.misc.imresize(frame,200), cv2.COLOR_BGR2RGB))\n",
    "        #start_time = datetime.now()\n",
    "       # print(frame.shape)"
   ]
  },
  {
   "cell_type": "code",
   "execution_count": 47,
   "metadata": {},
   "outputs": [
    {
     "data": {
      "text/plain": [
       "True"
      ]
     },
     "execution_count": 47,
     "metadata": {},
     "output_type": "execute_result"
    }
   ],
   "source": [
    "not dets"
   ]
  },
  {
   "cell_type": "code",
   "execution_count": 46,
   "metadata": {},
   "outputs": [
    {
     "data": {
      "text/plain": [
       "True"
      ]
     },
     "execution_count": 46,
     "metadata": {},
     "output_type": "execute_result"
    }
   ],
   "source": [
    "not  scores"
   ]
  },
  {
   "cell_type": "code",
   "execution_count": 45,
   "metadata": {},
   "outputs": [
    {
     "data": {
      "text/plain": [
       "array([4, 3, 2, 1, 0])"
      ]
     },
     "execution_count": 45,
     "metadata": {},
     "output_type": "execute_result"
    }
   ],
   "source": [
    "np.argsort(list(reversed([1,2,3,4,5])))"
   ]
  },
  {
   "cell_type": "code",
   "execution_count": 44,
   "metadata": {},
   "outputs": [
    {
     "data": {
      "text/plain": [
       "[5, 4, 3, 2, 1]"
      ]
     },
     "execution_count": 44,
     "metadata": {},
     "output_type": "execute_result"
    }
   ],
   "source": []
  },
  {
   "cell_type": "code",
   "execution_count": null,
   "metadata": {},
   "outputs": [],
   "source": []
  }
 ],
 "metadata": {
  "kernelspec": {
   "display_name": "Python 3",
   "language": "python",
   "name": "python3"
  },
  "language_info": {
   "codemirror_mode": {
    "name": "ipython",
    "version": 3
   },
   "file_extension": ".py",
   "mimetype": "text/x-python",
   "name": "python",
   "nbconvert_exporter": "python",
   "pygments_lexer": "ipython3",
   "version": "3.7.3"
  }
 },
 "nbformat": 4,
 "nbformat_minor": 2
}
