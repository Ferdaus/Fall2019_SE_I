{
 "cells": [
  {
   "cell_type": "code",
   "execution_count": 22,
   "metadata": {},
   "outputs": [],
   "source": [
    "import shutil\n",
    "import glob\n",
    "import pathlib\n",
    "import os"
   ]
  },
  {
   "cell_type": "code",
   "execution_count": 5,
   "metadata": {},
   "outputs": [],
   "source": [
    "base_path = '/disks/data/paper_projects/selfie_detection/data/for_openpose' "
   ]
  },
  {
   "cell_type": "code",
   "execution_count": 6,
   "metadata": {},
   "outputs": [],
   "source": [
    "in_dirs = ['selfie__confirmed_224x224','non_selfie__confirmed_224x224','mirror_selfie__confirmed_224x224','non_mirror_selfie__confirmed_224x224']"
   ]
  },
  {
   "cell_type": "code",
   "execution_count": 8,
   "metadata": {},
   "outputs": [],
   "source": [
    "basepath = pathlib.Path(base_path)"
   ]
  },
  {
   "cell_type": "code",
   "execution_count": 24,
   "metadata": {},
   "outputs": [
    {
     "name": "stdout",
     "output_type": "stream",
     "text": [
      "selfie__confirmed_224x224\n",
      "selfie\n",
      "/disks/data/paper_projects/selfie_detection/data/for_openpose/selfie\n",
      "1888\n",
      "non_selfie__confirmed_224x224\n",
      "non_selfie\n",
      "/disks/data/paper_projects/selfie_detection/data/for_openpose/non_selfie\n",
      "1724\n",
      "mirror_selfie__confirmed_224x224\n",
      "mirror_selfie\n",
      "/disks/data/paper_projects/selfie_detection/data/for_openpose/mirror_selfie\n",
      "1309\n",
      "non_mirror_selfie__confirmed_224x224\n",
      "non_mirror_selfie\n",
      "/disks/data/paper_projects/selfie_detection/data/for_openpose/non_mirror_selfie\n",
      "890\n"
     ]
    }
   ],
   "source": [
    "for in_dir in in_dirs:\n",
    "    out_dir = in_dir[:in_dir.find('__')]+'_onefolders'\n",
    "\n",
    "    img_indir = basepath/in_dir\n",
    "    img_root_outdir = basepath/out_dir\n",
    "    os.makedirs(img_root_outdir, exist_ok=True)\n",
    "    print(in_dir)\n",
    "    print(out_dir)\n",
    "    print(img_root_outdir)\n",
    "    \n",
    "    \n",
    "    files = [f for f in img_indir.glob(\"**/*.jpg\")]\n",
    "    print(len(files))\n",
    "    for i, img_file in enumerate(files):\n",
    "        img_outdir = img_root_outdir/str(i)\n",
    "        os.makedirs(img_outdir, exist_ok=True)\n",
    "        shutil.copy2(img_file, img_outdir)\n",
    "        "
   ]
  },
  {
   "cell_type": "code",
   "execution_count": 14,
   "metadata": {},
   "outputs": [],
   "source": []
  },
  {
   "cell_type": "code",
   "execution_count": null,
   "metadata": {},
   "outputs": [],
   "source": []
  },
  {
   "cell_type": "code",
   "execution_count": null,
   "metadata": {},
   "outputs": [],
   "source": []
  },
  {
   "cell_type": "code",
   "execution_count": null,
   "metadata": {},
   "outputs": [],
   "source": []
  }
 ],
 "metadata": {
  "kernelspec": {
   "display_name": "Python 3",
   "language": "python",
   "name": "python3"
  },
  "language_info": {
   "codemirror_mode": {
    "name": "ipython",
    "version": 3
   },
   "file_extension": ".py",
   "mimetype": "text/x-python",
   "name": "python",
   "nbconvert_exporter": "python",
   "pygments_lexer": "ipython3",
   "version": "3.7.3"
  }
 },
 "nbformat": 4,
 "nbformat_minor": 2
}
