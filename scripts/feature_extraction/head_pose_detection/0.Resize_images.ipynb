{
 "cells": [
  {
   "cell_type": "markdown",
   "metadata": {},
   "source": [
    "## Resize images to 224x224 for applying to ResNet"
   ]
  },
  {
   "cell_type": "code",
   "execution_count": 5,
   "metadata": {},
   "outputs": [],
   "source": [
    "import cv2\n",
    "import numpy as np\n",
    "import os\n",
    "from os.path import isfile, join"
   ]
  },
  {
   "cell_type": "code",
   "execution_count": 55,
   "metadata": {},
   "outputs": [
    {
     "data": {
      "text/plain": [
       "'224x224'"
      ]
     },
     "execution_count": 55,
     "metadata": {},
     "output_type": "execute_result"
    }
   ],
   "source": [
    "classes = (\"selfie__confirmed\",\"non_selfie__confirmed\",\"mirror_selfie__confirmed\",\"non_mirror_selfie__confirmed\")\n",
    "\n",
    "path= '/disks/data/paper_projects/selfie_detection/data/DS_merged/all/confirmed_/'\n",
    "\n",
    "sz = (224,224)\n",
    "\n",
    "\"x\".join(map(str,sz))"
   ]
  },
  {
   "cell_type": "code",
   "execution_count": 56,
   "metadata": {},
   "outputs": [],
   "source": [
    "for classname in classes:\n",
    "    os.makedirs( path + classname+\"_\"+\"x\".join(map(str,sz)))\n",
    "\n",
    "# #print(pathIn.rfind('/',0,-2))\n",
    "# img_foldername = pathIn[pathIn.rfind('/',0,-2)+1:-1]\n",
    "# #print(img_foldername)\n",
    "# img_folderpath = pathIn[:pathIn.rfind('/',0,-2)]\n",
    "\n",
    "# pathOut = f'{img_folderpath}/{img_foldername.replace(\" \",\"_\")}'\n",
    "# frame_filenames_file = f'{img_folderpath}/{img_foldername.replace(\" \",\"_\")}_vidframenames.txt'\n",
    "\n",
    "# print(pathOut)\n",
    "# print(frame_filenames_file)"
   ]
  },
  {
   "cell_type": "code",
   "execution_count": 57,
   "metadata": {},
   "outputs": [],
   "source": [
    "for classname in classes:\n",
    "    imgfolder = path+classname+\"/\"\n",
    "    files = [f for f in os.listdir(imgfolder) if isfile(join(imgfolder, f))]\n",
    "    for i in range(len(files)):\n",
    "        filename=imgfolder + files[i]\n",
    "        #reading each files\n",
    "        img = cv2.imread(filename)\n",
    "        new_filename = filename.replace(classname, classname+\"_\"+\"x\".join(map(str,sz)))\n",
    "        img = cv2.resize(img,sz)\n",
    "        #print(new_filename)\n",
    "        cv2.imwrite(new_filename, img)\n",
    "        "
   ]
  },
  {
   "cell_type": "code",
   "execution_count": 58,
   "metadata": {},
   "outputs": [],
   "source": [
    "# from matplotlib import pyplot as plt\n",
    "# import numpy as np \n",
    "\n",
    "# plt.imshow(cv2.cvtColor(img, cv2.COLOR_BGR2RGB))"
   ]
  },
  {
   "cell_type": "code",
   "execution_count": 59,
   "metadata": {},
   "outputs": [],
   "source": [
    "# filename, new_filename"
   ]
  },
  {
   "cell_type": "code",
   "execution_count": 60,
   "metadata": {},
   "outputs": [],
   "source": [
    "# !ls {'/disks/data/paper_projects/selfie_detection/data/DS_merged/all/confirmed_/non_mirror_selfie__confirmed_300x300/'}"
   ]
  },
  {
   "cell_type": "code",
   "execution_count": 61,
   "metadata": {},
   "outputs": [],
   "source": [
    "# !ls {'/disks/data/paper_projects/selfie_detection/data/DS_merged/all/confirmed_/non_mirror_selfie__confirmed_300_300'}"
   ]
  },
  {
   "cell_type": "code",
   "execution_count": 62,
   "metadata": {},
   "outputs": [],
   "source": [
    "# cv2.imwrite(\"./1.jpg\", img)"
   ]
  },
  {
   "cell_type": "code",
   "execution_count": null,
   "metadata": {},
   "outputs": [],
   "source": []
  }
 ],
 "metadata": {
  "kernelspec": {
   "display_name": "Python 3",
   "language": "python",
   "name": "python3"
  },
  "language_info": {
   "codemirror_mode": {
    "name": "ipython",
    "version": 3
   },
   "file_extension": ".py",
   "mimetype": "text/x-python",
   "name": "python",
   "nbconvert_exporter": "python",
   "pygments_lexer": "ipython3",
   "version": "3.7.3"
  }
 },
 "nbformat": 4,
 "nbformat_minor": 2
}
