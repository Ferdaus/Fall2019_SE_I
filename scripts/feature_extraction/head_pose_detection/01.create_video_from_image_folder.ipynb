{
 "cells": [
  {
   "cell_type": "markdown",
   "metadata": {},
   "source": [
    "## Create video from image folder for detecting faces using dockerface, then head pose using deep-head-pose\n",
    "\n",
    "dockerface: https://github.com/natanielruiz/dockerface (script needed modification: modified file available in a sub-directory here)<br>\n",
    "\n",
    "install docker, nvidia-docker, run docker image with anchored local directory, install caffe\n",
    "\n",
    "after done, cleanup docker downloaded data with:\n",
    "\n",
    "docker system prune -a -f<br>\n",
    "docker system prune --volumes<br>\n",
    "docker system prune<br>\n",
    "\n",
    "\n",
    "deep-head-pose: https://github.com/natanielruiz/deep-head-pose (script needed modification: modified file available in a sub-directory here) <br>\n",
    "installation:\n",
    "conda install pytorch=0.4.1 cuda90 -c pytorch<br>\n",
    "conda install -c conda-forge opencv<br>\n",
    "conda install torchvision -c pytorch\n",
    "\n",
    "In [1]: import torch\n",
    "\n",
    "In [2]: torch.__version__\n",
    "Out[2]: '0.4.1.post2'\n",
    "\n",
    "In [3]: import cv2\n",
    "\n",
    "In [4]: cv2.__version__\n",
    "Out[4]: '3.1.0'\n",
    "\n",
    "In [5]: import torchvision\n",
    "\n",
    "In [6]: torchvision.__version__\n",
    "Out[6]: '0.2.1'"
   ]
  },
  {
   "cell_type": "code",
   "execution_count": 1,
   "metadata": {},
   "outputs": [],
   "source": [
    "import cv2\n",
    "import numpy as np\n",
    "import os\n",
    "from os.path import isfile, join\n",
    "\n",
    "#python code/test_on_video_dockerface.py --snapshot hopenet_robust_alpha1.pkl --video /home/tarik/data/selfie__confirmed_224x224_July22nd.avi --bboxes /home/tarik/data/selfie__confirmed_faces_July22nd.txt --output_string selfie --n_frames 1 --fps 30"
   ]
  },
  {
   "cell_type": "code",
   "execution_count": 6,
   "metadata": {},
   "outputs": [
    {
     "name": "stdout",
     "output_type": "stream",
     "text": [
      "/home/tarik/data/selfie__confirmed_224x224_July22nd.avi\n",
      "/home/tarik/data/selfie__confirmed_224x224_July22nd_vidframenames.txt\n"
     ]
    }
   ],
   "source": [
    "pathIn= '/disks/data/paper_projects/selfie_detection/data/DS_merged/all/confirmed_/selfie__confirmed/'\n",
    "\n",
    "\n",
    "#print(pathIn.rfind('/',0,-2))\n",
    "img_foldername = pathIn[pathIn.rfind('/',0,-2)+1:-1]\n",
    "#print(img_foldername)\n",
    "img_folderpath = pathIn[:pathIn.rfind('/',0,-2)]\n",
    "\n",
    "pathOut = f'{img_folderpath}/{img_foldername.replace(\" \",\"_\")}.avi'\n",
    "frame_filenames_file = f'{img_folderpath}/{img_foldername.replace(\" \",\"_\")}_vidframenames.txt'\n",
    "\n",
    "print(pathOut)\n",
    "print(frame_filenames_file)"
   ]
  },
  {
   "cell_type": "code",
   "execution_count": 7,
   "metadata": {},
   "outputs": [],
   "source": [
    "fps = 1\n",
    "frame_array = []\n",
    "files = [f for f in os.listdir(pathIn) if isfile(join(pathIn, f))]\n",
    "#for sorting the file names properly\n",
    "files.sort(key = lambda x: x[5:-4])\n",
    "files.sort()\n",
    "frame_array = []\n",
    "files = [f for f in os.listdir(pathIn) if isfile(join(pathIn, f))]\n",
    "#for sorting the file names properly\n",
    "files.sort(key = lambda x: x[5:-4])\n",
    "with open(frame_filenames_file,'w') as f:\n",
    "    frame_fnames = []\n",
    "    for i in range(len(files)):\n",
    "        filename=pathIn + files[i]\n",
    "        #reading each files\n",
    "        img = cv2.imread(filename)\n",
    "        img = cv2.resize(img,(300,300))\n",
    "        frame_fnames.append(filename)\n",
    "        height, width, layers = img.shape\n",
    "        size = (width,height)\n",
    "\n",
    "        #inserting the frames into an image array\n",
    "        frame_array.append(img)\n",
    "    [f.write(fname+\"\\n\") for fname in frame_fnames]    \n",
    "fourcc = cv2.VideoWriter_fourcc(*'MJPG')    \n",
    "#out = cv2.VideoWriter(pathOut,cv2.VideoWriter_fourcc(*'DIVX'), fps, size)\n",
    "out = cv2.VideoWriter(pathOut, fourcc, 1, size)\n",
    "for i in range(len(frame_array)):\n",
    "    # writing to a image array\n",
    "    out.write(frame_array[i])\n",
    "out.release()"
   ]
  },
  {
   "cell_type": "code",
   "execution_count": null,
   "metadata": {},
   "outputs": [],
   "source": []
  },
  {
   "cell_type": "code",
   "execution_count": 12,
   "metadata": {},
   "outputs": [],
   "source": [
    "# pathOut = '/home/tarik/data/video/selfie_video.avi'\n",
    "# video = cv2.VideoCapture(pathOut)\n",
    "\n",
    "# width = int(video.get(cv2.CAP_PROP_FRAME_WIDTH))   # float\n",
    "# height = int(video.get(cv2.CAP_PROP_FRAME_HEIGHT)) # float\n",
    "\n",
    "# n_frame = 0\n",
    "# # TODO: add time function per frame.\n",
    "# while (True):\n",
    "#     ret, frame = video.read()\n",
    "\n",
    "#     if ret == True:        \n",
    "#         n_frame += 1\n",
    "#     else:\n",
    "#         break\n",
    "\n",
    "# print(n_frame)\n",
    "# video.release()\n",
    "\n"
   ]
  },
  {
   "cell_type": "code",
   "execution_count": null,
   "metadata": {},
   "outputs": [],
   "source": []
  },
  {
   "cell_type": "code",
   "execution_count": null,
   "metadata": {},
   "outputs": [],
   "source": []
  },
  {
   "cell_type": "code",
   "execution_count": null,
   "metadata": {},
   "outputs": [],
   "source": []
  }
 ],
 "metadata": {
  "kernelspec": {
   "display_name": "Python 3",
   "language": "python",
   "name": "python3"
  },
  "language_info": {
   "codemirror_mode": {
    "name": "ipython",
    "version": 3
   },
   "file_extension": ".py",
   "mimetype": "text/x-python",
   "name": "python",
   "nbconvert_exporter": "python",
   "pygments_lexer": "ipython3",
   "version": "3.7.3"
  }
 },
 "nbformat": 4,
 "nbformat_minor": 2
}
